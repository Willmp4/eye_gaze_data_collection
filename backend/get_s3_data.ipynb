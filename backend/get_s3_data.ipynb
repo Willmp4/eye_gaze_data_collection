{
 "cells": [
  {
   "cell_type": "code",
   "execution_count": 18,
   "metadata": {},
   "outputs": [],
   "source": [
    "import boto3\n",
    "import json\n",
    "import os\n",
    "def get_metadata(bucket_name, metadata_file_key, s3_client):\n",
    "    try:\n",
    "        metadata_object = s3_client.get_object(Bucket=bucket_name, Key=metadata_file_key)\n",
    "        metadata_content = metadata_object['Body'].read().decode('utf-8')\n",
    "        metadata = json.loads(metadata_content)\n",
    "        return metadata\n",
    "    except Exception as e:\n",
    "        print(f\"Error retrieving metadata from S3: {e}\")\n",
    "        return None\n"
   ]
  },
  {
   "cell_type": "code",
   "execution_count": 19,
   "metadata": {},
   "outputs": [],
   "source": [
    "def flag_for_processing(key, needs_processing_dir):\n",
    "    # Here you would implement logic to flag the directory for processing.\n",
    "    # This could involve appending the key to a list in a file.\n",
    "    flag_file_path = os.path.join(needs_processing_dir, 'to_process.txt')\n",
    "    with open(flag_file_path, 'a') as file:\n",
    "        file.write(key + '\\n')\n",
    "    print(f\"Directory flagged for processing: {key}\")\n",
    "\n",
    "import os\n",
    "from botocore.exceptions import ClientError\n",
    "\n",
    "def download_data(key_prefix, local_base_dir, s3_client, bucket_name):\n",
    "    paginator = s3_client.get_paginator('list_objects_v2')\n",
    "    for page in paginator.paginate(Bucket=bucket_name, Prefix=key_prefix):\n",
    "        for obj in page.get('Contents', []):\n",
    "            s3_object_key = obj['Key']\n",
    "            if s3_object_key.endswith('/'):\n",
    "                continue\n",
    "            local_file_path = os.path.join(local_base_dir, s3_object_key)\n",
    "            os.makedirs(os.path.dirname(local_file_path), exist_ok=True)\n",
    "\n",
    "            # Check if file exists and the size matches\n",
    "            try:\n",
    "                local_file_info = os.stat(local_file_path)\n",
    "                s3_object_info = s3_client.head_object(Bucket=bucket_name, Key=s3_object_key)\n",
    "                if local_file_info.st_size == s3_object_info['ContentLength']:\n",
    "                    print(f\"File {s3_object_key} already exists locally and is up to date. Skipping download.\")\n",
    "                    continue\n",
    "            except (FileNotFoundError, ClientError):\n",
    "                # If the file is not found locally or there's an error getting info from S3, proceed to download\n",
    "                pass\n",
    "\n",
    "            s3_client.download_file(bucket_name, s3_object_key, local_file_path)\n",
    "            print(f\"Downloaded {s3_object_key} to {local_file_path}\")\n"
   ]
  },
  {
   "cell_type": "code",
   "execution_count": 23,
   "metadata": {},
   "outputs": [],
   "source": [
    "def process_s3_bucket_data(bucket_name, processed_dir, needs_processing_dir):\n",
    "    s3_client = boto3.client('s3')\n",
    "    \n",
    "    paginator = s3_client.get_paginator('list_objects_v2')\n",
    "    print(f\"Retrieving all S3 objects from bucket: {bucket_name}\")\n",
    "    page_iterator = paginator.paginate(Bucket=bucket_name)\n",
    "\n",
    "    for page in page_iterator:\n",
    "        for content in page.get('Contents', []):\n",
    "            key = content['Key']\n",
    "            if key.endswith('/metadata.json'):  # It's a metadata file\n",
    "                metadata = get_metadata(bucket_name, key, s3_client)\n",
    "                if metadata and 'cameraInfo' in metadata:\n",
    "                    # New data directory, flag for processing\n",
    "                    flag_for_processing('/'.join(key.split('/')[:-1]) + '/', needs_processing_dir)\n",
    "                elif metadata:\n",
    "                    # Old data directory, download as is\n",
    "                    download_data('/'.join(key.split('/')[:-1]) + '/', processed_dir, s3_client, bucket_name)\n",
    "            else:\n",
    "                print(f\"Processing key: {key}\")"
   ]
  },
  {
   "cell_type": "code",
   "execution_count": 16,
   "metadata": {},
   "outputs": [],
   "source": [
    "# Example usage:\n",
    "bucket_name = 'eye-gaze-data'\n",
    "processed_dir = './data/processed'\n",
    "needs_processing_dir = './data/needs_processing'\n",
    "\n",
    "# os.makedirs(processed_dir, exist_ok=True)\n",
    "# os.makedirs(needs_processing_dir, exist_ok=True)\n",
    "\n",
    "# process_s3_bucket_data(bucket_name, processed_dir, needs_processing_dir)"
   ]
  },
  {
   "cell_type": "markdown",
   "metadata": {},
   "source": [
    "# Process un-processed images"
   ]
  },
  {
   "cell_type": "code",
   "execution_count": 14,
   "metadata": {},
   "outputs": [],
   "source": [
    "from image_processing import * \n",
    "import dlib\n",
    "import cv2\n",
    "import numpy as np\n",
    "import os\n",
    "detector = dlib.get_frontal_face_detector()\n",
    "predictor = dlib.shape_predictor('shape_predictor_68_face_landmarks.dat')\n"
   ]
  },
  {
   "cell_type": "code",
   "execution_count": 7,
   "metadata": {},
   "outputs": [],
   "source": [
    "def read_directories_to_process(file_path):\n",
    "    with open(file_path, 'r') as file:\n",
    "        directories = file.read().splitlines()\n",
    "    return directories\n"
   ]
  },
  {
   "cell_type": "code",
   "execution_count": 8,
   "metadata": {},
   "outputs": [],
   "source": [
    "def get_camera_info(metadata_file_path):\n",
    "    with open(metadata_file_path, 'r') as metadata_file:\n",
    "        metadata = json.load(metadata_file)\n",
    "    return metadata['screenData'], metadata['cameraInfo']"
   ]
  },
  {
   "cell_type": "code",
   "execution_count": 9,
   "metadata": {},
   "outputs": [],
   "source": [
    "def pre_process_image(image):\n",
    "    gray = cv2.cvtColor(image, cv2.COLOR_BGR2GRAY)\n",
    "    dlib_faces = detector(gray)\n",
    "\n",
    "    processed_data = []\n",
    "\n",
    "    for dlib_face in dlib_faces:\n",
    "        shape = predictor(gray, dlib_face)\n",
    "\n",
    "        for (i, (start, end)) in enumerate([(36,42), (42,48)]):\n",
    "            eye_image, (eye_min_x, eye_min_y, eye_max_x, eye_max_y) = extract_eye_region(gray, shape, range(start, end))\n",
    "            eye_image_b = convert_eye_to_binary(eye_image)\n",
    "            pupil_center, _ = detect_pupil(eye_image_b)\n",
    "\n",
    "            if pupil_center:\n",
    "                pupil_center_global = (pupil_center[0] + eye_min_x, pupil_center[1] + eye_min_y)\n",
    "                pupil_center_global = tuple(pc.item() if isinstance(pc, np.generic) else pc for pc in pupil_center_global)\n",
    "                bounding_box = (eye_min_x, eye_min_y, eye_max_x - eye_min_x, eye_max_y - eye_min_y)\n",
    "                bounding_box = tuple(bb.item() if isinstance(bb, np.generic) else bb for bb in bounding_box)\n",
    "\n",
    "\n",
    "                eye_data = {\n",
    "                    'eye_position': 'left' if i == 0 else 'right',\n",
    "                    'pupil_center': pupil_center_global,\n",
    "                    'bounding_box': bounding_box\n",
    "                }\n",
    "                processed_data.append(eye_data)\n",
    "\n",
    "                left_eye_info = None\n",
    "                right_eye_info = None\n",
    "                left_eye_bbox = None\n",
    "                right_eye_bbox = None\n",
    "\n",
    "                for eye_data in processed_data:\n",
    "                    if eye_data['eye_position'] == 'left':\n",
    "                        left_eye_info = eye_data['pupil_center']\n",
    "                        left_eye_bbox = eye_data['bounding_box']\n",
    "                    else:\n",
    "                        right_eye_info = eye_data['pupil_center']\n",
    "                        right_eye_bbox = eye_data['bounding_box']\n",
    "        break\n",
    "    return processed_data, left_eye_info, right_eye_info, left_eye_bbox, right_eye_bbox, shape"
   ]
  },
  {
   "cell_type": "code",
   "execution_count": 10,
   "metadata": {},
   "outputs": [],
   "source": [
    "import pandas as pd\n",
    "\n",
    "def process_images_in_directory(directory_path, camera_matrix, dist_coeffs, processed_dir):\n",
    "    # Assuming the structure has subfolders for calibration and eye-gaze data\n",
    "    calibration_dir = os.path.join(directory_path, 'calibration_images')\n",
    "    eye_gaze_dir = os.path.join(directory_path, 'eye_gaze_images')\n",
    "\n",
    "    processed_results = []\n",
    "\n",
    "    for image_dir in [calibration_dir, eye_gaze_dir]:\n",
    "        if os.path.exists(image_dir):\n",
    "            image_files = [os.path.join(image_dir, f) for f in os.listdir(image_dir) if f.endswith('.png')]\n",
    "\n",
    "            for image_file in image_files:\n",
    "                image = cv2.imread(image_file)\n",
    "                if image is not None:\n",
    "                    processed_data, left_eye_info, right_eye_info, left_eye_bbox, right_eye_bbox, shape = pre_process_image(image, camera_matrix, dist_coeffs)\n",
    "                    processed_results.append({\n",
    "                        'image_file': image_file,\n",
    "                        'processed_data': processed_data,\n",
    "                        'type': 'calibration' if image_dir == calibration_dir else 'eye_gaze',\n",
    "                        'left_eye_info': left_eye_info,\n",
    "                        'right_eye_info': right_eye_info,\n",
    "                        'left_eye_bbox': left_eye_bbox,\n",
    "                        'right_eye_bbox': right_eye_bbox,\n",
    "                        'shape': shape\n",
    "                    })\n",
    "\n",
    "                    # Save the processed image if needed\n",
    "                    processed_image_path = os.path.join(processed_dir, os.path.relpath(image_file, directory_path))\n",
    "                    os.makedirs(os.path.dirname(processed_image_path), exist_ok=True)\n",
    "                    cv2.imwrite(processed_image_path, image)  # Assuming you want to save the original image\n",
    "\n",
    "    return processed_results\n"
   ]
  },
  {
   "cell_type": "code",
   "execution_count": 22,
   "metadata": {},
   "outputs": [],
   "source": [
    "def save_processed_data_to_csv(processed_results, processed_dir):\n",
    "    for result in processed_results:\n",
    "        csv_data = {\n",
    "            # Extract and structure the data you want to save to CSV\n",
    "            'image_file': result['image_file'],\n",
    "            'eye_position': result['processed_data']['eye_position'] if 'eye_position' in result['processed_data'] else '',\n",
    "            'pupil_center_x': result['processed_data']['pupil_center'][0] if 'pupil_center' in result['processed_data'] else '',\n",
    "            'pupil_center_y': result['processed_data']['pupil_center'][1] if 'pupil_center' in result['processed_data'] else '',\n",
    "            # Add other fields as needed\n",
    "        }\n",
    "        csv_file_path = os.path.join(processed_dir, os.path.basename(result['image_file']).replace('.png', '.csv'))\n",
    "        df = pd.DataFrame([csv_data])\n",
    "        df.to_csv(csv_file_path, index=False)\n",
    "\n",
    "def process_directories(s3_client, bucket_name, directories, processed_dir):\n",
    "    print(f\"Processing {directories} directories\")\n",
    "    for directory in directories:\n",
    "        # Handle metadata and download images\n",
    "        metadata_file_path = os.path.join(directory, 'metadata.json')\n",
    "        screen_data, camera_info = get_camera_info(metadata_file_path)\n",
    "        camera_matrix = np.array(camera_info[0])\n",
    "        dist_coeffs = np.array(camera_info[1])\n",
    "        download_data(directory, processed_dir, s3_client, bucket_name)\n",
    "\n",
    "        # Process images in the directory\n",
    "        directory_path = os.path.join(processed_dir, directory)\n",
    "        processed_results = process_images_in_directory(directory_path, camera_matrix, dist_coeffs, processed_dir)\n",
    "\n",
    "        # Save processed results and d\n",
    "        save_processed_data_to_csv(processed_results, processed_dir)\n"
   ]
  },
  {
   "cell_type": "code",
   "execution_count": 24,
   "metadata": {},
   "outputs": [
    {
     "name": "stdout",
     "output_type": "stream",
     "text": [
      "Processing ['data/test/'] directories\n"
     ]
    },
    {
     "ename": "FileNotFoundError",
     "evalue": "[Errno 2] No such file or directory: './data/processed\\\\data/test/metadata.json'",
     "output_type": "error",
     "traceback": [
      "\u001b[1;31m---------------------------------------------------------------------------\u001b[0m",
      "\u001b[1;31mFileNotFoundError\u001b[0m                         Traceback (most recent call last)",
      "\u001b[1;32m~\\AppData\\Local\\Temp\\ipykernel_26280\\94289820.py\u001b[0m in \u001b[0;36m<module>\u001b[1;34m\u001b[0m\n\u001b[1;32m----> 1\u001b[1;33m \u001b[0mprocess_directories\u001b[0m\u001b[1;33m(\u001b[0m\u001b[1;34m's3'\u001b[0m\u001b[1;33m,\u001b[0m \u001b[1;34m'eye-gaze-data'\u001b[0m\u001b[1;33m,\u001b[0m \u001b[0mread_directories_to_process\u001b[0m\u001b[1;33m(\u001b[0m\u001b[0mos\u001b[0m\u001b[1;33m.\u001b[0m\u001b[0mpath\u001b[0m\u001b[1;33m.\u001b[0m\u001b[0mjoin\u001b[0m\u001b[1;33m(\u001b[0m\u001b[0mneeds_processing_dir\u001b[0m\u001b[1;33m,\u001b[0m \u001b[1;34m'to_process.txt'\u001b[0m\u001b[1;33m)\u001b[0m\u001b[1;33m)\u001b[0m\u001b[1;33m,\u001b[0m \u001b[0mprocessed_dir\u001b[0m\u001b[1;33m)\u001b[0m\u001b[1;33m\u001b[0m\u001b[1;33m\u001b[0m\u001b[0m\n\u001b[0m",
      "\u001b[1;32m~\\AppData\\Local\\Temp\\ipykernel_26280\\3755327357.py\u001b[0m in \u001b[0;36mprocess_directories\u001b[1;34m(s3_client, bucket_name, directories, processed_dir)\u001b[0m\n\u001b[0;32m     18\u001b[0m         \u001b[1;31m# Handle metadata and download images\u001b[0m\u001b[1;33m\u001b[0m\u001b[1;33m\u001b[0m\u001b[1;33m\u001b[0m\u001b[0m\n\u001b[0;32m     19\u001b[0m         \u001b[0mmetadata_file_path\u001b[0m \u001b[1;33m=\u001b[0m \u001b[0mos\u001b[0m\u001b[1;33m.\u001b[0m\u001b[0mpath\u001b[0m\u001b[1;33m.\u001b[0m\u001b[0mjoin\u001b[0m\u001b[1;33m(\u001b[0m\u001b[0mprocessed_dir\u001b[0m\u001b[1;33m,\u001b[0m \u001b[0mdirectory\u001b[0m\u001b[1;33m,\u001b[0m \u001b[1;34m'metadata.json'\u001b[0m\u001b[1;33m)\u001b[0m\u001b[1;33m\u001b[0m\u001b[1;33m\u001b[0m\u001b[0m\n\u001b[1;32m---> 20\u001b[1;33m         \u001b[0mscreen_data\u001b[0m\u001b[1;33m,\u001b[0m \u001b[0mcamera_info\u001b[0m \u001b[1;33m=\u001b[0m \u001b[0mget_camera_info\u001b[0m\u001b[1;33m(\u001b[0m\u001b[0mmetadata_file_path\u001b[0m\u001b[1;33m)\u001b[0m\u001b[1;33m\u001b[0m\u001b[1;33m\u001b[0m\u001b[0m\n\u001b[0m\u001b[0;32m     21\u001b[0m         \u001b[0mcamera_matrix\u001b[0m \u001b[1;33m=\u001b[0m \u001b[0mnp\u001b[0m\u001b[1;33m.\u001b[0m\u001b[0marray\u001b[0m\u001b[1;33m(\u001b[0m\u001b[0mcamera_info\u001b[0m\u001b[1;33m[\u001b[0m\u001b[1;36m0\u001b[0m\u001b[1;33m]\u001b[0m\u001b[1;33m)\u001b[0m\u001b[1;33m\u001b[0m\u001b[1;33m\u001b[0m\u001b[0m\n\u001b[0;32m     22\u001b[0m         \u001b[0mdist_coeffs\u001b[0m \u001b[1;33m=\u001b[0m \u001b[0mnp\u001b[0m\u001b[1;33m.\u001b[0m\u001b[0marray\u001b[0m\u001b[1;33m(\u001b[0m\u001b[0mcamera_info\u001b[0m\u001b[1;33m[\u001b[0m\u001b[1;36m1\u001b[0m\u001b[1;33m]\u001b[0m\u001b[1;33m)\u001b[0m\u001b[1;33m\u001b[0m\u001b[1;33m\u001b[0m\u001b[0m\n",
      "\u001b[1;32m~\\AppData\\Local\\Temp\\ipykernel_26280\\841314795.py\u001b[0m in \u001b[0;36mget_camera_info\u001b[1;34m(metadata_file_path)\u001b[0m\n\u001b[0;32m      1\u001b[0m \u001b[1;32mdef\u001b[0m \u001b[0mget_camera_info\u001b[0m\u001b[1;33m(\u001b[0m\u001b[0mmetadata_file_path\u001b[0m\u001b[1;33m)\u001b[0m\u001b[1;33m:\u001b[0m\u001b[1;33m\u001b[0m\u001b[1;33m\u001b[0m\u001b[0m\n\u001b[1;32m----> 2\u001b[1;33m     \u001b[1;32mwith\u001b[0m \u001b[0mopen\u001b[0m\u001b[1;33m(\u001b[0m\u001b[0mmetadata_file_path\u001b[0m\u001b[1;33m,\u001b[0m \u001b[1;34m'r'\u001b[0m\u001b[1;33m)\u001b[0m \u001b[1;32mas\u001b[0m \u001b[0mmetadata_file\u001b[0m\u001b[1;33m:\u001b[0m\u001b[1;33m\u001b[0m\u001b[1;33m\u001b[0m\u001b[0m\n\u001b[0m\u001b[0;32m      3\u001b[0m         \u001b[0mmetadata\u001b[0m \u001b[1;33m=\u001b[0m \u001b[0mjson\u001b[0m\u001b[1;33m.\u001b[0m\u001b[0mload\u001b[0m\u001b[1;33m(\u001b[0m\u001b[0mmetadata_file\u001b[0m\u001b[1;33m)\u001b[0m\u001b[1;33m\u001b[0m\u001b[1;33m\u001b[0m\u001b[0m\n\u001b[0;32m      4\u001b[0m     \u001b[1;32mreturn\u001b[0m \u001b[0mmetadata\u001b[0m\u001b[1;33m[\u001b[0m\u001b[1;34m'screenData'\u001b[0m\u001b[1;33m]\u001b[0m\u001b[1;33m,\u001b[0m \u001b[0mmetadata\u001b[0m\u001b[1;33m[\u001b[0m\u001b[1;34m'cameraInfo'\u001b[0m\u001b[1;33m]\u001b[0m\u001b[1;33m\u001b[0m\u001b[1;33m\u001b[0m\u001b[0m\n",
      "\u001b[1;31mFileNotFoundError\u001b[0m: [Errno 2] No such file or directory: './data/processed\\\\data/test/metadata.json'"
     ]
    }
   ],
   "source": [
    "process_directories('s3', 'eye-gaze-data', read_directories_to_process(os.path.join(needs_processing_dir, 'to_process.txt')), processed_dir)"
   ]
  },
  {
   "cell_type": "code",
   "execution_count": null,
   "metadata": {},
   "outputs": [],
   "source": []
  }
 ],
 "metadata": {
  "kernelspec": {
   "display_name": "tf2.10_eye_gaze",
   "language": "python",
   "name": "python3"
  },
  "language_info": {
   "codemirror_mode": {
    "name": "ipython",
    "version": 3
   },
   "file_extension": ".py",
   "mimetype": "text/x-python",
   "name": "python",
   "nbconvert_exporter": "python",
   "pygments_lexer": "ipython3",
   "version": "3.7.16"
  }
 },
 "nbformat": 4,
 "nbformat_minor": 2
}
