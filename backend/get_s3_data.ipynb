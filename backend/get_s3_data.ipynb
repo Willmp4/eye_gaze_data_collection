{
 "cells": [
  {
   "cell_type": "code",
   "execution_count": 6,
   "metadata": {},
   "outputs": [],
   "source": [
    "import boto3\n",
    "import json\n",
    "import os\n",
    "def get_metadata(bucket_name, metadata_file_key, s3_client):\n",
    "    try:\n",
    "        metadata_object = s3_client.get_object(Bucket=bucket_name, Key=metadata_file_key)\n",
    "        metadata_content = metadata_object['Body'].read().decode('utf-8')\n",
    "        metadata = json.loads(metadata_content)\n",
    "        return metadata\n",
    "    except Exception as e:\n",
    "        print(f\"Error retrieving metadata from S3: {e}\")\n",
    "        return None\n"
   ]
  },
  {
   "cell_type": "code",
   "execution_count": 3,
   "metadata": {},
   "outputs": [],
   "source": [
    "def list_eye_gaze_images(bucket_name, eye_gaze_images_folder, s3_client):\n",
    "    try:\n",
    "        response = s3_client.list_objects_v2(Bucket=bucket_name, Prefix=eye_gaze_images_folder)\n",
    "        image_paths = [item['Key'] for item in response.get('Contents', [])]\n",
    "        return image_paths\n",
    "    except Exception as e:\n",
    "        print(f\"Error listing eye gaze images from S3: {e}\")\n",
    "        return []\n"
   ]
  },
  {
   "cell_type": "code",
   "execution_count": 4,
   "metadata": {},
   "outputs": [],
   "source": [
    "def get_eye_gaze_data(bucket_name, csv_file_key, s3_client):\n",
    "    try:\n",
    "        csv_object = s3_client.get_object(Bucket=bucket_name, Key=csv_file_key)\n",
    "        csv_content = csv_object['Body'].read().decode('utf-8')\n",
    "        return csv_content\n",
    "    except Exception as e:\n",
    "        print(f\"Error retrieving eye gaze CSV from S3: {e}\")\n",
    "        return None\n"
   ]
  },
  {
   "cell_type": "code",
   "execution_count": 5,
   "metadata": {},
   "outputs": [
    {
     "name": "stdout",
     "output_type": "stream",
     "text": [
      "Metadata: {'screenData': {'screenWidth': 1707, 'screenHeight': 960, 'devicePixelRatio': 1.5}, 'cameraInfo': [[[560, 0, 320], [0, 560, 240], [0, 0, 1]], [0, 0, 0, 0, 0]]}\n",
      "Eye Gaze Image Paths: ['data/test/eye_gaze_images/test_1630a44c-f4e9-471a-84a6-2a09290dc1e6.png', 'data/test/eye_gaze_images/test_1a12493e-555f-489c-81af-24594304d193.png', 'data/test/eye_gaze_images/test_271aa562-c66d-4843-a8a4-f48ed9e7ca0f.png', 'data/test/eye_gaze_images/test_2b8fc677-37df-426c-8ab7-cbe3c3d4bf38.png', 'data/test/eye_gaze_images/test_6d47b255-3db7-4ef9-98f7-fc0e354151f1.png', 'data/test/eye_gaze_images/test_6e1d913c-afb9-4b9b-bdc6-b96b1eb66ec9.png', 'data/test/eye_gaze_images/test_8e398e94-4534-47bb-89ab-094c648b36ec.png', 'data/test/eye_gaze_images/test_a5ae277a-73c2-4cba-b49e-141d474b8f7d.png', 'data/test/eye_gaze_images/test_ba22109f-025a-41ed-9669-ab357da4f12d.png', 'data/test/eye_gaze_images/test_c7856637-9789-4f75-b56d-41cb51434e08.png', 'data/test/eye_gaze_images/test_f1ea7c01-3b27-460d-b638-534c1eb4c401.png']\n",
      "Eye Gaze CSV Data: data/test/eye_gaze_images/test_c7856637-9789-4f75-b56d-41cb51434e08.png,12,0\n",
      "data/test/eye_gaze_images/test_f1ea7c01-3b27-460d-b638-534c1eb4c401.png,77,109\n",
      "data/test/eye_gaze_images/test_1a12493e-555f-489c-81af-24594304d193.png,190,191\n",
      "data/test/eye_gaze_images/test_8e398e94-4534-47bb-89ab-094c648b36ec.png,766,247\n",
      "data/test/eye_gaze_images/test_ba22109f-025a-41ed-9669-ab357da4f12d.png,1250,276\n",
      "data/test/eye_gaze_images/test_a5ae277a-73c2-4cba-b49e-141d474b8f7d.png,1522,143\n",
      "data/test/eye_gaze_images/test_271aa562-c66d-4843-a8a4-f48ed9e7ca0f.png,1638,60\n",
      "data/test/eye_gaze_images/test_2b8fc677-37df-426c-8ab7-cbe3c3d4bf38.png,1676,14\n",
      "data/test/eye_gaze_images/test_6e1d913c-afb9-4b9b-bdc6-b96b1eb66ec9.png,1309,352\n",
      "data/test/eye_gaze_images/test_6d47b255-3db7-4ef9-98f7-fc0e354151f1.png,955,375\n",
      "data/test/eye_gaze_images/test_1630a44c-f4e9-471a-84a6-2a09290dc1e6.png,743,403\n",
      "\n"
     ]
    }
   ],
   "source": [
    "# Initialize the boto3 S3 client\n",
    "s3_client = boto3.client('s3')\n",
    "\n",
    "# Define your bucket name and file/folder keys\n",
    "bucket_name = 'eye-gaze-data'\n",
    "metadata_file_key = 'data/test/metadata.json'\n",
    "eye_gaze_images_folder = 'data/test/eye_gaze_images/'\n",
    "csv_file_key = 'data/test/eye_gaze_data.csv'\n",
    "\n",
    "# Retrieve metadata\n",
    "metadata = get_metadata(bucket_name, metadata_file_key, s3_client)\n",
    "print(\"Metadata:\", metadata)\n",
    "\n",
    "# Retrieve eye gaze image paths\n",
    "eye_gaze_image_paths = list_eye_gaze_images(bucket_name, eye_gaze_images_folder, s3_client)\n",
    "print(\"Eye Gaze Image Paths:\", eye_gaze_image_paths)\n",
    "\n",
    "# Retrieve eye gaze CSV data\n",
    "eye_gaze_csv_data = get_eye_gaze_data(bucket_name, csv_file_key, s3_client)\n",
    "print(\"Eye Gaze CSV Data:\", eye_gaze_csv_data)\n"
   ]
  },
  {
   "cell_type": "code",
   "execution_count": null,
   "metadata": {},
   "outputs": [],
   "source": [
    "def flag_for_processing(key, needs_processing_dir):\n",
    "    # Here you would implement logic to flag the directory for processing.\n",
    "    # This could involve appending the key to a list in a file.\n",
    "    flag_file_path = os.path.join(needs_processing_dir, 'to_process.txt')\n",
    "    with open(flag_file_path, 'a') as file:\n",
    "        file.write(key + '\\n')\n",
    "    print(f\"Directory flagged for processing: {key}\")\n",
    "\n",
    "def download_data(key, processed_dir, s3_client):\n",
    "    # Assuming key is a prefix to all files in a directory you want to download\n",
    "    response = s3_client.list_objects_v2(Bucket=bucket_name, Prefix=key)\n",
    "    \n",
    "    for obj in response.get('Contents', []):\n",
    "        file_key = obj['Key']\n",
    "        file_name = file_key.split('/')[-1]  # Extract the file name\n",
    "        local_file_path = os.path.join(processed_dir, file_name)\n",
    "        \n",
    "        # Download the file\n",
    "        s3_client.download_file(bucket_name, file_key, local_file_path)\n",
    "        print(f\"Downloaded {file_name} to {local_file_path}\")\n",
    "\n",
    "\n"
   ]
  },
  {
   "cell_type": "code",
   "execution_count": null,
   "metadata": {},
   "outputs": [],
   "source": [
    "\n",
    "def process_s3_bucket_data(bucket_name, processed_dir, needs_processing_dir):\n",
    "    s3_client = boto3.client('s3')\n",
    "    \n",
    "    # Get a list of all objects in the bucket\n",
    "    bucket_contents = s3_client.list_objects_v2(Bucket=bucket_name)\n",
    "\n",
    "    # Go through each object\n",
    "    for content in bucket_contents.get('Contents', []):\n",
    "        key = content['Key']\n",
    "        if key.endswith('/'):  # This is a directory\n",
    "            # Check if it's a new or old data directory\n",
    "            if 'metadata.json' in key:\n",
    "                metadata = get_metadata(bucket_name, key, s3_client)\n",
    "                if 'cameraInfo' in metadata:\n",
    "                    # This is a new data directory, flag for processing\n",
    "                    flag_for_processing(key, needs_processing_dir)\n",
    "                else:\n",
    "                    # This is an old data directory, download as is\n",
    "                    download_data(key, processed_dir, s3_client)\n",
    "                    \n",
    "\n"
   ]
  },
  {
   "cell_type": "code",
   "execution_count": null,
   "metadata": {},
   "outputs": [],
   "source": [
    "# Example usage:\n",
    "bucket_name = 'your-bucket-name'\n",
    "processed_dir = './data/processed'\n",
    "needs_processing_dir = './data/needs_processing'\n",
    "\n",
    "process_s3_bucket_data(bucket_name, processed_dir, needs_processing_dir)"
   ]
  }
 ],
 "metadata": {
  "kernelspec": {
   "display_name": "Python (ML_Keranl)",
   "language": "python",
   "name": "myenvname"
  },
  "language_info": {
   "codemirror_mode": {
    "name": "ipython",
    "version": 3
   },
   "file_extension": ".py",
   "mimetype": "text/x-python",
   "name": "python",
   "nbconvert_exporter": "python",
   "pygments_lexer": "ipython3",
   "version": "3.11.2"
  }
 },
 "nbformat": 4,
 "nbformat_minor": 2
}
