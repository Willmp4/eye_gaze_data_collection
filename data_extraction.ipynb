{
 "cells": [
  {
   "cell_type": "code",
   "execution_count": 42,
   "metadata": {},
   "outputs": [],
   "source": [
    "import cv2\n",
    "import numpy as np\n",
    "from sklearn.model_selection import train_test_split\n",
    "import dlib\n",
    "detector = dlib.get_frontal_face_detector()\n",
    "predictor = dlib.shape_predictor('./backend/shape_predictor_68_face_landmarks.dat')\n",
    "def preprocess_eye_region(frame, eye_coords, target_size=(30, 36)):\n",
    "    \"\"\"\n",
    "    Preprocesses the eye region for the CNN model.\n",
    "    Args:\n",
    "        frame: The input image frame (in BGR format).\n",
    "        eye_coords: Coordinates of the eye region.\n",
    "        target_size: The target size for each eye region.\n",
    "    Returns:\n",
    "        The preprocessed eye region.\n",
    "    \"\"\"\n",
    "    x_min = min(x for x, y in eye_coords)\n",
    "    x_max = max(x for x, y in eye_coords)\n",
    "    y_min = min(y for x, y in eye_coords)\n",
    "    y_max = max(y for x, y in eye_coords)\n",
    "\n",
    "    # Cropping the eye region based on the extremities of the landmarks\n",
    "    cropped_eye = frame[y_min:y_max, x_min:x_max]\n",
    "\n",
    "    # Resizing the cropped eye region to the target size\n",
    "    resized_eye = cv2.resize(cropped_eye, target_size)\n",
    "\n",
    "    return resized_eye.astype(np.float32) / 255.0\n",
    "def get_combined_eyes(frame):\n",
    "    \"\"\"\n",
    "    Detects and combines the eye regions from the frame.\n",
    "    Args:\n",
    "        frame: The input image frame.\n",
    "    Returns:\n",
    "        The combined eye regions, or None if not detected.\n",
    "    \"\"\"\n",
    "    gray = cv2.cvtColor(frame, cv2.COLOR_BGR2GRAY)\n",
    "    faces = detector(gray)\n",
    "\n",
    "    for face in faces:\n",
    "        landmarks = predictor(gray, face)\n",
    "\n",
    "        # Extract the coordinates for each eye\n",
    "        left_eye = [(landmarks.part(n).x, landmarks.part(n).y) for n in range(36, 42)]\n",
    "        right_eye = [(landmarks.part(n).x, landmarks.part(n).y) for n in range(42, 48)]\n",
    "\n",
    "        # Preprocess each eye region\n",
    "        left_eye_region = preprocess_eye_region(frame, left_eye)\n",
    "\n",
    "        right_eye_region = preprocess_eye_region(frame, right_eye)\n",
    "\n",
    "        # Combine the eyes side by side\n",
    "        combined_eyes = np.hstack([left_eye_region, right_eye_region])\n",
    "\n",
    "        # Ensure the combined eyes image has the correct shape\n",
    "        if combined_eyes.shape[1] != 60:\n",
    "            raise ValueError(\"Combined eyes region does not match the expected width.\")\n",
    "\n",
    "\n",
    "        return combined_eyes\n",
    "\n",
    "    return None\n",
    "def normalize_head_pose(head_pose_data, rotation_scale=180, translation_max_displacement=None):\n",
    "    \"\"\"\n",
    "    Normalizes the head pose data.\n",
    "    Args:\n",
    "        head_pose_data: List containing the head pose data (rotation and translation vectors).\n",
    "        rotation_scale: Maximum value for the rotation vector components (180 for degrees, np.pi for radians).\n",
    "        translation_max_displacement: A tuple (max_x, max_y, max_z) representing the maximum displacement in each axis. If None, standard deviation normalization will be used.\n",
    "\n",
    "    Returns:\n",
    "        Normalized head pose data.\n",
    "    \"\"\"\n",
    "    # Normalize rotation vectors\n",
    "    normalized_rotation = np.array(head_pose_data[:3]) / rotation_scale\n",
    "\n",
    "    # Normalize translation vectors\n",
    "    if translation_max_displacement:\n",
    "        max_x, max_y, max_z = translation_max_displacement\n",
    "        normalized_translation = np.array(head_pose_data[3:]) / np.array([max_x, max_y, max_z])\n",
    "    else:\n",
    "        # Standard deviation normalization\n",
    "        translation_vector = np.array(head_pose_data[3:])\n",
    "        std_dev = np.std(translation_vector)\n",
    "        mean_val = np.mean(translation_vector)\n",
    "        normalized_translation = (translation_vector - mean_val) / std_dev\n",
    "\n",
    "    return np.concatenate([normalized_rotation, normalized_translation]).tolist()\n",
    "\n"
   ]
  },
  {
   "cell_type": "code",
   "execution_count": 78,
   "metadata": {},
   "outputs": [],
   "source": [
    "import os\n",
    "def prepare_dataset(data_file_path, screen_size, img_folder, default_head_pose=[0, 0, 0, 0, 0, 0]):\n",
    "    X, Y = [], []\n",
    "\n",
    "    screen_width, screen_height = screen_size\n",
    "\n",
    "    with open(data_file_path, 'r') as file:\n",
    "        for line in file:\n",
    "            parts = line.strip().split(',')\n",
    "            img_name = parts[0][-45:]  # Extracting the image name\n",
    "\n",
    "            cursor_x, cursor_y = map(float, parts[1:3])\n",
    "            eye_box_pupil_data = list(map(float, parts[3:15]))\n",
    "            normalized_eye_box_pupil_data = [coord / screen_width if i % 2 == 0 else coord / screen_height for i, coord in enumerate(eye_box_pupil_data)]\n",
    "\n",
    "            if len(parts) > 18:  # Ensure enough parts are present for head pose data\n",
    "                # Remove quotation marks and convert to floats\n",
    "                rotation_data = [float(x.replace('\"', '').strip()) for x in parts[15:18]]\n",
    "                translation_data = [float(x.replace('\"', '').strip()) for x in parts[18:21]]\n",
    "                head_pose_data = rotation_data + translation_data\n",
    "            else:\n",
    "                head_pose_data = default_head_pose\n",
    "\n",
    "            normalize_head_pose_ = normalize_head_pose(head_pose_data)\n",
    "\n",
    "            img_path = os.path.join(img_folder, img_name)\n",
    "            img = cv2.imread(img_path)\n",
    "            if img is None:\n",
    "                continue\n",
    "\n",
    "            combined_eyes = get_combined_eyes(img)\n",
    "            X.append(combined_eyes)\n",
    "            Y.append([cursor_x / screen_width, cursor_y / screen_height] + normalized_eye_box_pupil_data + normalize_head_pose_)\n",
    "\n",
    "    return X, Y\n"
   ]
  },
  {
   "cell_type": "code",
   "execution_count": 79,
   "metadata": {},
   "outputs": [],
   "source": [
    "# Usage of the function:\n",
    "screen_size = (1707, 960)\n",
    "# Call the function with data that does not have head pose information\n",
    "X, Y = prepare_dataset('./data/Will/data.csv', screen_size, img_folder='./data/Will/images/')"
   ]
  },
  {
   "cell_type": "code",
   "execution_count": 80,
   "metadata": {},
   "outputs": [
    {
     "data": {
      "text/plain": [
       "59"
      ]
     },
     "execution_count": 80,
     "metadata": {},
     "output_type": "execute_result"
    }
   ],
   "source": [
    "len(Y)"
   ]
  },
  {
   "cell_type": "code",
   "execution_count": 81,
   "metadata": {},
   "outputs": [
    {
     "data": {
      "text/plain": [
       "[0.9982425307557118,\n",
       " 0.004166666666666667,\n",
       " 0.15700058582308143,\n",
       " 0.184375,\n",
       " 0.14586994727592267,\n",
       " 0.17708333333333334,\n",
       " 0.01757469244288225,\n",
       " 0.014583333333333334,\n",
       " 0.19390743995313414,\n",
       " 0.18541666666666667,\n",
       " 0.18922085530169888,\n",
       " 0.18020833333333333,\n",
       " 0.018746338605741066,\n",
       " 0.013541666666666667,\n",
       " -0.016105093800901846,\n",
       " -0.0004740759114885289,\n",
       " 0.0026191724543021613,\n",
       " -0.7459235665832105,\n",
       " -0.6675662195088178,\n",
       " 1.4134897860920284]"
      ]
     },
     "execution_count": 81,
     "metadata": {},
     "output_type": "execute_result"
    }
   ],
   "source": [
    "Y[1]"
   ]
  },
  {
   "cell_type": "code",
   "execution_count": null,
   "metadata": {},
   "outputs": [],
   "source": []
  }
 ],
 "metadata": {
  "kernelspec": {
   "display_name": "Python 3",
   "language": "python",
   "name": "python3"
  },
  "language_info": {
   "codemirror_mode": {
    "name": "ipython",
    "version": 3
   },
   "file_extension": ".py",
   "mimetype": "text/x-python",
   "name": "python",
   "nbconvert_exporter": "python",
   "pygments_lexer": "ipython3",
   "version": "3.10.13"
  }
 },
 "nbformat": 4,
 "nbformat_minor": 2
}
