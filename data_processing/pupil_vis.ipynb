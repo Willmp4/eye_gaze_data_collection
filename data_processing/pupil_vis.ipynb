{
 "cells": [
  {
   "cell_type": "code",
   "execution_count": 5,
   "metadata": {},
   "outputs": [
    {
     "name": "stdout",
     "output_type": "stream",
     "text": [
      "Processed image saved to ./processed_images/Naia_02660b41-6bf0-4fa7-997e-79ac38b4e4c7.png\n",
      "Processed image saved to ./processed_images/Naia_050cad96-5da8-4674-84ba-d3d508f02f76.png\n",
      "Processed image saved to ./processed_images/Naia_072f9933-a04f-442f-b0a1-30c5850169ad.png\n",
      "Processed image saved to ./processed_images/Naia_084105aa-19ec-41ef-9b24-ef5f3616a590.png\n",
      "Processed image saved to ./processed_images/Naia_098f5740-a45a-4190-b9b9-6112f7166b2d.png\n",
      "Processed image saved to ./processed_images/Naia_0e62aafe-059f-4233-8ba7-e4763082c89a.png\n",
      "Processed image saved to ./processed_images/Naia_0eaba14b-7ed6-4ab1-83dd-0244df6f4713.png\n",
      "Processed image saved to ./processed_images/Naia_1205634e-bbd2-4bda-9d9a-569a616fba68.png\n",
      "Processed image saved to ./processed_images/Naia_1537951b-603c-49a8-9ded-614a980b09be.png\n",
      "Processed image saved to ./processed_images/Naia_1734dc22-c2e6-4569-9d48-1c7c0aaf0c7d.png\n"
     ]
    }
   ],
   "source": [
    "import cv2\n",
    "import os\n",
    "from PIL import Image\n",
    "import matplotlib.pyplot as plt\n",
    "\n",
    "def plot_data_on_image(image, left_eye_box, right_eye_box, left_pupil, right_pupil, output_path):\n",
    "    fig, ax = plt.subplots()\n",
    "    ax.imshow(image)\n",
    "\n",
    "    # Assuming left_eye_box and right_eye_box contain [x, y, width, height]\n",
    "    ax.add_patch(plt.Rectangle((left_eye_box[0], left_eye_box[1]), left_eye_box[2], left_eye_box[3], fill=False, edgecolor='green', linewidth=1))\n",
    "    ax.add_patch(plt.Rectangle((right_eye_box[0], right_eye_box[1]), right_eye_box[2], right_eye_box[3], fill=False, edgecolor='green', linewidth=1))\n",
    "\n",
    "    # Plotting pupil locations relative to the image, not the eye box\n",
    "    # Adjust these coordinates if they are relative to the eye box\n",
    "    #Make point smaller for each pupil\n",
    "    ax.plot(left_pupil[0], left_pupil[1], 'ro', markersize=1)\n",
    "    ax.plot(right_pupil[0], right_pupil[1], 'ro', markersize=1)\n",
    "\n",
    "    plt.axis('off')  # Turn off axis\n",
    "    plt.savefig(output_path, bbox_inches='tight')\n",
    "    plt.close()\n",
    "\n",
    "\n",
    "def plot_eye_data(image_folder, csv_file):\n",
    "    with open(csv_file, 'r') as file:\n",
    "        #stop after one\n",
    "        count = 0\n",
    "\n",
    "        for line in file.readlines():\n",
    "        # for line in file:\n",
    "            parts = line.strip().split(',')\n",
    "            img_path_part = parts[0]  # Get the full path of the image from CSV\n",
    "\n",
    "            # Extract the image name from the path\n",
    "            img_name = os.path.basename(img_path_part)\n",
    "\n",
    "            left_eye_box = list(map(int, parts[5:9]))\n",
    "            right_eye_box = list(map(int, parts[11:15]))\n",
    "            left_pupil = (int(parts[3]), int(parts[4]))  # Correcting indices\n",
    "            right_pupil = (int(parts[9]), int(parts[10])) # Correcting indices\n",
    "\n",
    "            img_path = os.path.join(image_folder, img_name)\n",
    "            image = Image.open(img_path)\n",
    "            \n",
    "            #make dir if not there\n",
    "            if not os.path.exists(f\"./processed_images\"):\n",
    "                os.mkdir(f\"./processed_images\")\n",
    "            output_path = f\"./processed_images/{img_name}\"\n",
    "            plot_data_on_image(image, left_eye_box, right_eye_box, left_pupil, right_pupil, output_path)\n",
    "            print(f\"Processed image saved to {output_path}\")\n",
    "            count += 1\n",
    "            if count == 10:\n",
    "                break\n",
    "\n",
    "\n",
    "# Usage\n",
    "image_folder = './data/Naia/eye_gaze_images//'  \n",
    "csv_file = './data/Naia/eye_gaze_data.csv'     \n",
    "plot_eye_data(image_folder, csv_file)\n"
   ]
  },
  {
   "cell_type": "code",
   "execution_count": 1,
   "metadata": {},
   "outputs": [
    {
     "name": "stdout",
     "output_type": "stream",
     "text": [
      "53\n"
     ]
    }
   ],
   "source": [
    "#SHOW LEN of sub dir\n",
    "import os\n",
    "import os.path\n",
    "import sys\n",
    "\n",
    "def get_num_files(path):\n",
    "    if not os.path.exists(path):\n",
    "        return 0\n",
    "    return sum([len(files) for r, d, files in os.walk(path)])\n",
    "\n",
    "print(get_num_files('./data/PerfectUser/calibration_images/'))"
   ]
  },
  {
   "cell_type": "code",
   "execution_count": 4,
   "metadata": {},
   "outputs": [],
   "source": [
    "\n",
    "import pandas as pd\n",
    "\n",
    "df = pd.read_csv('./data/WilliamOld/data.csv', header=None)\n",
    "\n",
    "\n",
    "df = df.drop(df.columns[3:], axis=1)\n",
    "\n",
    "df.to_csv('data1.csv', index=False, header=False)"
   ]
  }
 ],
 "metadata": {
  "kernelspec": {
   "display_name": "web_app",
   "language": "python",
   "name": "python3"
  },
  "language_info": {
   "codemirror_mode": {
    "name": "ipython",
    "version": 3
   },
   "file_extension": ".py",
   "mimetype": "text/x-python",
   "name": "python",
   "nbconvert_exporter": "python",
   "pygments_lexer": "ipython3",
   "version": "3.7.16"
  }
 },
 "nbformat": 4,
 "nbformat_minor": 2
}
