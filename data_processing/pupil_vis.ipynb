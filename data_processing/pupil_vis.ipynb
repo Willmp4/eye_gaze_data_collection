{
 "cells": [
  {
   "cell_type": "code",
   "execution_count": 5,
   "metadata": {},
   "outputs": [
    {
     "name": "stdout",
     "output_type": "stream",
     "text": [
      "Processed image saved to ./list_images/processed_PerfectUser_06cc5347-9656-48cf-adc4-e9a0c2fc9ec9.png\n",
      "Processed image saved to ./list_images/processed_PerfectUser_0822077c-0f43-4112-b8f5-e6d666be16ab.png\n",
      "Processed image saved to ./list_images/processed_PerfectUser_08f14bf6-7033-4a5b-8f18-71ea2ea896b9.png\n",
      "Processed image saved to ./list_images/processed_PerfectUser_0972cbc7-7142-4779-bd54-0e97b1fac79f.png\n",
      "Processed image saved to ./list_images/processed_PerfectUser_16ed7e9f-36b2-456d-81bf-f28149478787.png\n",
      "Processed image saved to ./list_images/processed_PerfectUser_1d46789a-955e-417e-ab26-1cae12aebb32.png\n",
      "Processed image saved to ./list_images/processed_PerfectUser_26345eed-5f67-40a5-b58f-dcd69e129d9e.png\n",
      "Processed image saved to ./list_images/processed_PerfectUser_29926fa3-50fb-4ab5-b93e-fb2f5384f3f9.png\n",
      "Processed image saved to ./list_images/processed_PerfectUser_2d2df6d2-7cde-427f-bfa4-f8ce1dc49598.png\n",
      "Processed image saved to ./list_images/processed_PerfectUser_333c3605-3d5b-4d22-b549-a241deef98eb.png\n",
      "Processed image saved to ./list_images/processed_PerfectUser_4c10dcb6-f4a0-4d1e-b3db-5ea6a9e8786a.png\n",
      "Processed image saved to ./list_images/processed_PerfectUser_56fd7e55-01c2-4225-8916-6c4dcbea8196.png\n",
      "Processed image saved to ./list_images/processed_PerfectUser_5acc243e-3a64-45d4-8076-4c1ccbe031ab.png\n",
      "Processed image saved to ./list_images/processed_PerfectUser_69b9a202-4be3-4bed-bd09-694aed1cccbd.png\n",
      "Processed image saved to ./list_images/processed_PerfectUser_70d838b0-a296-4d28-a0e0-d36e4298f29f.png\n",
      "Processed image saved to ./list_images/processed_PerfectUser_70f48a0d-9d2e-4a9e-a3e2-b80129c58857.png\n",
      "Processed image saved to ./list_images/processed_PerfectUser_783da6ac-2fe1-48fa-a411-cf5f5161cf22.png\n",
      "Processed image saved to ./list_images/processed_PerfectUser_90754fbb-5d5c-47a5-b920-5a10f614ce0a.png\n",
      "Processed image saved to ./list_images/processed_PerfectUser_a7828104-17ed-46b6-a6a0-65e001f55e2f.png\n",
      "Processed image saved to ./list_images/processed_PerfectUser_a89e5d8f-5752-4d75-af15-8bd56c1382c4.png\n",
      "Processed image saved to ./list_images/processed_PerfectUser_a90bffdc-4451-45db-9788-ede7f2f11389.png\n",
      "Processed image saved to ./list_images/processed_PerfectUser_a9ae8b8b-a12b-419c-8111-b8d49b5ab0fb.png\n",
      "Processed image saved to ./list_images/processed_PerfectUser_b0869ff1-b7b6-493b-beaf-ccff50827dd2.png\n",
      "Processed image saved to ./list_images/processed_PerfectUser_b1b6692f-4c76-496d-be50-374a2fcaad82.png\n",
      "Processed image saved to ./list_images/processed_PerfectUser_b8c3d1b2-ce92-42eb-b081-ceec655d1229.png\n",
      "Processed image saved to ./list_images/processed_PerfectUser_ba95bb78-376e-4423-ba1d-f6e90bdc339e.png\n",
      "Processed image saved to ./list_images/processed_PerfectUser_cbe043c1-ddc8-4053-8aa4-bee2f86d7831.png\n",
      "Processed image saved to ./list_images/processed_PerfectUser_ce519d76-0eee-48ab-82f9-315508904fb5.png\n",
      "Processed image saved to ./list_images/processed_PerfectUser_d297ea91-3462-4f4f-a196-fb8384113687.png\n",
      "Processed image saved to ./list_images/processed_PerfectUser_d60279a7-948c-408a-9813-b89bba95e7f5.png\n",
      "Processed image saved to ./list_images/processed_PerfectUser_d6767a8d-b668-461c-ad1e-2c1f619f814e.png\n",
      "Processed image saved to ./list_images/processed_PerfectUser_d9950609-933e-4201-9beb-b81ed9e7724a.png\n",
      "Processed image saved to ./list_images/processed_PerfectUser_db00f2d5-6963-4215-b50f-73753422d3af.png\n",
      "Processed image saved to ./list_images/processed_PerfectUser_e01658d6-d20d-44c7-9b82-40b2ac0c957d.png\n",
      "Processed image saved to ./list_images/processed_PerfectUser_e663c381-6993-4902-8c4f-e40470aa5ada.png\n",
      "Processed image saved to ./list_images/processed_PerfectUser_e8c9ac3c-8899-43e7-983c-7919ad761b31.png\n",
      "Processed image saved to ./list_images/processed_PerfectUser_ec09f6f8-fd69-4beb-bfa9-a6717388b906.png\n",
      "Processed image saved to ./list_images/processed_PerfectUser_f11ce67c-b65d-4bbb-9dc6-937b2e6aa5f0.png\n",
      "Processed image saved to ./list_images/processed_PerfectUser_f952aed4-7cd9-4ca6-aa8c-eb1a60635b3a.png\n",
      "Processed image saved to ./list_images/processed_PerfectUser_f9dfab9e-5965-4f2b-87ba-19e61cc9e89a.png\n"
     ]
    }
   ],
   "source": [
    "import cv2\n",
    "import os\n",
    "from PIL import Image\n",
    "import matplotlib.pyplot as plt\n",
    "\n",
    "def plot_data_on_image(image, left_eye_box, right_eye_box, left_pupil, right_pupil, output_path):\n",
    "    fig, ax = plt.subplots()\n",
    "    ax.imshow(image)\n",
    "\n",
    "    # Assuming left_eye_box and right_eye_box contain [x, y, width, height]\n",
    "    ax.add_patch(plt.Rectangle((left_eye_box[0], left_eye_box[1]), left_eye_box[2], left_eye_box[3], fill=False, edgecolor='green', linewidth=1))\n",
    "    ax.add_patch(plt.Rectangle((right_eye_box[0], right_eye_box[1]), right_eye_box[2], right_eye_box[3], fill=False, edgecolor='green', linewidth=1))\n",
    "\n",
    "    # Plotting pupil locations relative to the image, not the eye box\n",
    "    # Adjust these coordinates if they are relative to the eye box\n",
    "    #Make point smaller for each pupil\n",
    "    ax.plot(left_pupil[0], left_pupil[1], 'ro', markersize=1)\n",
    "    ax.plot(right_pupil[0], right_pupil[1], 'ro', markersize=1)\n",
    "\n",
    "    plt.axis('off')  # Turn off axis\n",
    "    plt.savefig(output_path, bbox_inches='tight')\n",
    "    plt.close()\n",
    "\n",
    "\n",
    "def plot_eye_data(image_folder, csv_file):\n",
    "    with open(csv_file, 'r') as file:\n",
    "        #stop after one\n",
    "        for line in file.readlines():\n",
    "        # for line in file:\n",
    "            parts = line.strip().split(',')\n",
    "            img_path_part = parts[0]  # Get the full path of the image from CSV\n",
    "\n",
    "            # Extract the image name from the path\n",
    "            img_name = os.path.basename(img_path_part)\n",
    "\n",
    "            left_eye_box = list(map(int, parts[5:9]))\n",
    "            right_eye_box = list(map(int, parts[11:15]))\n",
    "            left_pupil = (int(parts[3]), int(parts[4]))  # Correcting indices\n",
    "            right_pupil = (int(parts[9]), int(parts[10])) # Correcting indices\n",
    "\n",
    "            img_path = os.path.join(image_folder, img_name)\n",
    "            image = Image.open(img_path)\n",
    "            \n",
    "            #make dir if not there\n",
    "            if not os.path.exists(f\"./list_images\"):\n",
    "                os.mkdir(f\"./list_images\")\n",
    "            output_path = f\"./list_images/processed_{img_name}\"\n",
    "            plot_data_on_image(image, left_eye_box, right_eye_box, left_pupil, right_pupil, output_path)\n",
    "            print(f\"Processed image saved to {output_path}\")\n",
    "\n",
    "\n",
    "# Usage\n",
    "image_folder = './data/PerfectUser/calibration_images/'  \n",
    "csv_file = './data/PerfectUser//calibration_data.csv'     \n",
    "plot_eye_data(image_folder, csv_file)\n"
   ]
  },
  {
   "cell_type": "code",
   "execution_count": 2,
   "metadata": {},
   "outputs": [
    {
     "name": "stdout",
     "output_type": "stream",
     "text": [
      "53\n"
     ]
    }
   ],
   "source": [
    "#SHOW LEN of sub dir\n",
    "import os\n",
    "import os.path\n",
    "import sys\n",
    "\n",
    "def get_num_files(path):\n",
    "    if not os.path.exists(path):\n",
    "        return 0\n",
    "    return sum([len(files) for r, d, files in os.walk(path)])\n",
    "\n",
    "print(get_num_files('./data/PerfectUser/calibration_images/'))"
   ]
  }
 ],
 "metadata": {
  "kernelspec": {
   "display_name": "web_app",
   "language": "python",
   "name": "python3"
  },
  "language_info": {
   "codemirror_mode": {
    "name": "ipython",
    "version": 3
   },
   "file_extension": ".py",
   "mimetype": "text/x-python",
   "name": "python",
   "nbconvert_exporter": "python",
   "pygments_lexer": "ipython3",
   "version": "3.7.16"
  }
 },
 "nbformat": 4,
 "nbformat_minor": 2
}
