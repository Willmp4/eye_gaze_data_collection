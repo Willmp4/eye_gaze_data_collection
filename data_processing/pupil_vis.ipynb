{
 "cells": [
  {
   "cell_type": "code",
   "execution_count": 3,
   "metadata": {},
   "outputs": [
    {
     "name": "stdout",
     "output_type": "stream",
     "text": [
      "Processed image saved to ./processed_Hossein_1a7fde35-eb7e-49ea-9eb6-fe718a8e6d98.png\n",
      "Processed image saved to ./processed_Hossein_c466e306-2cc3-45a6-9472-278aa831c808.png\n",
      "Processed image saved to ./processed_Hossein_4f80c351-c67c-4f8c-97a7-ad8b2d7a8618.png\n",
      "Processed image saved to ./processed_Hossein_e21cf63e-a399-43f6-b143-47d7d942dbfd.png\n",
      "Processed image saved to ./processed_Hossein_2a132b97-b1f4-452a-9a82-316a2e806572.png\n",
      "Processed image saved to ./processed_Hossein_0cf1fbb5-13f3-406b-8404-523b119488a5.png\n",
      "Processed image saved to ./processed_Hossein_728bb0c4-8edc-4f28-8387-312156c6e2d8.png\n",
      "Processed image saved to ./processed_Hossein_c5e67809-5c75-47de-8a6c-8e748a4d3084.png\n",
      "Processed image saved to ./processed_Hossein_2de78d74-a35f-440a-895d-65fc8a2bc5f9.png\n",
      "Processed image saved to ./processed_Hossein_ae5d6316-7592-4dd1-9a1f-953b0db215de.png\n",
      "Processed image saved to ./processed_Hossein_8fe8bd71-d7a6-410d-8320-3b7fa2d6c5c9.png\n",
      "Processed image saved to ./processed_Hossein_a94b2c9b-8546-4f22-a02f-53fb66be8e9a.png\n",
      "Processed image saved to ./processed_Hossein_bc4b7543-6a0b-4e18-a8ae-b5d966d9dfbc.png\n",
      "Processed image saved to ./processed_Hossein_cf3a8a3e-1216-4ee7-ac48-af3eb61da0d7.png\n",
      "Processed image saved to ./processed_Hossein_06a82e56-5a64-4c1b-87c8-240d406b7702.png\n",
      "Processed image saved to ./processed_Hossein_ae8639b1-25b1-4971-9bc4-22e8ac365230.png\n",
      "Processed image saved to ./processed_Hossein_077e2457-51da-432e-a16d-101abe877f62.png\n",
      "Processed image saved to ./processed_Hossein_83e651b1-773b-495f-8699-baf8339b9c49.png\n",
      "Processed image saved to ./processed_Hossein_bcd8c0f2-defd-4164-b060-009e0909b38b.png\n"
     ]
    }
   ],
   "source": [
    "import cv2\n",
    "import os\n",
    "from PIL import Image\n",
    "import matplotlib.pyplot as plt\n",
    "\n",
    "def plot_data_on_image(image, left_eye_box, right_eye_box, left_pupil, right_pupil, output_path):\n",
    "    fig, ax = plt.subplots()\n",
    "    ax.imshow(image)\n",
    "\n",
    "    # Assuming left_eye_box and right_eye_box contain [x, y, width, height]\n",
    "    ax.add_patch(plt.Rectangle((left_eye_box[0], left_eye_box[1]), left_eye_box[2], left_eye_box[3], fill=False, edgecolor='green', linewidth=2))\n",
    "    ax.add_patch(plt.Rectangle((right_eye_box[0], right_eye_box[1]), right_eye_box[2], right_eye_box[3], fill=False, edgecolor='green', linewidth=2))\n",
    "\n",
    "    # Plotting pupil locations relative to the image, not the eye box\n",
    "    # Adjust these coordinates if they are relative to the eye box\n",
    "    #Make point smaller for each pupil\n",
    "    ax.plot(left_pupil[0], left_pupil[1], 'ro', markersize=2)\n",
    "    ax.plot(right_pupil[0], right_pupil[1], 'ro', markersize=2)\n",
    "\n",
    "    plt.axis('off')  # Turn off axis\n",
    "    plt.savefig(output_path, bbox_inches='tight')\n",
    "    plt.close()\n",
    "\n",
    "\n",
    "def plot_eye_data(image_folder, csv_file):\n",
    "    with open(csv_file, 'r') as file:\n",
    "        #stop after one\n",
    "        for line in file.readlines():\n",
    "        # for line in file:\n",
    "            parts = line.strip().split(',')\n",
    "            img_path_part = parts[0]  # Get the full path of the image from CSV\n",
    "\n",
    "            # Extract the image name from the path\n",
    "            img_name = os.path.basename(img_path_part)\n",
    "\n",
    "            left_eye_box = list(map(int, parts[5:9]))\n",
    "            right_eye_box = list(map(int, parts[11:15]))\n",
    "            left_pupil = (int(parts[3]), int(parts[4]))  # Correcting indices\n",
    "            right_pupil = (int(parts[9]), int(parts[10])) # Correcting indices\n",
    "\n",
    "            img_path = os.path.join(image_folder, img_name)\n",
    "            image = Image.open(img_path)\n",
    "\n",
    "            output_path = f\"./processed_{img_name}\"\n",
    "            plot_data_on_image(image, left_eye_box, right_eye_box, left_pupil, right_pupil, output_path)\n",
    "            print(f\"Processed image saved to {output_path}\")\n",
    "\n",
    "\n",
    "# Usage\n",
    "image_folder = './data/Hossein/images/'  \n",
    "csv_file = './data/Hossein/data.csv'     \n",
    "plot_eye_data(image_folder, csv_file)\n"
   ]
  },
  {
   "cell_type": "code",
   "execution_count": null,
   "metadata": {},
   "outputs": [],
   "source": []
  }
 ],
 "metadata": {
  "kernelspec": {
   "display_name": "Python 3",
   "language": "python",
   "name": "python3"
  },
  "language_info": {
   "codemirror_mode": {
    "name": "ipython",
    "version": 3
   },
   "file_extension": ".py",
   "mimetype": "text/x-python",
   "name": "python",
   "nbconvert_exporter": "python",
   "pygments_lexer": "ipython3",
   "version": "3.11.2"
  }
 },
 "nbformat": 4,
 "nbformat_minor": 2
}
