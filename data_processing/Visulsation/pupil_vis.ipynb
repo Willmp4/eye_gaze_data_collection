{
 "cells": [
  {
   "cell_type": "code",
   "execution_count": 3,
   "metadata": {},
   "outputs": [
    {
     "name": "stdout",
     "output_type": "stream",
     "text": [
      "Processed image saved to ./processed_images/muzzy_0194b294-0505-498e-afe8-837a4e1b5cf6.png\n",
      "Processed image saved to ./processed_images/muzzy_01d182dc-a042-461a-93da-8c9635f1c84a.png\n",
      "Processed image saved to ./processed_images/muzzy_03c250a4-1e82-48cb-9d1b-79d14449b757.png\n",
      "Processed image saved to ./processed_images/muzzy_0506d6c2-9c4d-4d7a-b488-3bf515c8a560.png\n",
      "Processed image saved to ./processed_images/muzzy_0c4c17e0-e4aa-4b9d-94f8-50e6a6703305.png\n",
      "Processed image saved to ./processed_images/muzzy_1150c51a-df46-4e2a-a01e-a2f91a7b43f6.png\n",
      "Processed image saved to ./processed_images/muzzy_119c50ab-fb86-46d6-a89e-31bc7c676af1.png\n",
      "Processed image saved to ./processed_images/muzzy_1570471f-5486-46b7-9286-615584a95248.png\n",
      "Processed image saved to ./processed_images/muzzy_18dc26c6-4d20-4597-95c0-5396cc8b629e.png\n",
      "Processed image saved to ./processed_images/muzzy_1fc40298-f306-40c5-b2b4-1018c63357b5.png\n"
     ]
    }
   ],
   "source": [
    "import cv2\n",
    "import os\n",
    "from PIL import Image\n",
    "import matplotlib.pyplot as plt\n",
    "\n",
    "def plot_data_on_image(image, left_eye_box, right_eye_box, left_pupil, right_pupil, output_path):\n",
    "    fig, ax = plt.subplots()\n",
    "    ax.imshow(image)\n",
    "\n",
    "    # Assuming left_eye_box and right_eye_box contain [x, y, width, height]\n",
    "    ax.add_patch(plt.Rectangle((left_eye_box[0], left_eye_box[1]), left_eye_box[2], left_eye_box[3], fill=False, edgecolor='green', linewidth=1))\n",
    "    ax.add_patch(plt.Rectangle((right_eye_box[0], right_eye_box[1]), right_eye_box[2], right_eye_box[3], fill=False, edgecolor='green', linewidth=1))\n",
    "\n",
    "    # Plotting pupil locations relative to the image, not the eye box\n",
    "    # Adjust these coordinates if they are relative to the eye box\n",
    "    #Make point smaller for each pupil\n",
    "    ax.plot(left_pupil[0], left_pupil[1], 'ro', markersize=1)\n",
    "    ax.plot(right_pupil[0], right_pupil[1], 'ro', markersize=1)\n",
    "\n",
    "    plt.axis('off')  # Turn off axis\n",
    "    plt.savefig(output_path, bbox_inches='tight')\n",
    "    plt.close()\n",
    "\n",
    "\n",
    "def plot_eye_data(image_folder, csv_file):\n",
    "    with open(csv_file, 'r') as file:\n",
    "        #stop after one\n",
    "        count = 0\n",
    "\n",
    "        for line in file.readlines():\n",
    "        # for line in file:\n",
    "            parts = line.strip().split(',')\n",
    "            img_path_part = parts[0]  # Get the full path of the image from CSV\n",
    "\n",
    "            # Extract the image name from the path\n",
    "            img_name = os.path.basename(img_path_part)\n",
    "\n",
    "            left_eye_box = list(map(int, parts[5:9]))\n",
    "            right_eye_box = list(map(int, parts[11:15]))\n",
    "            left_pupil = (int(parts[3]), int(parts[4]))  # Correcting indices\n",
    "            right_pupil = (int(parts[9]), int(parts[10])) # Correcting indices\n",
    "\n",
    "            img_path = os.path.join(image_folder, img_name)\n",
    "            image = Image.open(img_path)\n",
    "            \n",
    "            #make dir if not there\n",
    "            if not os.path.exists(f\"./processed_images\"):\n",
    "                os.mkdir(f\"./processed_images\")\n",
    "            output_path = f\"./processed_images/{img_name}\"\n",
    "            plot_data_on_image(image, left_eye_box, right_eye_box, left_pupil, right_pupil, output_path)\n",
    "            print(f\"Processed image saved to {output_path}\")\n",
    "            count += 1\n",
    "            if count == 10:\n",
    "                break\n",
    "\n",
    "\n",
    "\n",
    "# Usage\n",
    "image_folder = './data/muzzy/calibration_images/'  \n",
    "csv_file = './data/muzzy/calibration_data.csv'     \n",
    "plot_eye_data(image_folder, csv_file)\n"
   ]
  },
  {
   "cell_type": "code",
   "execution_count": 3,
   "metadata": {},
   "outputs": [
    {
     "name": "stdout",
     "output_type": "stream",
     "text": [
      "265\n"
     ]
    }
   ],
   "source": [
    "#SHOW LEN of sub dir\n",
    "import os\n",
    "import os.path\n",
    "import sys\n",
    "\n",
    "def get_num_files(path):\n",
    "    if not os.path.exists(path):\n",
    "        return 0\n",
    "    return sum([len(files) for r, d, files in os.walk(path)])\n",
    "\n",
    "print(get_num_files('../data/William/calibration_images/'))"
   ]
  },
  {
   "cell_type": "code",
   "execution_count": 4,
   "metadata": {},
   "outputs": [],
   "source": [
    "\n",
    "import pandas as pd\n",
    "\n",
    "df = pd.read_csv('./data/WilliamOld/data.csv', header=None)\n",
    "\n",
    "\n",
    "df = df.drop(df.columns[3:], axis=1)\n",
    "\n",
    "df.to_csv('data1.csv', index=False, header=False)"
   ]
  }
 ],
 "metadata": {
  "kernelspec": {
   "display_name": "Python(data_processing)",
   "language": "python",
   "name": "data_processing"
  },
  "language_info": {
   "codemirror_mode": {
    "name": "ipython",
    "version": 3
   },
   "file_extension": ".py",
   "mimetype": "text/x-python",
   "name": "python",
   "nbconvert_exporter": "python",
   "pygments_lexer": "ipython3",
   "version": "3.11.2"
  }
 },
 "nbformat": 4,
 "nbformat_minor": 2
}
