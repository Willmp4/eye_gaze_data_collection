{
 "cells": [
  {
   "cell_type": "code",
   "execution_count": null,
   "metadata": {},
   "outputs": [],
   "source": [
    "import numpy as np\n",
    "\n",
    "num_samples = 200000  \n",
    "x_shape = (100, 200, 3)\n",
    "y_shape = (2,)\n",
    "\n",
    "x_dtype = 'float32'  # Determine the appropriate dtype\n",
    "y_dtype = 'float32'  # Determine the appropriate dtype\n",
    "\n",
    "x_memmap = np.memmap('x_dataset.memmap', dtype=x_dtype, mode='w+', shape=(num_samples,) + x_shape)\n",
    "y_memmap = np.memmap('y_dataset.memmap', dtype=y_dtype, mode='w+', shape=(num_samples,) + y_shape)\n"
   ]
  },
  {
   "cell_type": "code",
   "execution_count": null,
   "metadata": {},
   "outputs": [],
   "source": [
    "import pickle\n",
    "import glob\n",
    "\n",
    "def process_and_combine_pkl_files_to_memmap(directory_path, x_memmap, y_memmap):\n",
    "    current_index = 0\n",
    "    \n",
    "    for file_path in glob.glob(directory_path + '/*.pkl'):\n",
    "        with open(file_path, 'rb') as file:\n",
    "            data = pickle.load(file)\n",
    "        \n",
    "        if 'X' in data and 'Y' in data:\n",
    "            num_samples = len(data['X'])  \n",
    "            x_batch = np.array(data['X'], dtype=x_memmap.dtype).reshape((num_samples,) + x_shape)\n",
    "            y_batch = np.array(data['Y'], dtype=y_memmap.dtype).reshape((num_samples,) + y_shape)\n",
    "            \n",
    "            # Write directly to the memmap files\n",
    "            x_memmap[current_index:current_index + num_samples] = x_batch\n",
    "            y_memmap[current_index:current_index + num_samples] = y_batch\n",
    "            \n",
    "            current_index += num_samples\n",
    "\n",
    "    x_memmap.flush()\n",
    "    y_memmap.flush()\n"
   ]
  },
  {
   "cell_type": "code",
   "execution_count": null,
   "metadata": {},
   "outputs": [],
   "source": [
    "directory_path = './process_MPIIGaze' \n",
    "process_and_combine_pkl_files_to_memmap(directory_path, x_memmap, y_memmap)\n"
   ]
  },
  {
   "cell_type": "code",
   "execution_count": null,
   "metadata": {},
   "outputs": [],
   "source": [
    "def memmap_batch_generator(x_memmap_path, y_memmap_path, batch_size=32, shuffle=True):\n",
    "    # Load the memory-mapped files\n",
    "    x_memmap = np.memmap(x_memmap_path, dtype='float32', mode='r', shape=(200000, 100, 200, 3))  # Adjust shape and dtype\n",
    "    y_memmap = np.memmap(y_memmap_path, dtype='float32', mode='r', shape=(200000, 2))  # Adjust shape and dtype\n",
    "\n",
    "    num_samples = len(x_memmap)\n",
    "    indices = np.arange(num_samples)\n",
    "\n",
    "    while True:\n",
    "        if shuffle:\n",
    "            np.random.shuffle(indices)\n",
    "\n",
    "        for start_idx in range(0, num_samples, batch_size):\n",
    "            end_idx = min(start_idx + batch_size, num_samples)\n",
    "            batch_indices = indices[start_idx:end_idx]\n",
    "\n",
    "            # Yield a batch of data\n",
    "            yield x_memmap[batch_indices], y_memmap[batch_indices]\n"
   ]
  },
  {
   "cell_type": "code",
   "execution_count": null,
   "metadata": {},
   "outputs": [],
   "source": [
    "from keras.callbacks import EarlyStopping\n",
    "from keras.optimizers import Adam\n",
    "from keras.models import Sequential\n",
    "from keras.layers import Conv2D, Dense, Dropout, Flatten\n",
    "from keras.regularizers import l2\n",
    "# Maxpooling\n",
    "from keras.layers import MaxPooling2D\n",
    "#BatchNormalization\n",
    "from keras.layers import BatchNormalization\n",
    "\n",
    "# Your model definition\n",
    "model = Sequential([\n",
    "    Conv2D(32, (7, 7), activation='relu', input_shape=(100, 200, 3), kernel_regularizer=l2(0.001)),\n",
    "    \n",
    "    \n",
    "    Conv2D(64, (7, 7), activation='relu'),\n",
    "    MaxPooling2D((2, 2)),\n",
    "    BatchNormalization(),\n",
    "    Dropout(0.15),\n",
    "\n",
    "\n",
    "    Conv2D(128, (5, 5), activation='relu', kernel_regularizer=l2(0.001)),\n",
    "    Dropout(0.15),\n",
    "    MaxPooling2D((2, 2)),\n",
    "    \n",
    "\n",
    "    Conv2D(256, (5, 5), activation='relu'),\n",
    "\n",
    "\n",
    "    Flatten(),\n",
    "    Dense(64, activation='relu'),\n",
    "    Dropout(0.2),\n",
    "    Dense(2, activation='sigmoid')\n",
    "])\n",
    "\n",
    "model.compile(optimizer=Adam(learning_rate=0.00005), loss='mse', metrics=['mean_squared_error', 'mean_absolute_error'])\n",
    "\n",
    "early_stopping = EarlyStopping(monitor='val_loss', patience=5, restore_best_weights=True)\n",
    "\n"
   ]
  },
  {
   "cell_type": "code",
   "execution_count": null,
   "metadata": {},
   "outputs": [],
   "source": [
    "batch_size = 16"
   ]
  },
  {
   "cell_type": "code",
   "execution_count": null,
   "metadata": {},
   "outputs": [],
   "source": [
    "# Assuming you have already set up your model\n",
    "\n",
    "# Paths to your memmap files\n",
    "x_memmap_path = 'x_dataset.memmap'\n",
    "y_memmap_path = 'y_dataset.memmap'\n",
    "\n",
    "# Calculate steps per epoch and validation steps\n",
    "num_train_samples = int(200000 * 0.6)  # Example: 60% for training\n",
    "num_val_samples = int(200000 * 0.15)   # Example: 15% for validation\n",
    "\n",
    "steps_per_epoch = num_train_samples // batch_size\n",
    "validation_steps = num_val_samples // batch_size\n",
    "\n",
    "# Create generators\n",
    "train_generator = memmap_batch_generator(x_memmap_path, y_memmap_path, batch_size, shuffle=True)\n",
    "validation_generator = memmap_batch_generator(x_memmap_path, y_memmap_path, batch_size, shuffle=False)  # Assuming you can use the same for simplicity\n",
    "\n",
    "# Train the model\n",
    "model.fit(\n",
    "    train_generator,\n",
    "    steps_per_epoch=steps_per_epoch,\n",
    "    epochs=100,  # Adjust as needed\n",
    "    validation_data=validation_generator,\n",
    "    validation_steps=validation_steps,\n",
    "    callbacks=[early_stopping]\n",
    ")\n"
   ]
  },
  {
   "cell_type": "code",
   "execution_count": null,
   "metadata": {},
   "outputs": [],
   "source": [
    "# Example: Evaluate on a subset\n",
    "x_test_memmap = np.memmap(x_memmap_path, dtype='float32', mode='r', shape=(200000, 100, 200, 3))\n",
    "y_test_memmap = np.memmap(y_memmap_path, dtype='float32', mode='r', shape=(200000, 2))\n",
    "\n",
    "# Assuming the last 15% of the data is for testing\n",
    "test_start_index = int(200000 * 0.85)\n",
    "x_test = x_test_memmap[test_start_index:]\n",
    "y_test = y_test_memmap[test_start_index:]\n",
    "\n",
    "model.evaluate(x_test, y_test, batch_size=16)\n"
   ]
  }
 ],
 "metadata": {
  "language_info": {
   "name": "python"
  }
 },
 "nbformat": 4,
 "nbformat_minor": 2
}
