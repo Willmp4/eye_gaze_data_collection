{
 "cells": [
  {
   "cell_type": "code",
   "execution_count": 1,
   "metadata": {},
   "outputs": [],
   "source": [
    "import numpy as np\n",
    "\n",
    "num_samples = 217636\n",
    "x_shape = (100, 200, 3)\n",
    "y_shape = (2,)\n",
    "\n",
    "x_dtype = 'float32'  # Determine the appropriate dtype\n",
    "y_dtype = 'float32'  # Determine the appropriate dtype\n",
    "\n",
    "x_memmap = np.memmap('x_dataset.memmap', dtype=x_dtype, mode='w+', shape=(num_samples,) + x_shape)\n",
    "y_memmap = np.memmap('y_dataset.memmap', dtype=y_dtype, mode='w+', shape=(num_samples,) + y_shape)\n"
   ]
  },
  {
   "cell_type": "code",
   "execution_count": 9,
   "metadata": {},
   "outputs": [],
   "source": [
    "# load x_memmap and y_memmap\n",
    "x_memmap = np.memmap('x_dataset.memmap', dtype=x_dtype, mode='r+', shape=(num_samples,) + x_shape)\n",
    "y_memmap = np.memmap('y_dataset.memmap', dtype=y_dtype, mode='r+', shape=(num_samples,) + y_shape)"
   ]
  },
  {
   "cell_type": "code",
   "execution_count": 2,
   "metadata": {},
   "outputs": [],
   "source": [
    "import pickle\n",
    "import glob\n",
    "import numpy as np\n",
    "\n",
    "def process_and_combine_pkl_files_to_memmap(directory_path, x_memmap, y_memmap):\n",
    "    current_index = 0\n",
    "    \n",
    "    for file_path in glob.glob(directory_path + '/*.pkl'):\n",
    "        with open(file_path, 'rb') as file:\n",
    "            data = pickle.load(file)\n",
    "            \n",
    "        # Check if data is a dictionary with 'X' and 'Y' keys\n",
    "        if isinstance(data, dict) and 'X' in data and 'Y' in data:\n",
    "            X_data = data['X']\n",
    "            Y_data = data['Y']\n",
    "        else:\n",
    "            # Assume that the data is just the raw arrays for X and Y\n",
    "            Y_numeric = np.array([y[:2] for y in data[1]], dtype=np.float32)  # Convert the first two elements to float\n",
    "            X_data = np.array(data[0], dtype=np.float32)\n",
    "            Y_data = Y_numeric\n",
    "\n",
    "        num_samples_in_file = len(X_data)\n",
    "        x_batch = np.array(X_data, dtype=x_memmap.dtype).reshape((num_samples_in_file,) + x_shape)\n",
    "        y_batch = np.array(Y_data, dtype=y_memmap.dtype).reshape((num_samples_in_file,) + y_shape)\n",
    "        \n",
    "        # Ensure we do not exceed the allocated memmap size\n",
    "        if current_index + num_samples_in_file > len(x_memmap):\n",
    "            raise ValueError(\"The dataset is larger than expected.\")\n",
    "        \n",
    "        # Write directly to the memmap files\n",
    "        x_memmap[current_index:current_index + num_samples_in_file] = x_batch\n",
    "        y_memmap[current_index:current_index + num_samples_in_file] = y_batch\n",
    "        \n",
    "        current_index += num_samples_in_file\n",
    "        x_memmap.flush()\n",
    "        y_memmap.flush()\n"
   ]
  },
  {
   "cell_type": "code",
   "execution_count": 3,
   "metadata": {},
   "outputs": [],
   "source": [
    "directory_path = './process_MPIIGaze/batches/' \n",
    "process_and_combine_pkl_files_to_memmap(directory_path, x_memmap, y_memmap)"
   ]
  },
  {
   "cell_type": "code",
   "execution_count": 4,
   "metadata": {},
   "outputs": [
    {
     "name": "stdout",
     "output_type": "stream",
     "text": [
      "217636\n",
      "217636\n"
     ]
    }
   ],
   "source": [
    "# Check the len of memmap files\n",
    "x_memmap = np.memmap('x_dataset.memmap', dtype=x_dtype, mode='r', shape=(num_samples,) + x_shape)\n",
    "y_memmap = np.memmap('y_dataset.memmap', dtype=y_dtype, mode='r', shape=(num_samples,) + y_shape)\n",
    "\n",
    "print(len(x_memmap))\n",
    "print(len(y_memmap))"
   ]
  },
  {
   "cell_type": "code",
   "execution_count": 5,
   "metadata": {},
   "outputs": [
    {
     "name": "stdout",
     "output_type": "stream",
     "text": [
      "[0.54444444 0.5177778 ]\n"
     ]
    }
   ],
   "source": [
    "#show image cv2\n",
    "import cv2\n",
    "n = -1\n",
    "print(y_memmap[n])\n",
    "cv2.imshow('image', x_memmap[n])\n",
    "cv2.waitKey(0)\n",
    "cv2.destroyAllWindows()\n",
    "\n",
    "#how many pictures are "
   ]
  },
  {
   "cell_type": "code",
   "execution_count": 6,
   "metadata": {},
   "outputs": [],
   "source": [
    "def memmap_batch_generator(x_memmap_path, y_memmap_path, batch_size, shuffle=True):\n",
    "    x_memmap = np.memmap(x_memmap_path, dtype=x_dtype, mode='r', shape=(num_samples,) + x_shape)\n",
    "    y_memmap = np.memmap(y_memmap_path, dtype=y_dtype, mode='r', shape=(num_samples,) + y_shape)\n",
    "    \n",
    "    indices = np.arange(len(x_memmap))\n",
    "    if shuffle:\n",
    "        np.random.shuffle(indices)\n",
    "    \n",
    "    while True:\n",
    "        for start_idx in range(0, len(indices), batch_size):\n",
    "            end_idx = min(start_idx + batch_size, len(indices))\n",
    "            batch_indices = indices[start_idx:end_idx]\n",
    "            \n",
    "            # Ensure batch_indices is an array of integers\n",
    "            batch_indices = np.array(batch_indices, dtype=np.int32)\n",
    "            \n",
    "            # Yield a batch of data\n",
    "            yield x_memmap[batch_indices], y_memmap[batch_indices]"
   ]
  },
  {
   "cell_type": "code",
   "execution_count": 11,
   "metadata": {},
   "outputs": [],
   "source": [
    "from keras.callbacks import EarlyStopping\n",
    "from keras.optimizers import Adam\n",
    "from keras.models import Sequential\n",
    "from keras.layers import Conv2D, Dense, Dropout, Flatten\n",
    "from keras.regularizers import l2\n",
    "# Maxpooling\n",
    "from keras.layers import MaxPooling2D\n",
    "#BatchNormalization\n",
    "from keras.layers import BatchNormalization\n",
    "\n",
    "# Your model definition\n",
    "model = Sequential([\n",
    "    Conv2D(32, (7, 7), activation='relu', input_shape=(100, 200, 3), kernel_regularizer=l2(0.001)),\n",
    "    \n",
    "    \n",
    "    Conv2D(64, (7, 7), activation='relu'),\n",
    "    MaxPooling2D((2, 2)),\n",
    "    BatchNormalization(),\n",
    "    Dropout(0.15),\n",
    "\n",
    "\n",
    "    Conv2D(128, (5, 5), activation='relu', kernel_regularizer=l2(0.001)),\n",
    "    Dropout(0.15),\n",
    "    MaxPooling2D((2, 2)),\n",
    "    \n",
    "\n",
    "    Conv2D(256, (3, 3), activation='relu'),\n",
    "\n",
    "    Flatten(),\n",
    "    Dense(64, activation='relu'),\n",
    "    Dropout(0.2),\n",
    "    Dense(2, activation='sigmoid')\n",
    "])\n",
    "\n",
    "model.compile(optimizer=Adam(learning_rate=0.00005), loss='mse', metrics=['mean_squared_error', 'mean_absolute_error'])\n",
    "\n",
    "early_stopping = EarlyStopping(monitor='val_loss', patience=5, restore_best_weights=True)\n",
    "\n"
   ]
  },
  {
   "cell_type": "code",
   "execution_count": 13,
   "metadata": {},
   "outputs": [],
   "source": [
    "batch_size = 16"
   ]
  },
  {
   "cell_type": "code",
   "execution_count": 14,
   "metadata": {},
   "outputs": [
    {
     "name": "stdout",
     "output_type": "stream",
     "text": [
      "Epoch 1/100\n",
      "9521/9521 [==============================] - 910s 95ms/step - loss: 0.0383 - mean_squared_error: 0.0204 - mean_absolute_error: 0.1034 - val_loss: 0.0180 - val_mean_squared_error: 0.0132 - val_mean_absolute_error: 0.0851\n",
      "Epoch 2/100\n",
      "9521/9521 [==============================] - 828s 87ms/step - loss: 0.0163 - mean_squared_error: 0.0127 - mean_absolute_error: 0.0809 - val_loss: 0.0104 - val_mean_squared_error: 0.0076 - val_mean_absolute_error: 0.0610\n",
      "Epoch 3/100\n",
      "9521/9521 [==============================] - 779s 82ms/step - loss: 0.0130 - mean_squared_error: 0.0106 - mean_absolute_error: 0.0742 - val_loss: 0.0085 - val_mean_squared_error: 0.0065 - val_mean_absolute_error: 0.0586\n",
      "Epoch 4/100\n",
      "9521/9521 [==============================] - 808s 85ms/step - loss: 0.0113 - mean_squared_error: 0.0095 - mean_absolute_error: 0.0702 - val_loss: 0.0077 - val_mean_squared_error: 0.0061 - val_mean_absolute_error: 0.0583\n",
      "Epoch 5/100\n",
      "9521/9521 [==============================] - 1006s 106ms/step - loss: 0.0103 - mean_squared_error: 0.0088 - mean_absolute_error: 0.0678 - val_loss: 0.0106 - val_mean_squared_error: 0.0092 - val_mean_absolute_error: 0.0692\n",
      "Epoch 6/100\n",
      "9521/9521 [==============================] - 936s 98ms/step - loss: 0.0095 - mean_squared_error: 0.0082 - mean_absolute_error: 0.0655 - val_loss: 0.0106 - val_mean_squared_error: 0.0094 - val_mean_absolute_error: 0.0714\n",
      "Epoch 7/100\n",
      "9521/9521 [==============================] - 916s 96ms/step - loss: 0.0089 - mean_squared_error: 0.0078 - mean_absolute_error: 0.0639 - val_loss: 0.0059 - val_mean_squared_error: 0.0049 - val_mean_absolute_error: 0.0482\n",
      "Epoch 8/100\n",
      "3918/9521 [===========>..................] - ETA: 8:40 - loss: 0.0085 - mean_squared_error: 0.0074 - mean_absolute_error: 0.0621"
     ]
    }
   ],
   "source": [
    "# Assuming you have already set up your model\n",
    "\n",
    "# Paths to your memmap files\n",
    "x_memmap_path = 'x_dataset.memmap'\n",
    "y_memmap_path = 'y_dataset.memmap'\n",
    "\n",
    "# Calculate steps per epoch and validation steps\n",
    "num_train_samples = int(num_samples * 0.7)  \n",
    "num_val_samples = int(num_samples * 0.15)   \n",
    "\n",
    "steps_per_epoch = num_train_samples // batch_size\n",
    "validation_steps = num_val_samples // batch_size\n",
    "\n",
    "# Create generators\n",
    "train_generator = memmap_batch_generator(x_memmap_path, y_memmap_path, batch_size, shuffle=True)\n",
    "validation_generator = memmap_batch_generator(x_memmap_path, y_memmap_path, batch_size, shuffle=False)  # Assuming you can use the same for simplicity\n",
    "\n",
    "# Train the model\n",
    "model.fit(\n",
    "    train_generator,\n",
    "    steps_per_epoch=steps_per_epoch,\n",
    "    epochs=100,  # Adjust as needed\n",
    "    validation_data=validation_generator,\n",
    "    validation_steps=validation_steps,\n",
    "    callbacks=[early_stopping]\n",
    ")\n"
   ]
  },
  {
   "cell_type": "code",
   "execution_count": 1,
   "metadata": {},
   "outputs": [],
   "source": [
    "#load the model\n",
    "from keras.models import load_model\n",
    "model = load_model('./models/eye_gaze_v22v1.h5')"
   ]
  },
  {
   "cell_type": "code",
   "execution_count": 4,
   "metadata": {},
   "outputs": [
    {
     "name": "stdout",
     "output_type": "stream",
     "text": [
      "172/172 [==============================] - 6s 8ms/step - loss: 0.1120 - mean_squared_error: 0.1120 - mean_absolute_error: 0.2903\n"
     ]
    },
    {
     "data": {
      "text/plain": [
       "[0.11199667304754257, 0.11199667304754257, 0.2903013229370117]"
      ]
     },
     "execution_count": 4,
     "metadata": {},
     "output_type": "execute_result"
    }
   ],
   "source": [
    "# Example: Evaluate on a test set\n",
    "x_test_memmap = np.memmap('x_dataset.memmap', dtype=x_dtype, mode='r', shape=(num_samples,) + x_shape)\n",
    "y_test_memmap = np.memmap('y_dataset.memmap', dtype=y_dtype, mode='r', shape=(num_samples,) + y_shape)\n",
    "\n",
    "# Assuming the last 15% of the data is for testing\n",
    "test_start_index = int(num_samples * 0.99)\n",
    "x_test = x_test_memmap[test_start_index:]\n",
    "y_test = y_test_memmap[test_start_index:]\n",
    "\n",
    "model.evaluate(x_test, y_test, batch_size=16)\n"
   ]
  },
  {
   "cell_type": "code",
   "execution_count": null,
   "metadata": {},
   "outputs": [],
   "source": [
    "model.save('./models/eye_gaze_v22v1.h5')"
   ]
  }
 ],
 "metadata": {
  "kernelspec": {
   "display_name": "py3_9_tf_12",
   "language": "python",
   "name": "python3"
  },
  "language_info": {
   "codemirror_mode": {
    "name": "ipython",
    "version": 3
   },
   "file_extension": ".py",
   "mimetype": "text/x-python",
   "name": "python",
   "nbconvert_exporter": "python",
   "pygments_lexer": "ipython3",
   "version": "3.9.18"
  }
 },
 "nbformat": 4,
 "nbformat_minor": 2
}
