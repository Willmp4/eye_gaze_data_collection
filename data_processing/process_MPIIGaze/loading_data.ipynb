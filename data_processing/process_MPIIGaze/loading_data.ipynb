{
 "cells": [
  {
   "cell_type": "code",
   "execution_count": 1,
   "metadata": {},
   "outputs": [],
   "source": [
    "import os\n",
    "import cv2\n",
    "import pickle\n",
    "import h5py\n",
    "import numpy as np\n",
    "import cv2\n",
    "import glob\n",
    "import pandas as pd"
   ]
  },
  {
   "cell_type": "code",
   "execution_count": 2,
   "metadata": {},
   "outputs": [],
   "source": [
    "def preprocess_frame(frame, target_size=(200, 100)):\n",
    "    \"\"\"\n",
    "    Preprocesses a frame for gaze prediction.\n",
    "    Args:\n",
    "    - frame: The input image frame (assumed to be in BGR format as per OpenCV standard)\n",
    "    - target_size: The target size to which the frame should be resized (width, height)\n",
    "\n",
    "    Returns:\n",
    "    - Preprocessed frame\n",
    "    \"\"\"\n",
    "    # Check if image is loaded correctly\n",
    "    if frame is None:\n",
    "        raise ValueError(\"Invalid input frame\")\n",
    "\n",
    "    # Convert to grayscale\n",
    "    gray_image = cv2.cvtColor(frame, cv2.COLOR_BGR2GRAY)\n",
    "\n",
    "    # Apply a binary threshold to get a binary image\n",
    "    _, binary_image = cv2.threshold(gray_image, 1, 255, cv2.THRESH_BINARY)\n",
    "\n",
    "    # Find contours\n",
    "    contours, _ = cv2.findContours(binary_image, cv2.RETR_EXTERNAL, cv2.CHAIN_APPROX_SIMPLE)\n",
    "    if not contours:\n",
    "        raise ValueError(\"No contours found in the frame\")\n",
    "\n",
    "    # Find the largest contour based on area\n",
    "    largest_contour = max(contours, key=cv2.contourArea)\n",
    "\n",
    "    # Get the bounding box of the largest contour\n",
    "    x, y, w, h = cv2.boundingRect(largest_contour)\n",
    "\n",
    "    # Crop the image using the bounding box\n",
    "    cropped_image = frame[y:y+h, x:x+w]\n",
    "\n",
    "    # Resize the cropped image to the target size\n",
    "    resized_image = cv2.resize(cropped_image, target_size)\n",
    " \n",
    "    # Convert to float and normalize\n",
    "    preprocessed_image = resized_image.astype(np.float32) / 255.0\n",
    "\n",
    "    return preprocessed_image"
   ]
  },
  {
   "cell_type": "code",
   "execution_count": 3,
   "metadata": {},
   "outputs": [],
   "source": [
    "def get_h5_file_path(subdir):\n",
    "\n",
    "    # Extract the parent directory of the 'subdir' to get the user's data directory\n",
    "    user_data_dir = os.path.dirname(subdir)\n",
    "    \n",
    "    # Construct the path to the 'Calibration' directory\n",
    "    calibration_dir = os.path.join(user_data_dir, 'Calibration')\n",
    "    \n",
    "    # Assuming there's only one .h5 file per user in the 'Calibration' directory\n",
    "    for file in os.listdir(calibration_dir):\n",
    "        if file.endswith('.h5'):\n",
    "            if 'screenSize' in file:\n",
    "                return os.path.join(calibration_dir, file)\n",
    "    \n",
    "    # If no .h5 file is found, return None or raise an error\n",
    "    return None"
   ]
  },
  {
   "cell_type": "code",
   "execution_count": 4,
   "metadata": {},
   "outputs": [],
   "source": [
    "def compute_global_stats_txt(base_dir):\n",
    "    all_head_pose_data = []\n",
    "    # Iterate through all text files recursively in the base directory\n",
    "    for txt_file in glob.glob(os.path.join(base_dir, '**', '*.txt'), recursive=True):\n",
    "        with open(txt_file, 'r') as file:\n",
    "            for line in file:\n",
    "                # Split the line into a list of values\n",
    "                values = line.strip().split()\n",
    "                # Extract head pose data (rotation and translation) from the line\n",
    "                head_pose_data = [float(values[i]) for i in range(29, 35)] \n",
    "                all_head_pose_data.append(head_pose_data)\n",
    "\n",
    "    all_head_pose_data = np.array(all_head_pose_data)\n",
    "    # Compute minimum and maximum values for each column (dimension)\n",
    "    min_vals = np.min(all_head_pose_data, axis=0)\n",
    "    max_vals = np.max(all_head_pose_data, axis=0)\n",
    "\n",
    "    return min_vals, max_vals"
   ]
  },
  {
   "cell_type": "code",
   "execution_count": 5,
   "metadata": {},
   "outputs": [],
   "source": [
    "min_vals, max_vals = compute_global_stats_txt('../MPIIGaze/Data/original')"
   ]
  },
  {
   "cell_type": "code",
   "execution_count": 6,
   "metadata": {},
   "outputs": [
    {
     "data": {
      "text/plain": [
       "(array([-1.08600600e+00, -1.25604700e+00, -3.45308000e-01, -7.48378723e+02,\n",
       "        -4.05566376e+02,  1.68924423e+02]),\n",
       " array([8.99462000e-01, 1.18543900e+00, 3.80730000e-01, 4.97009918e+02,\n",
       "        3.27464874e+02, 1.73951575e+03]))"
      ]
     },
     "execution_count": 6,
     "metadata": {},
     "output_type": "execute_result"
    }
   ],
   "source": [
    "min_vals, max_vals"
   ]
  },
  {
   "cell_type": "code",
   "execution_count": 39,
   "metadata": {},
   "outputs": [],
   "source": [
    "def read_h5(h5_file_path):\n",
    "    with h5py.File(h5_file_path, 'r') as h5_file:\n",
    "        h5_data = {key: h5_file[key][:] for key in h5_file.keys()}\n",
    "    return h5_data\n",
    "\n",
    "def normalize_annotations(annotation, width_pixel, height_pixel):\n",
    "    normalized_x = float(annotation[0]) / width_pixel\n",
    "    normalized_y = float(annotation[1]) / height_pixel\n",
    "    return [normalized_x, normalized_y]\n",
    "\n",
    "def normalize_head_pose(head_pose_data, min_vals, max_vals):\n",
    "    normalized_head_pose_data = (head_pose_data - min_vals) / (max_vals - min_vals)\n",
    "    return normalized_head_pose_data\n",
    "\n",
    "def append_to_pickle(data, filename):\n",
    "    try:\n",
    "        with open(filename, 'rb') as file:\n",
    "            existing_data = pickle.load(file)\n",
    "    except FileNotFoundError:\n",
    "        existing_data = {'X': [], 'Y': []}\n",
    "\n",
    "    existing_data['X'].extend(data['X'])\n",
    "    existing_data['Y'].extend(data['Y'])\n",
    "\n",
    "    with open(filename, 'wb') as file:\n",
    "        pickle.dump(existing_data, file)\n",
    "\n",
    "def process_images_and_annotations(base_path, subdir_limit=1):\n",
    "    X, Y= [], []\n",
    "    batch_number = 0\n",
    "    last_processed_dir = \"\"\n",
    "    processed_dirs_count = 0\n",
    "    # min_vals, max_vals = compute_global_stats_txt(base_path)\n",
    "\n",
    "    try:\n",
    "        with open('progress_log.txt', 'r') as file:\n",
    "            batch_number, last_processed_dir = file.read().strip().split('\\n')\n",
    "            batch_number = int(batch_number)\n",
    "    except FileNotFoundError:\n",
    "        print(\"No progress log found. Starting from the beginning.\")\n",
    "\n",
    "    for subdir, dirs, files in os.walk(base_path):\n",
    "        if processed_dirs_count >= subdir_limit:\n",
    "            break  # Stop processing once the subdir limit is reached\n",
    "\n",
    "        if subdir <= last_processed_dir:\n",
    "            continue\n",
    "\n",
    "        print(f\"Processing directory {subdir}\")\n",
    "\n",
    "        if not any(file.endswith('.jpg') for file in files):\n",
    "            continue\n",
    "\n",
    "        processed_dirs_count += 1\n",
    "        \n",
    "        user = os.path.basename(os.path.dirname(subdir))\n",
    "        h5_file_path = os.path.join(base_path, user, 'Calibration', 'screenSize.h5')\n",
    "        \n",
    "        if not os.path.exists(h5_file_path):\n",
    "            print(f\"No .h5 file found for user {user}. Skipping.\")\n",
    "            continue\n",
    "\n",
    "        h5_data = read_h5(h5_file_path)\n",
    "        width_pixel, height_pixel = h5_data['width_pixel'][0,0], h5_data['height_pixel'][0,0]\n",
    "\n",
    "        annotation_file = os.path.join(subdir, 'annotation.txt')\n",
    "        if not os.path.exists(annotation_file):\n",
    "            print(f\"No annotation file found for directory {subdir}. Skipping.\")\n",
    "            continue\n",
    "\n",
    "        with open(annotation_file, 'r') as ann_file:\n",
    "            annotations = [line.strip().split() for line in ann_file]\n",
    "\n",
    "        for file in sorted(files):\n",
    "            if file.endswith('.jpg'):\n",
    "                image_path = os.path.join(subdir, file)\n",
    "                image_index = sorted(files).index(file)\n",
    "                if image_index < len(annotations):\n",
    "                    annotation = normalize_annotations(annotations[image_index][24:26], width_pixel, height_pixel)\n",
    "                    head_pose_data = np.array(annotations[image_index][29:35], dtype=float)\n",
    "                    normalized_head_pose = normalize_head_pose(head_pose_data, min_vals, max_vals)\n",
    "                    image = cv2.imread(image_path)\n",
    "                    # Assuming preprocess_frame is a function you have defined elsewhere\n",
    "                    preprocessed_image = preprocess_frame(image)\n",
    "                    X.append(preprocessed_image)\n",
    "                    # append both annotation and head pose data to Y\n",
    "                    Y.append([annotation, normalized_head_pose])\n",
    "\n",
    "        append_to_pickle({'X': X, 'Y': Y}, f'batches_head_pos/data_batch_{batch_number}.pkl')\n",
    "        del X, Y, \n",
    "        X, Y = [], []\n",
    "        batch_number += 1\n",
    "        with open('progress_log.txt', 'w') as file:\n",
    "            file.write(f\"{batch_number}\\n{subdir}\")\n",
    "\n",
    "    return X, Y, batch_number"
   ]
  },
  {
   "cell_type": "code",
   "execution_count": 48,
   "metadata": {},
   "outputs": [],
   "source": [
    "# Load and preprocess the images and annotations\n",
    "images, gaze_data, batch_number = process_images_and_annotations('../MPIIGaze/Data/Original',25)"
   ]
  },
  {
   "cell_type": "code",
   "execution_count": 30,
   "metadata": {},
   "outputs": [
    {
     "data": {
      "text/plain": [
       "21"
      ]
     },
     "execution_count": 30,
     "metadata": {},
     "output_type": "execute_result"
    }
   ],
   "source": [
    "#clear memory\n",
    "import gc\n",
    "del images\n",
    "del gaze_data\n",
    "gc.collect()"
   ]
  }
 ],
 "metadata": {
  "kernelspec": {
   "display_name": "tf2.10_",
   "language": "python",
   "name": "python3"
  },
  "language_info": {
   "codemirror_mode": {
    "name": "ipython",
    "version": 3
   },
   "file_extension": ".py",
   "mimetype": "text/x-python",
   "name": "python",
   "nbconvert_exporter": "python",
   "pygments_lexer": "ipython3",
   "version": "3.7.16"
  }
 },
 "nbformat": 4,
 "nbformat_minor": 2
}
