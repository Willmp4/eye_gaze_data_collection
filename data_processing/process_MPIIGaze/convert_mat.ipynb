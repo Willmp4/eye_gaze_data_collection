{
 "cells": [
  {
   "cell_type": "code",
   "execution_count": 37,
   "metadata": {},
   "outputs": [],
   "source": [
    "import os"
   ]
  },
  {
   "cell_type": "code",
   "execution_count": 38,
   "metadata": {},
   "outputs": [],
   "source": [
    "import h5py\n",
    "from scipy.io import loadmat\n",
    "\n",
    "# Function to convert .mat to .h5\n",
    "def convert_mat_to_h5(mat_file_path, h5_file_path):\n",
    "    # Load .mat file\n",
    "    mat_data = loadmat(mat_file_path)\n",
    "    \n",
    "    # Create a new .h5 file\n",
    "    with h5py.File(h5_file_path, 'w') as h5_file:\n",
    "        # Iterate through the keys in the .mat file\n",
    "        for key in mat_data:\n",
    "            # Skip any of the file attributes that scipy.io.loadmat adds\n",
    "            if key.startswith(\"__\"):\n",
    "                continue\n",
    "            \n",
    "            # Add the data to the .h5 file\n",
    "            h5_file.create_dataset(key, data=mat_data[key])"
   ]
  },
  {
   "cell_type": "code",
   "execution_count": 39,
   "metadata": {},
   "outputs": [],
   "source": [
    "def walkthrough(base_path):\n",
    "\n",
    "    # Traverse the base_path recursively\n",
    "    for subdir, dirs, files in os.walk(base_path):\n",
    "        if 'Calibration' in subdir:\n",
    "            print('Processing calibration data...')\n",
    "            for file in files:\n",
    "                if file.endswith('.mat'):\n",
    "                    # Convert .mat to .h5\n",
    "                    convert_mat_to_h5(os.path.join(subdir, file), os.path.join(subdir, file.replace('.mat', '.h5')))"
   ]
  },
  {
   "cell_type": "code",
   "execution_count": 40,
   "metadata": {},
   "outputs": [],
   "source": [
    "# Read .h5 file\n",
    "def read_h5(h5_file_path):\n",
    "    with h5py.File(h5_file_path, 'r') as h5_file:\n",
    "        # Print the keys of the file\n",
    "        print(list(h5_file.keys()))\n",
    "\n",
    "        # show the values of the keys\n",
    "        for key in h5_file.keys():\n",
    "            print(h5_file[key])"
   ]
  },
  {
   "cell_type": "code",
   "execution_count": 41,
   "metadata": {},
   "outputs": [
    {
     "name": "stdout",
     "output_type": "stream",
     "text": [
      "Processing calibration data...\n",
      "Processing calibration data...\n",
      "Processing calibration data...\n",
      "Processing calibration data...\n",
      "Processing calibration data...\n",
      "Processing calibration data...\n",
      "Processing calibration data...\n",
      "Processing calibration data...\n",
      "Processing calibration data...\n",
      "Processing calibration data...\n",
      "Processing calibration data...\n",
      "Processing calibration data...\n",
      "Processing calibration data...\n",
      "Processing calibration data...\n",
      "Processing calibration data...\n"
     ]
    }
   ],
   "source": [
    "#call the function\n",
    "walkthrough('../MPIIGaze/')"
   ]
  }
 ],
 "metadata": {
  "kernelspec": {
   "display_name": "Python(data_processing)",
   "language": "python",
   "name": "data_processing"
  },
  "language_info": {
   "codemirror_mode": {
    "name": "ipython",
    "version": 3
   },
   "file_extension": ".py",
   "mimetype": "text/x-python",
   "name": "python",
   "nbconvert_exporter": "python",
   "pygments_lexer": "ipython3",
   "version": "3.11.2"
  }
 },
 "nbformat": 4,
 "nbformat_minor": 2
}
