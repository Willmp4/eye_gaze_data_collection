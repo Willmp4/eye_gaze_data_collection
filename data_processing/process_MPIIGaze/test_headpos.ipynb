{
 "cells": [
  {
   "cell_type": "code",
   "execution_count": 24,
   "metadata": {},
   "outputs": [],
   "source": [
    "import glob \n",
    "import pandas as pd\n",
    "import numpy as np\n",
    "import os"
   ]
  },
  {
   "cell_type": "code",
   "execution_count": 34,
   "metadata": {},
   "outputs": [],
   "source": [
    "import os\n",
    "import glob\n",
    "import pandas as pd\n",
    "import numpy as np\n",
    "\n",
    "def compute_global_stats(base_dir):\n",
    "    all_head_pose_data = []\n",
    "    # Search for CSV files in all subdirectories of base_dir\n",
    "    for csv_file in glob.glob(os.path.join(base_dir, '**', '*.csv'), recursive=True):\n",
    "        if 'calibration' in csv_file:\n",
    "            data = pd.read_csv(csv_file, usecols=[15, 16])  # Adjust columns if necessary\n",
    "            for _, row in data.iterrows():\n",
    "                # Use .iloc to access elements by position\n",
    "                head_pose_data = [float(x) for x in row.iloc[0].strip('\"').split(',')]\n",
    "                head_translation_data = [float(x) for x in row.iloc[1].strip('\"').split(',')]\n",
    "                all_head_pose_data.append(head_pose_data + head_translation_data)\n",
    "    all_head_pose_data = np.array(all_head_pose_data)\n",
    "    mean = np.mean(all_head_pose_data, axis=0)\n",
    "    std = np.std(all_head_pose_data, axis=0)\n",
    "    return mean, std\n"
   ]
  },
  {
   "cell_type": "code",
   "execution_count": 35,
   "metadata": {},
   "outputs": [],
   "source": [
    "mean, std = compute_global_stats('../data')"
   ]
  },
  {
   "cell_type": "code",
   "execution_count": 36,
   "metadata": {},
   "outputs": [
    {
     "data": {
      "text/plain": [
       "(array([-2.66271074e+00, -4.16225316e-02, -1.18021459e-01, -3.67195830e+01,\n",
       "         1.28388076e+02,  2.25090497e+03]),\n",
       " array([1.59797091e+00, 5.79512029e-02, 3.60372081e-01, 1.18080051e+02,\n",
       "        1.18422309e+02, 3.21470303e+02]))"
      ]
     },
     "execution_count": 36,
     "metadata": {},
     "output_type": "execute_result"
    }
   ],
   "source": [
    "mean, std"
   ]
  }
 ],
 "metadata": {
  "kernelspec": {
   "display_name": "data_processing",
   "language": "python",
   "name": "python3"
  },
  "language_info": {
   "codemirror_mode": {
    "name": "ipython",
    "version": 3
   },
   "file_extension": ".py",
   "mimetype": "text/x-python",
   "name": "python",
   "nbconvert_exporter": "python",
   "pygments_lexer": "ipython3",
   "version": "3.10.13"
  }
 },
 "nbformat": 4,
 "nbformat_minor": 2
}
