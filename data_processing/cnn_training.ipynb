{
 "cells": [
  {
   "cell_type": "code",
   "execution_count": 1,
   "metadata": {},
   "outputs": [],
   "source": [
    "import numpy as np\n",
    "from sklearn.model_selection import train_test_split\n",
    "import json"
   ]
  },
  {
   "cell_type": "code",
   "execution_count": 2,
   "metadata": {},
   "outputs": [],
   "source": [
    "import pickle\n",
    "\n",
    "def load_processed_data(file_path):\n",
    "    with open(file_path, 'rb') as file:\n",
    "        X, Y = pickle.load(file)\n",
    "    return X, Y"
   ]
  },
  {
   "cell_type": "code",
   "execution_count": 3,
   "metadata": {},
   "outputs": [],
   "source": [
    "X, Y = load_processed_data('res_processed_data.pkl')"
   ]
  },
  {
   "cell_type": "code",
   "execution_count": 4,
   "metadata": {},
   "outputs": [],
   "source": [
    "\n",
    "X_filtered = [img for img in X if img is not None and isinstance(img, np.ndarray)]\n",
    "Y_filtered = [Y[i] for i in range(len(Y)) if X[i] is not None and isinstance(X[i], np.ndarray)]\n",
    "\n",
    "X_filtered = np.array(X_filtered)\n",
    "\n",
    "Y_filtered = np.array(Y_filtered)\n",
    "Y_filtered = Y_filtered[:, :2]"
   ]
  },
  {
   "cell_type": "code",
   "execution_count": 5,
   "metadata": {},
   "outputs": [
    {
     "data": {
      "text/plain": [
       "(3948, 3948)"
      ]
     },
     "execution_count": 5,
     "metadata": {},
     "output_type": "execute_result"
    }
   ],
   "source": [
    "len(X_filtered), len(Y_filtered)"
   ]
  },
  {
   "cell_type": "code",
   "execution_count": 6,
   "metadata": {},
   "outputs": [
    {
     "data": {
      "text/plain": [
       "(3948, 2)"
      ]
     },
     "execution_count": 6,
     "metadata": {},
     "output_type": "execute_result"
    }
   ],
   "source": [
    "Y_filtered.shape"
   ]
  },
  {
   "cell_type": "code",
   "execution_count": 7,
   "metadata": {},
   "outputs": [],
   "source": [
    "import cv2\n",
    "cv2.imshow('image', X_filtered[0])\n",
    "cv2.waitKey(0)\n",
    "cv2.destroyAllWindows()"
   ]
  },
  {
   "cell_type": "code",
   "execution_count": 8,
   "metadata": {},
   "outputs": [],
   "source": [
    "X_train, X_test, Y_train, Y_test = train_test_split(X_filtered, Y_filtered, test_size=0.2, random_state=42)\n",
    "#Val data\n",
    "X_train, X_val, Y_train, Y_val = train_test_split(X_train, Y_train, test_size=0.2, random_state=42)"
   ]
  },
  {
   "cell_type": "code",
   "execution_count": 9,
   "metadata": {},
   "outputs": [
    {
     "name": "stdout",
     "output_type": "stream",
     "text": [
      "Epoch 1/100\n",
      "79/79 [==============================] - 11s 128ms/step - loss: 0.5603 - mean_squared_error: 0.4695 - mean_absolute_error: 0.5081 - val_loss: 0.4251 - val_mean_squared_error: 0.3345 - val_mean_absolute_error: 0.4799\n",
      "Epoch 2/100\n",
      "79/79 [==============================] - 10s 130ms/step - loss: 0.2584 - mean_squared_error: 0.1680 - mean_absolute_error: 0.3289 - val_loss: 0.3998 - val_mean_squared_error: 0.3096 - val_mean_absolute_error: 0.4591\n",
      "Epoch 3/100\n",
      "79/79 [==============================] - 10s 129ms/step - loss: 0.2271 - mean_squared_error: 0.1372 - mean_absolute_error: 0.2973 - val_loss: 0.3649 - val_mean_squared_error: 0.2754 - val_mean_absolute_error: 0.4291\n",
      "Epoch 4/100\n",
      "79/79 [==============================] - 10s 129ms/step - loss: 0.2094 - mean_squared_error: 0.1202 - mean_absolute_error: 0.2762 - val_loss: 0.3245 - val_mean_squared_error: 0.2355 - val_mean_absolute_error: 0.3942\n",
      "Epoch 5/100\n",
      "79/79 [==============================] - 10s 130ms/step - loss: 0.2060 - mean_squared_error: 0.1174 - mean_absolute_error: 0.2751 - val_loss: 0.2831 - val_mean_squared_error: 0.1948 - val_mean_absolute_error: 0.3560\n",
      "Epoch 6/100\n",
      "79/79 [==============================] - 10s 132ms/step - loss: 0.1943 - mean_squared_error: 0.1063 - mean_absolute_error: 0.2611 - val_loss: 0.2476 - val_mean_squared_error: 0.1600 - val_mean_absolute_error: 0.3213\n",
      "Epoch 7/100\n",
      "79/79 [==============================] - 10s 132ms/step - loss: 0.1911 - mean_squared_error: 0.1038 - mean_absolute_error: 0.2572 - val_loss: 0.1983 - val_mean_squared_error: 0.1114 - val_mean_absolute_error: 0.2663\n",
      "Epoch 8/100\n",
      "79/79 [==============================] - 10s 131ms/step - loss: 0.1820 - mean_squared_error: 0.0955 - mean_absolute_error: 0.2460 - val_loss: 0.1682 - val_mean_squared_error: 0.0820 - val_mean_absolute_error: 0.2269\n",
      "Epoch 9/100\n",
      "79/79 [==============================] - 10s 128ms/step - loss: 0.1786 - mean_squared_error: 0.0929 - mean_absolute_error: 0.2418 - val_loss: 0.1562 - val_mean_squared_error: 0.0708 - val_mean_absolute_error: 0.2118\n",
      "Epoch 10/100\n",
      "79/79 [==============================] - 10s 129ms/step - loss: 0.1767 - mean_squared_error: 0.0917 - mean_absolute_error: 0.2410 - val_loss: 0.1501 - val_mean_squared_error: 0.0654 - val_mean_absolute_error: 0.2016\n",
      "Epoch 11/100\n",
      "79/79 [==============================] - 10s 132ms/step - loss: 0.1715 - mean_squared_error: 0.0872 - mean_absolute_error: 0.2352 - val_loss: 0.1444 - val_mean_squared_error: 0.0605 - val_mean_absolute_error: 0.1940\n",
      "Epoch 12/100\n",
      "79/79 [==============================] - 10s 130ms/step - loss: 0.1681 - mean_squared_error: 0.0846 - mean_absolute_error: 0.2315 - val_loss: 0.1414 - val_mean_squared_error: 0.0583 - val_mean_absolute_error: 0.1901\n",
      "Epoch 13/100\n",
      "79/79 [==============================] - 10s 133ms/step - loss: 0.1666 - mean_squared_error: 0.0839 - mean_absolute_error: 0.2302 - val_loss: 0.1415 - val_mean_squared_error: 0.0592 - val_mean_absolute_error: 0.1904\n",
      "Epoch 14/100\n",
      "79/79 [==============================] - 10s 131ms/step - loss: 0.1637 - mean_squared_error: 0.0817 - mean_absolute_error: 0.2254 - val_loss: 0.1391 - val_mean_squared_error: 0.0576 - val_mean_absolute_error: 0.1893\n",
      "Epoch 15/100\n",
      "79/79 [==============================] - 10s 133ms/step - loss: 0.1606 - mean_squared_error: 0.0795 - mean_absolute_error: 0.2236 - val_loss: 0.1373 - val_mean_squared_error: 0.0565 - val_mean_absolute_error: 0.1847\n",
      "Epoch 16/100\n",
      "79/79 [==============================] - 11s 137ms/step - loss: 0.1585 - mean_squared_error: 0.0782 - mean_absolute_error: 0.2201 - val_loss: 0.1355 - val_mean_squared_error: 0.0555 - val_mean_absolute_error: 0.1845\n",
      "Epoch 17/100\n",
      "79/79 [==============================] - 11s 142ms/step - loss: 0.1545 - mean_squared_error: 0.0749 - mean_absolute_error: 0.2147 - val_loss: 0.1327 - val_mean_squared_error: 0.0535 - val_mean_absolute_error: 0.1804\n",
      "Epoch 18/100\n",
      "79/79 [==============================] - 10s 131ms/step - loss: 0.1538 - mean_squared_error: 0.0750 - mean_absolute_error: 0.2157 - val_loss: 0.1304 - val_mean_squared_error: 0.0520 - val_mean_absolute_error: 0.1783\n",
      "Epoch 19/100\n",
      "79/79 [==============================] - 9s 117ms/step - loss: 0.1516 - mean_squared_error: 0.0735 - mean_absolute_error: 0.2143 - val_loss: 0.1330 - val_mean_squared_error: 0.0553 - val_mean_absolute_error: 0.1855\n",
      "Epoch 20/100\n",
      "79/79 [==============================] - 9s 114ms/step - loss: 0.1496 - mean_squared_error: 0.0724 - mean_absolute_error: 0.2119 - val_loss: 0.1323 - val_mean_squared_error: 0.0554 - val_mean_absolute_error: 0.1824\n",
      "Epoch 21/100\n",
      "79/79 [==============================] - 9s 111ms/step - loss: 0.1451 - mean_squared_error: 0.0686 - mean_absolute_error: 0.2069 - val_loss: 0.1305 - val_mean_squared_error: 0.0544 - val_mean_absolute_error: 0.1802\n",
      "Epoch 22/100\n",
      "79/79 [==============================] - 9s 119ms/step - loss: 0.1424 - mean_squared_error: 0.0667 - mean_absolute_error: 0.2036 - val_loss: 0.1364 - val_mean_squared_error: 0.0611 - val_mean_absolute_error: 0.1985\n",
      "Epoch 23/100\n",
      "79/79 [==============================] - 10s 124ms/step - loss: 0.1410 - mean_squared_error: 0.0661 - mean_absolute_error: 0.2032 - val_loss: 0.1284 - val_mean_squared_error: 0.0538 - val_mean_absolute_error: 0.1843\n",
      "Epoch 24/100\n",
      "79/79 [==============================] - 10s 121ms/step - loss: 0.1386 - mean_squared_error: 0.0644 - mean_absolute_error: 0.1972 - val_loss: 0.1353 - val_mean_squared_error: 0.0615 - val_mean_absolute_error: 0.1984\n",
      "Epoch 25/100\n",
      "79/79 [==============================] - 9s 119ms/step - loss: 0.1355 - mean_squared_error: 0.0621 - mean_absolute_error: 0.1957 - val_loss: 0.1338 - val_mean_squared_error: 0.0607 - val_mean_absolute_error: 0.1972\n",
      "Epoch 26/100\n",
      "79/79 [==============================] - 9s 119ms/step - loss: 0.1354 - mean_squared_error: 0.0627 - mean_absolute_error: 0.1971 - val_loss: 0.1289 - val_mean_squared_error: 0.0567 - val_mean_absolute_error: 0.1881\n",
      "Epoch 27/100\n",
      "79/79 [==============================] - 9s 118ms/step - loss: 0.1330 - mean_squared_error: 0.0611 - mean_absolute_error: 0.1929 - val_loss: 0.1378 - val_mean_squared_error: 0.0662 - val_mean_absolute_error: 0.2074\n",
      "Epoch 28/100\n",
      "79/79 [==============================] - 9s 120ms/step - loss: 0.1300 - mean_squared_error: 0.0588 - mean_absolute_error: 0.1905 - val_loss: 0.1319 - val_mean_squared_error: 0.0611 - val_mean_absolute_error: 0.1961\n",
      "Epoch 29/100\n",
      "79/79 [==============================] - 9s 117ms/step - loss: 0.1281 - mean_squared_error: 0.0577 - mean_absolute_error: 0.1885 - val_loss: 0.1311 - val_mean_squared_error: 0.0610 - val_mean_absolute_error: 0.1988\n",
      "Epoch 30/100\n",
      "79/79 [==============================] - 9s 115ms/step - loss: 0.1271 - mean_squared_error: 0.0574 - mean_absolute_error: 0.1882 - val_loss: 0.1286 - val_mean_squared_error: 0.0593 - val_mean_absolute_error: 0.1933\n",
      "Epoch 31/100\n",
      "79/79 [==============================] - 9s 116ms/step - loss: 0.1247 - mean_squared_error: 0.0557 - mean_absolute_error: 0.1852 - val_loss: 0.1303 - val_mean_squared_error: 0.0617 - val_mean_absolute_error: 0.1981\n",
      "Epoch 32/100\n",
      "79/79 [==============================] - 9s 116ms/step - loss: 0.1246 - mean_squared_error: 0.0563 - mean_absolute_error: 0.1840 - val_loss: 0.1375 - val_mean_squared_error: 0.0696 - val_mean_absolute_error: 0.2128\n",
      "Epoch 33/100\n",
      "79/79 [==============================] - 9s 112ms/step - loss: 0.1230 - mean_squared_error: 0.0555 - mean_absolute_error: 0.1849 - val_loss: 0.1348 - val_mean_squared_error: 0.0676 - val_mean_absolute_error: 0.2098\n",
      "Epoch 34/100\n",
      "79/79 [==============================] - 9s 118ms/step - loss: 0.1202 - mean_squared_error: 0.0534 - mean_absolute_error: 0.1803 - val_loss: 0.1310 - val_mean_squared_error: 0.0645 - val_mean_absolute_error: 0.2041\n",
      "Epoch 35/100\n",
      "79/79 [==============================] - 9s 114ms/step - loss: 0.1181 - mean_squared_error: 0.0520 - mean_absolute_error: 0.1777 - val_loss: 0.1178 - val_mean_squared_error: 0.0521 - val_mean_absolute_error: 0.1806\n",
      "Epoch 36/100\n",
      "79/79 [==============================] - 9s 116ms/step - loss: 0.1168 - mean_squared_error: 0.0514 - mean_absolute_error: 0.1756 - val_loss: 0.1225 - val_mean_squared_error: 0.0575 - val_mean_absolute_error: 0.1925\n",
      "Epoch 37/100\n",
      "79/79 [==============================] - 9s 113ms/step - loss: 0.1156 - mean_squared_error: 0.0509 - mean_absolute_error: 0.1764 - val_loss: 0.1215 - val_mean_squared_error: 0.0572 - val_mean_absolute_error: 0.1920\n",
      "Epoch 38/100\n",
      "79/79 [==============================] - 9s 115ms/step - loss: 0.1140 - mean_squared_error: 0.0500 - mean_absolute_error: 0.1747 - val_loss: 0.1209 - val_mean_squared_error: 0.0572 - val_mean_absolute_error: 0.1903\n",
      "Epoch 39/100\n",
      "79/79 [==============================] - 9s 114ms/step - loss: 0.1133 - mean_squared_error: 0.0500 - mean_absolute_error: 0.1734 - val_loss: 0.1209 - val_mean_squared_error: 0.0579 - val_mean_absolute_error: 0.1931\n",
      "Epoch 40/100\n",
      "79/79 [==============================] - 9s 116ms/step - loss: 0.1116 - mean_squared_error: 0.0490 - mean_absolute_error: 0.1727 - val_loss: 0.1141 - val_mean_squared_error: 0.0518 - val_mean_absolute_error: 0.1775\n",
      "Epoch 41/100\n",
      "79/79 [==============================] - 9s 113ms/step - loss: 0.1099 - mean_squared_error: 0.0479 - mean_absolute_error: 0.1708 - val_loss: 0.1195 - val_mean_squared_error: 0.0579 - val_mean_absolute_error: 0.1906\n",
      "Epoch 42/100\n",
      "79/79 [==============================] - 9s 113ms/step - loss: 0.1097 - mean_squared_error: 0.0485 - mean_absolute_error: 0.1712 - val_loss: 0.1189 - val_mean_squared_error: 0.0580 - val_mean_absolute_error: 0.1921\n",
      "Epoch 43/100\n",
      "79/79 [==============================] - 9s 116ms/step - loss: 0.1081 - mean_squared_error: 0.0475 - mean_absolute_error: 0.1692 - val_loss: 0.1242 - val_mean_squared_error: 0.0639 - val_mean_absolute_error: 0.2013\n",
      "Epoch 44/100\n",
      "79/79 [==============================] - 9s 112ms/step - loss: 0.1052 - mean_squared_error: 0.0453 - mean_absolute_error: 0.1640 - val_loss: 0.1099 - val_mean_squared_error: 0.0503 - val_mean_absolute_error: 0.1762\n",
      "Epoch 45/100\n",
      "79/79 [==============================] - 9s 115ms/step - loss: 0.1042 - mean_squared_error: 0.0449 - mean_absolute_error: 0.1664 - val_loss: 0.1179 - val_mean_squared_error: 0.0590 - val_mean_absolute_error: 0.1931\n",
      "Epoch 46/100\n",
      "79/79 [==============================] - 9s 110ms/step - loss: 0.1023 - mean_squared_error: 0.0437 - mean_absolute_error: 0.1615 - val_loss: 0.1133 - val_mean_squared_error: 0.0550 - val_mean_absolute_error: 0.1855\n",
      "Epoch 47/100\n",
      "79/79 [==============================] - 9s 113ms/step - loss: 0.1036 - mean_squared_error: 0.0457 - mean_absolute_error: 0.1646 - val_loss: 0.1055 - val_mean_squared_error: 0.0479 - val_mean_absolute_error: 0.1710\n",
      "Epoch 48/100\n",
      "79/79 [==============================] - 9s 114ms/step - loss: 0.1015 - mean_squared_error: 0.0442 - mean_absolute_error: 0.1620 - val_loss: 0.1092 - val_mean_squared_error: 0.0522 - val_mean_absolute_error: 0.1790\n",
      "Epoch 49/100\n",
      "79/79 [==============================] - 9s 113ms/step - loss: 0.0999 - mean_squared_error: 0.0432 - mean_absolute_error: 0.1616 - val_loss: 0.1022 - val_mean_squared_error: 0.0458 - val_mean_absolute_error: 0.1670\n",
      "Epoch 50/100\n",
      "79/79 [==============================] - 9s 109ms/step - loss: 0.0988 - mean_squared_error: 0.0428 - mean_absolute_error: 0.1598 - val_loss: 0.0988 - val_mean_squared_error: 0.0431 - val_mean_absolute_error: 0.1591\n",
      "Epoch 51/100\n",
      "79/79 [==============================] - 9s 108ms/step - loss: 0.0982 - mean_squared_error: 0.0428 - mean_absolute_error: 0.1605 - val_loss: 0.1094 - val_mean_squared_error: 0.0543 - val_mean_absolute_error: 0.1832\n",
      "Epoch 52/100\n",
      "79/79 [==============================] - 9s 109ms/step - loss: 0.0960 - mean_squared_error: 0.0412 - mean_absolute_error: 0.1579 - val_loss: 0.1027 - val_mean_squared_error: 0.0483 - val_mean_absolute_error: 0.1697\n",
      "Epoch 53/100\n",
      "79/79 [==============================] - 8s 107ms/step - loss: 0.0967 - mean_squared_error: 0.0426 - mean_absolute_error: 0.1596 - val_loss: 0.1073 - val_mean_squared_error: 0.0534 - val_mean_absolute_error: 0.1809\n",
      "Epoch 54/100\n",
      "79/79 [==============================] - 9s 109ms/step - loss: 0.0933 - mean_squared_error: 0.0398 - mean_absolute_error: 0.1540 - val_loss: 0.0987 - val_mean_squared_error: 0.0455 - val_mean_absolute_error: 0.1668\n",
      "Epoch 55/100\n",
      "79/79 [==============================] - 9s 108ms/step - loss: 0.0936 - mean_squared_error: 0.0407 - mean_absolute_error: 0.1545 - val_loss: 0.0924 - val_mean_squared_error: 0.0398 - val_mean_absolute_error: 0.1537\n",
      "Epoch 56/100\n",
      "79/79 [==============================] - 9s 108ms/step - loss: 0.0934 - mean_squared_error: 0.0411 - mean_absolute_error: 0.1557 - val_loss: 0.0918 - val_mean_squared_error: 0.0398 - val_mean_absolute_error: 0.1538\n",
      "Epoch 57/100\n",
      "79/79 [==============================] - 9s 111ms/step - loss: 0.0907 - mean_squared_error: 0.0390 - mean_absolute_error: 0.1525 - val_loss: 0.0914 - val_mean_squared_error: 0.0400 - val_mean_absolute_error: 0.1534\n",
      "Epoch 58/100\n",
      "79/79 [==============================] - 9s 111ms/step - loss: 0.0889 - mean_squared_error: 0.0378 - mean_absolute_error: 0.1497 - val_loss: 0.0899 - val_mean_squared_error: 0.0391 - val_mean_absolute_error: 0.1515\n",
      "Epoch 59/100\n",
      "79/79 [==============================] - 9s 110ms/step - loss: 0.0886 - mean_squared_error: 0.0382 - mean_absolute_error: 0.1503 - val_loss: 0.0875 - val_mean_squared_error: 0.0373 - val_mean_absolute_error: 0.1490\n",
      "Epoch 60/100\n",
      "79/79 [==============================] - 9s 110ms/step - loss: 0.0881 - mean_squared_error: 0.0383 - mean_absolute_error: 0.1513 - val_loss: 0.0886 - val_mean_squared_error: 0.0391 - val_mean_absolute_error: 0.1525\n",
      "Epoch 61/100\n",
      "79/79 [==============================] - 9s 109ms/step - loss: 0.0878 - mean_squared_error: 0.0385 - mean_absolute_error: 0.1512 - val_loss: 0.0880 - val_mean_squared_error: 0.0391 - val_mean_absolute_error: 0.1507\n",
      "Epoch 62/100\n",
      "79/79 [==============================] - 9s 110ms/step - loss: 0.0870 - mean_squared_error: 0.0383 - mean_absolute_error: 0.1511 - val_loss: 0.0902 - val_mean_squared_error: 0.0418 - val_mean_absolute_error: 0.1588\n",
      "Epoch 63/100\n",
      "79/79 [==============================] - 9s 109ms/step - loss: 0.0856 - mean_squared_error: 0.0375 - mean_absolute_error: 0.1486 - val_loss: 0.0830 - val_mean_squared_error: 0.0352 - val_mean_absolute_error: 0.1436\n",
      "Epoch 64/100\n",
      "79/79 [==============================] - 9s 109ms/step - loss: 0.0833 - mean_squared_error: 0.0358 - mean_absolute_error: 0.1450 - val_loss: 0.0883 - val_mean_squared_error: 0.0411 - val_mean_absolute_error: 0.1575\n",
      "Epoch 65/100\n",
      "79/79 [==============================] - 9s 108ms/step - loss: 0.0835 - mean_squared_error: 0.0366 - mean_absolute_error: 0.1473 - val_loss: 0.0827 - val_mean_squared_error: 0.0361 - val_mean_absolute_error: 0.1440\n",
      "Epoch 66/100\n",
      "79/79 [==============================] - 9s 109ms/step - loss: 0.0829 - mean_squared_error: 0.0366 - mean_absolute_error: 0.1466 - val_loss: 0.0778 - val_mean_squared_error: 0.0318 - val_mean_absolute_error: 0.1344\n",
      "Epoch 67/100\n",
      "79/79 [==============================] - 9s 108ms/step - loss: 0.0807 - mean_squared_error: 0.0350 - mean_absolute_error: 0.1447 - val_loss: 0.0802 - val_mean_squared_error: 0.0347 - val_mean_absolute_error: 0.1416\n",
      "Epoch 68/100\n",
      "79/79 [==============================] - 8s 107ms/step - loss: 0.0802 - mean_squared_error: 0.0350 - mean_absolute_error: 0.1444 - val_loss: 0.0779 - val_mean_squared_error: 0.0331 - val_mean_absolute_error: 0.1370\n",
      "Epoch 69/100\n",
      "79/79 [==============================] - 9s 109ms/step - loss: 0.0789 - mean_squared_error: 0.0343 - mean_absolute_error: 0.1422 - val_loss: 0.0800 - val_mean_squared_error: 0.0357 - val_mean_absolute_error: 0.1447\n",
      "Epoch 70/100\n",
      "79/79 [==============================] - 9s 109ms/step - loss: 0.0790 - mean_squared_error: 0.0350 - mean_absolute_error: 0.1447 - val_loss: 0.0754 - val_mean_squared_error: 0.0317 - val_mean_absolute_error: 0.1334\n",
      "Epoch 71/100\n",
      "79/79 [==============================] - 9s 108ms/step - loss: 0.0773 - mean_squared_error: 0.0338 - mean_absolute_error: 0.1407 - val_loss: 0.0788 - val_mean_squared_error: 0.0356 - val_mean_absolute_error: 0.1432\n",
      "Epoch 72/100\n",
      "79/79 [==============================] - 9s 108ms/step - loss: 0.0762 - mean_squared_error: 0.0333 - mean_absolute_error: 0.1398 - val_loss: 0.0731 - val_mean_squared_error: 0.0305 - val_mean_absolute_error: 0.1307\n",
      "Epoch 73/100\n",
      "79/79 [==============================] - 9s 108ms/step - loss: 0.0763 - mean_squared_error: 0.0339 - mean_absolute_error: 0.1413 - val_loss: 0.0766 - val_mean_squared_error: 0.0345 - val_mean_absolute_error: 0.1386\n",
      "Epoch 74/100\n",
      "79/79 [==============================] - 9s 109ms/step - loss: 0.0747 - mean_squared_error: 0.0329 - mean_absolute_error: 0.1402 - val_loss: 0.0724 - val_mean_squared_error: 0.0309 - val_mean_absolute_error: 0.1314\n",
      "Epoch 75/100\n",
      "79/79 [==============================] - 9s 111ms/step - loss: 0.0740 - mean_squared_error: 0.0327 - mean_absolute_error: 0.1384 - val_loss: 0.0739 - val_mean_squared_error: 0.0329 - val_mean_absolute_error: 0.1373\n",
      "Epoch 76/100\n",
      "79/79 [==============================] - 9s 111ms/step - loss: 0.0729 - mean_squared_error: 0.0322 - mean_absolute_error: 0.1383 - val_loss: 0.0729 - val_mean_squared_error: 0.0324 - val_mean_absolute_error: 0.1369\n",
      "Epoch 77/100\n",
      "79/79 [==============================] - 9s 110ms/step - loss: 0.0723 - mean_squared_error: 0.0321 - mean_absolute_error: 0.1375 - val_loss: 0.0735 - val_mean_squared_error: 0.0336 - val_mean_absolute_error: 0.1394\n",
      "Epoch 78/100\n",
      "79/79 [==============================] - 9s 110ms/step - loss: 0.0712 - mean_squared_error: 0.0316 - mean_absolute_error: 0.1361 - val_loss: 0.0719 - val_mean_squared_error: 0.0325 - val_mean_absolute_error: 0.1360\n",
      "Epoch 79/100\n",
      "79/79 [==============================] - 9s 110ms/step - loss: 0.0704 - mean_squared_error: 0.0313 - mean_absolute_error: 0.1363 - val_loss: 0.0695 - val_mean_squared_error: 0.0306 - val_mean_absolute_error: 0.1308\n",
      "Epoch 80/100\n",
      "79/79 [==============================] - 9s 111ms/step - loss: 0.0706 - mean_squared_error: 0.0320 - mean_absolute_error: 0.1375 - val_loss: 0.0702 - val_mean_squared_error: 0.0319 - val_mean_absolute_error: 0.1359\n",
      "Epoch 81/100\n",
      "79/79 [==============================] - 8s 106ms/step - loss: 0.0690 - mean_squared_error: 0.0309 - mean_absolute_error: 0.1340 - val_loss: 0.0691 - val_mean_squared_error: 0.0313 - val_mean_absolute_error: 0.1334\n",
      "Epoch 82/100\n",
      "79/79 [==============================] - 8s 103ms/step - loss: 0.0681 - mean_squared_error: 0.0305 - mean_absolute_error: 0.1343 - val_loss: 0.0792 - val_mean_squared_error: 0.0419 - val_mean_absolute_error: 0.1583\n",
      "Epoch 83/100\n",
      "79/79 [==============================] - 9s 111ms/step - loss: 0.0676 - mean_squared_error: 0.0305 - mean_absolute_error: 0.1337 - val_loss: 0.0699 - val_mean_squared_error: 0.0331 - val_mean_absolute_error: 0.1375\n",
      "Epoch 84/100\n",
      "79/79 [==============================] - 9s 110ms/step - loss: 0.0666 - mean_squared_error: 0.0300 - mean_absolute_error: 0.1328 - val_loss: 0.0649 - val_mean_squared_error: 0.0286 - val_mean_absolute_error: 0.1248\n",
      "Epoch 85/100\n",
      "79/79 [==============================] - 9s 112ms/step - loss: 0.0659 - mean_squared_error: 0.0298 - mean_absolute_error: 0.1313 - val_loss: 0.0643 - val_mean_squared_error: 0.0285 - val_mean_absolute_error: 0.1243\n",
      "Epoch 86/100\n",
      "79/79 [==============================] - 8s 107ms/step - loss: 0.0642 - mean_squared_error: 0.0286 - mean_absolute_error: 0.1295 - val_loss: 0.0654 - val_mean_squared_error: 0.0301 - val_mean_absolute_error: 0.1297\n",
      "Epoch 87/100\n",
      "79/79 [==============================] - 9s 108ms/step - loss: 0.0647 - mean_squared_error: 0.0296 - mean_absolute_error: 0.1314 - val_loss: 0.0663 - val_mean_squared_error: 0.0314 - val_mean_absolute_error: 0.1324\n",
      "Epoch 88/100\n",
      "79/79 [==============================] - 9s 108ms/step - loss: 0.0635 - mean_squared_error: 0.0289 - mean_absolute_error: 0.1304 - val_loss: 0.0632 - val_mean_squared_error: 0.0288 - val_mean_absolute_error: 0.1267\n",
      "Epoch 89/100\n",
      "79/79 [==============================] - 8s 107ms/step - loss: 0.0635 - mean_squared_error: 0.0294 - mean_absolute_error: 0.1317 - val_loss: 0.0614 - val_mean_squared_error: 0.0275 - val_mean_absolute_error: 0.1213\n",
      "Epoch 90/100\n",
      "79/79 [==============================] - 8s 107ms/step - loss: 0.0624 - mean_squared_error: 0.0288 - mean_absolute_error: 0.1289 - val_loss: 0.0616 - val_mean_squared_error: 0.0282 - val_mean_absolute_error: 0.1240\n",
      "Epoch 91/100\n",
      "79/79 [==============================] - 8s 107ms/step - loss: 0.0617 - mean_squared_error: 0.0285 - mean_absolute_error: 0.1294 - val_loss: 0.0621 - val_mean_squared_error: 0.0292 - val_mean_absolute_error: 0.1274\n",
      "Epoch 92/100\n",
      "79/79 [==============================] - 8s 107ms/step - loss: 0.0609 - mean_squared_error: 0.0282 - mean_absolute_error: 0.1285 - val_loss: 0.0596 - val_mean_squared_error: 0.0271 - val_mean_absolute_error: 0.1218\n",
      "Epoch 93/100\n",
      "79/79 [==============================] - 9s 109ms/step - loss: 0.0600 - mean_squared_error: 0.0278 - mean_absolute_error: 0.1271 - val_loss: 0.0608 - val_mean_squared_error: 0.0288 - val_mean_absolute_error: 0.1280\n",
      "Epoch 94/100\n",
      "79/79 [==============================] - 8s 108ms/step - loss: 0.0593 - mean_squared_error: 0.0275 - mean_absolute_error: 0.1263 - val_loss: 0.0573 - val_mean_squared_error: 0.0258 - val_mean_absolute_error: 0.1169\n",
      "Epoch 95/100\n",
      "79/79 [==============================] - 8s 108ms/step - loss: 0.0590 - mean_squared_error: 0.0277 - mean_absolute_error: 0.1277 - val_loss: 0.0572 - val_mean_squared_error: 0.0260 - val_mean_absolute_error: 0.1175\n",
      "Epoch 96/100\n",
      "79/79 [==============================] - 8s 108ms/step - loss: 0.0582 - mean_squared_error: 0.0273 - mean_absolute_error: 0.1261 - val_loss: 0.0603 - val_mean_squared_error: 0.0297 - val_mean_absolute_error: 0.1274\n",
      "Epoch 97/100\n",
      "79/79 [==============================] - 8s 107ms/step - loss: 0.0581 - mean_squared_error: 0.0277 - mean_absolute_error: 0.1267 - val_loss: 0.0580 - val_mean_squared_error: 0.0277 - val_mean_absolute_error: 0.1239\n",
      "Epoch 98/100\n",
      "79/79 [==============================] - 8s 106ms/step - loss: 0.0566 - mean_squared_error: 0.0265 - mean_absolute_error: 0.1245 - val_loss: 0.0576 - val_mean_squared_error: 0.0277 - val_mean_absolute_error: 0.1217\n",
      "Epoch 99/100\n",
      "79/79 [==============================] - 9s 108ms/step - loss: 0.0553 - mean_squared_error: 0.0257 - mean_absolute_error: 0.1225 - val_loss: 0.0587 - val_mean_squared_error: 0.0293 - val_mean_absolute_error: 0.1282\n",
      "Epoch 100/100\n",
      "79/79 [==============================] - 8s 106ms/step - loss: 0.0553 - mean_squared_error: 0.0261 - mean_absolute_error: 0.1228 - val_loss: 0.0550 - val_mean_squared_error: 0.0260 - val_mean_absolute_error: 0.1174\n"
     ]
    }
   ],
   "source": [
    "from keras.models import Sequential\n",
    "from keras.layers import Conv2D, MaxPooling2D, Flatten, Dense, Dropout, BatchNormalization\n",
    "from keras.regularizers import l2\n",
    "from keras.preprocessing.image import ImageDataGenerator\n",
    "from keras.callbacks import EarlyStopping\n",
    "from keras.optimizers import Adam\n",
    "\n",
    "train_datagen = ImageDataGenerator(\n",
    "    # rotation_range=20,\n",
    "    # width_shift_range=0.1,\n",
    "    # height_shift_range=0.1,\n",
    "    # # shear_range=0.2,\n",
    "    # zoom_range=[0.9, 1.1],\n",
    "    # horizontal_flip=True,\n",
    "    # fill_mode='nearest'\n",
    ")\n",
    "\n",
    "# Assuming you have your training data in train_data and train_labels\n",
    "train_generator = train_datagen.flow(X_train, Y_train, batch_size=32)\n",
    "\n",
    "\n",
    "model = Sequential()\n",
    "\n",
    "# Adding L2 Regularization to Convolutional Layers\n",
    "l2_reg = 0.001\n",
    "\n",
    "# First Conv Block\n",
    "model.add(Conv2D(32, (3, 3), activation='relu', input_shape=(48, 80, 3), kernel_regularizer=l2(l2_reg)))\n",
    "model.add(MaxPooling2D())\n",
    "model.add(Dropout(0.1))\n",
    "\n",
    "# Second Conv Block\n",
    "model.add(Conv2D(64, (3, 3), activation='relu'))\n",
    "model.add(MaxPooling2D())\n",
    "model.add(Dropout(0.15))\n",
    "\n",
    "# Third Conv Block\n",
    "model.add(Conv2D(128, (3, 3), activation='relu', kernel_regularizer=l2(l2_reg)))\n",
    "model.add(BatchNormalization())\n",
    "model.add(MaxPooling2D())\n",
    "\n",
    "# # Fourth Conv Block\n",
    "model.add(Conv2D(256, (3, 3), activation='relu'))\n",
    "model.add(MaxPooling2D())\n",
    "model.add(Dropout(0.2))\n",
    "\n",
    "# # Fifth Conv Block\n",
    "# model.add(Conv2D(512, (3, 3), activation='relu'))\n",
    "# model.add(MaxPooling2D())\n",
    "# model.add(Dropout(0.25))\n",
    "\n",
    "# Flatten and Dense Layers\n",
    "model.add(Flatten())\n",
    "model.add(Dense(64, activation='relu'))\n",
    "model.add(Dropout(0.2))\n",
    "model.add(Dense(2), activation ='sigmoid')  # Adjust the number of outputs as needed\n",
    "\n",
    "# Compile the model\n",
    "model.compile(optimizer=Adam(learning_rate=0.00005), loss='mse', metrics=['mean_squared_error', 'mean_absolute_error'])\n",
    "\n",
    "early_stopping = EarlyStopping(monitor='val_loss', patience=20, restore_best_weights=True)\n",
    "\n",
    "history = model.fit(\n",
    "    train_generator,\n",
    "    epochs=100,  # Adjust number of epochs\n",
    "    validation_data=(X_val, Y_val),  # Assuming validation data is available\n",
    "      callbacks=[early_stopping],\n",
    "    batch_size=16\n",
    ")"
   ]
  },
  {
   "cell_type": "code",
   "execution_count": 10,
   "metadata": {},
   "outputs": [
    {
     "name": "stdout",
     "output_type": "stream",
     "text": [
      "25/25 [==============================] - 1s 23ms/step - loss: 0.0542 - mean_squared_error: 0.0252 - mean_absolute_error: 0.1165\n"
     ]
    },
    {
     "data": {
      "text/plain": [
       "[0.05416402593255043, 0.025179727002978325, 0.11654376238584518]"
      ]
     },
     "execution_count": 10,
     "metadata": {},
     "output_type": "execute_result"
    }
   ],
   "source": [
    "#evaluate the model\n",
    "model.evaluate(X_test, Y_test)"
   ]
  },
  {
   "cell_type": "code",
   "execution_count": 34,
   "metadata": {},
   "outputs": [],
   "source": [
    "from keras.models import load_model\n",
    "model = load_model('./models/eye_gaze_v13.h5')"
   ]
  },
  {
   "cell_type": "code",
   "execution_count": 14,
   "metadata": {},
   "outputs": [
    {
     "name": "stdout",
     "output_type": "stream",
     "text": [
      "25/25 [==============================] - 1s 20ms/step\n"
     ]
    }
   ],
   "source": [
    "#plot predicted vs actual on test data on a canvas using opencv \n",
    "\n",
    "import cv2\n",
    "import numpy as np \n",
    "predictions = model.predict(X_test)\n",
    "screen_width, screen_height = 2650, 1440\n",
    "canvas = np.zeros((screen_height, screen_width, 3), dtype=np.uint8)\n",
    "cv2.namedWindow('Gaze Tracking on Canvas', cv2.WINDOW_NORMAL)\n",
    "cv2.setWindowProperty('Gaze Tracking on Canvas', cv2.WND_PROP_FULLSCREEN, cv2.WINDOW_FULLSCREEN)\n",
    "# plot the first 10 images one by one\n",
    "for i in range(0,55):\n",
    "    \n",
    "    # get the predicted x,y coordinates\n",
    "    x, y = predictions[i][0] * screen_width, predictions[i][1] * screen_height\n",
    "\n",
    "    # lock the preds \n",
    "    x = min(max(x, 0), screen_width)\n",
    "    y = min(max(y, 0), screen_height)\n",
    "\n",
    "    # get the actual x,y coordinates\n",
    "    x_actual, y_actual = Y_test[i][0] * screen_width, Y_test[i][1] * screen_height\n",
    "\n",
    "    # plot the predicted x,y coordinates\n",
    "    cv2.circle(canvas, (int(x), int(y)), 10, (0, 0, 255), -1)\n",
    "    # plot the actual x,y coordinates\n",
    "    cv2.circle(canvas, (int(x_actual), int(y_actual)), 10, (0, 255, 0), -1)\n",
    "    # show the canvas\n",
    "    cv2.imshow('Gaze Tracking on Canvas', canvas)\n",
    "    cv2.waitKey(0)\n",
    "    cv2.imshow('Gaze Tracking on Canvas', X_test[i])\n",
    "    cv2.waitKey(0)\n",
    "    # clear the canvas\n",
    "    \n",
    "    canvas = np.zeros((screen_height, screen_width, 3), dtype=np.uint8)\n",
    "\n",
    "cv2.waitKey(0)\n",
    "cv2.destroyAllWindows()"
   ]
  },
  {
   "cell_type": "code",
   "execution_count": 15,
   "metadata": {},
   "outputs": [],
   "source": [
    "model.save('./models/eye_gaze_v13.h5')"
   ]
  }
 ],
 "metadata": {
  "kernelspec": {
   "display_name": "tf2.10_eye_gaze",
   "language": "python",
   "name": "python3"
  },
  "language_info": {
   "codemirror_mode": {
    "name": "ipython",
    "version": 3
   },
   "file_extension": ".py",
   "mimetype": "text/x-python",
   "name": "python",
   "nbconvert_exporter": "python",
   "pygments_lexer": "ipython3",
   "version": "3.7.16"
  }
 },
 "nbformat": 4,
 "nbformat_minor": 2
}
