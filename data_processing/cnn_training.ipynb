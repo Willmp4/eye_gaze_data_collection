{
 "cells": [
  {
   "cell_type": "code",
   "execution_count": 8,
   "metadata": {},
   "outputs": [],
   "source": [
    "import numpy as np\n",
    "from sklearn.model_selection import train_test_split"
   ]
  },
  {
   "cell_type": "code",
   "execution_count": 9,
   "metadata": {},
   "outputs": [],
   "source": [
    "import pickle\n",
    "\n",
    "def load_processed_data(file_path):\n",
    "    with open(file_path, 'rb') as file:\n",
    "        X, Y = pickle.load(file)\n",
    "    return X, Y"
   ]
  },
  {
   "cell_type": "code",
   "execution_count": 10,
   "metadata": {},
   "outputs": [],
   "source": [
    "X, Y = load_processed_data('./pickel_files/res_processed_data_buffer.pkl')"
   ]
  },
  {
   "cell_type": "code",
   "execution_count": 11,
   "metadata": {},
   "outputs": [],
   "source": [
    "\n",
    "X_filtered = [img for img in X if img is not None and isinstance(img, np.ndarray)]\n",
    "Y_filtered = [Y[i] for i in range(len(Y)) if X[i] is not None and isinstance(X[i], np.ndarray)]\n",
    "\n",
    "X_filtered = np.array(X_filtered)\n",
    "\n",
    "Y_filtered = np.array(Y_filtered)\n",
    "Y_filtered = Y_filtered[:, :2]"
   ]
  },
  {
   "cell_type": "code",
   "execution_count": 12,
   "metadata": {},
   "outputs": [
    {
     "data": {
      "text/plain": [
       "(3948, 3948)"
      ]
     },
     "execution_count": 12,
     "metadata": {},
     "output_type": "execute_result"
    }
   ],
   "source": [
    "len(X_filtered), len(Y_filtered)"
   ]
  },
  {
   "cell_type": "code",
   "execution_count": 13,
   "metadata": {},
   "outputs": [
    {
     "data": {
      "text/plain": [
       "(3948, 2)"
      ]
     },
     "execution_count": 13,
     "metadata": {},
     "output_type": "execute_result"
    }
   ],
   "source": [
    "Y_filtered.shape"
   ]
  },
  {
   "cell_type": "code",
   "execution_count": 14,
   "metadata": {},
   "outputs": [],
   "source": [
    "X_train, X_test, Y_train, Y_test = train_test_split(X_filtered, Y_filtered, test_size=0.2, random_state=42)\n",
    "#Val data\n",
    "X_train, X_val, Y_train, Y_val = train_test_split(X_train, Y_train, test_size=0.2, random_state=42)"
   ]
  },
  {
   "cell_type": "code",
   "execution_count": 15,
   "metadata": {},
   "outputs": [
    {
     "name": "stdout",
     "output_type": "stream",
     "text": [
      "Epoch 1/100\n",
      "79/79 [==============================] - 7s 77ms/step - loss: 0.1833 - mean_squared_error: 0.0939 - mean_absolute_error: 0.2530 - val_loss: 0.1936 - val_mean_squared_error: 0.1055 - val_mean_absolute_error: 0.2812\n",
      "Epoch 2/100\n",
      "79/79 [==============================] - 6s 75ms/step - loss: 0.1580 - mean_squared_error: 0.0712 - mean_absolute_error: 0.2132 - val_loss: 0.1873 - val_mean_squared_error: 0.1019 - val_mean_absolute_error: 0.2761\n",
      "Epoch 3/100\n",
      "79/79 [==============================] - 6s 74ms/step - loss: 0.1476 - mean_squared_error: 0.0635 - mean_absolute_error: 0.1984 - val_loss: 0.1802 - val_mean_squared_error: 0.0974 - val_mean_absolute_error: 0.2696\n",
      "Epoch 4/100\n",
      "79/79 [==============================] - 6s 72ms/step - loss: 0.1402 - mean_squared_error: 0.0587 - mean_absolute_error: 0.1894 - val_loss: 0.1712 - val_mean_squared_error: 0.0909 - val_mean_absolute_error: 0.2598\n",
      "Epoch 5/100\n",
      "79/79 [==============================] - 8s 100ms/step - loss: 0.1350 - mean_squared_error: 0.0559 - mean_absolute_error: 0.1827 - val_loss: 0.1615 - val_mean_squared_error: 0.0836 - val_mean_absolute_error: 0.2477\n",
      "Epoch 6/100\n",
      "79/79 [==============================] - 9s 117ms/step - loss: 0.1309 - mean_squared_error: 0.0542 - mean_absolute_error: 0.1794 - val_loss: 0.1531 - val_mean_squared_error: 0.0775 - val_mean_absolute_error: 0.2364\n",
      "Epoch 7/100\n",
      "79/79 [==============================] - 9s 112ms/step - loss: 0.1251 - mean_squared_error: 0.0506 - mean_absolute_error: 0.1723 - val_loss: 0.1420 - val_mean_squared_error: 0.0687 - val_mean_absolute_error: 0.2198\n",
      "Epoch 8/100\n",
      "79/79 [==============================] - 9s 108ms/step - loss: 0.1220 - mean_squared_error: 0.0496 - mean_absolute_error: 0.1715 - val_loss: 0.1345 - val_mean_squared_error: 0.0632 - val_mean_absolute_error: 0.2035\n",
      "Epoch 9/100\n",
      "79/79 [==============================] - 9s 113ms/step - loss: 0.1188 - mean_squared_error: 0.0485 - mean_absolute_error: 0.1689 - val_loss: 0.1249 - val_mean_squared_error: 0.0556 - val_mean_absolute_error: 0.1877\n",
      "Epoch 10/100\n",
      "79/79 [==============================] - 9s 114ms/step - loss: 0.1146 - mean_squared_error: 0.0462 - mean_absolute_error: 0.1644 - val_loss: 0.1182 - val_mean_squared_error: 0.0507 - val_mean_absolute_error: 0.1745\n",
      "Epoch 11/100\n",
      "79/79 [==============================] - 9s 117ms/step - loss: 0.1103 - mean_squared_error: 0.0437 - mean_absolute_error: 0.1590 - val_loss: 0.1148 - val_mean_squared_error: 0.0492 - val_mean_absolute_error: 0.1703\n",
      "Epoch 12/100\n",
      "79/79 [==============================] - 9s 116ms/step - loss: 0.1085 - mean_squared_error: 0.0437 - mean_absolute_error: 0.1597 - val_loss: 0.1141 - val_mean_squared_error: 0.0502 - val_mean_absolute_error: 0.1735\n",
      "Epoch 13/100\n",
      "79/79 [==============================] - 9s 114ms/step - loss: 0.1046 - mean_squared_error: 0.0415 - mean_absolute_error: 0.1539 - val_loss: 0.1148 - val_mean_squared_error: 0.0525 - val_mean_absolute_error: 0.1773\n",
      "Epoch 14/100\n",
      "79/79 [==============================] - 9s 115ms/step - loss: 0.1028 - mean_squared_error: 0.0413 - mean_absolute_error: 0.1540 - val_loss: 0.1105 - val_mean_squared_error: 0.0498 - val_mean_absolute_error: 0.1697\n",
      "Epoch 15/100\n",
      "79/79 [==============================] - 8s 105ms/step - loss: 0.1000 - mean_squared_error: 0.0401 - mean_absolute_error: 0.1515 - val_loss: 0.1066 - val_mean_squared_error: 0.0474 - val_mean_absolute_error: 0.1658\n",
      "Epoch 16/100\n",
      "79/79 [==============================] - 9s 117ms/step - loss: 0.0979 - mean_squared_error: 0.0394 - mean_absolute_error: 0.1503 - val_loss: 0.0985 - val_mean_squared_error: 0.0407 - val_mean_absolute_error: 0.1519\n",
      "Epoch 17/100\n",
      "79/79 [==============================] - 8s 106ms/step - loss: 0.0952 - mean_squared_error: 0.0382 - mean_absolute_error: 0.1468 - val_loss: 0.0973 - val_mean_squared_error: 0.0410 - val_mean_absolute_error: 0.1550\n",
      "Epoch 18/100\n",
      "79/79 [==============================] - 9s 120ms/step - loss: 0.0921 - mean_squared_error: 0.0364 - mean_absolute_error: 0.1435 - val_loss: 0.0961 - val_mean_squared_error: 0.0411 - val_mean_absolute_error: 0.1513\n",
      "Epoch 19/100\n",
      "79/79 [==============================] - 9s 118ms/step - loss: 0.0901 - mean_squared_error: 0.0358 - mean_absolute_error: 0.1424 - val_loss: 0.0959 - val_mean_squared_error: 0.0422 - val_mean_absolute_error: 0.1543\n",
      "Epoch 20/100\n",
      "79/79 [==============================] - 9s 116ms/step - loss: 0.0890 - mean_squared_error: 0.0360 - mean_absolute_error: 0.1424 - val_loss: 0.0899 - val_mean_squared_error: 0.0375 - val_mean_absolute_error: 0.1467\n",
      "Epoch 21/100\n",
      "79/79 [==============================] - 10s 120ms/step - loss: 0.0855 - mean_squared_error: 0.0337 - mean_absolute_error: 0.1376 - val_loss: 0.0908 - val_mean_squared_error: 0.0396 - val_mean_absolute_error: 0.1469\n",
      "Epoch 22/100\n",
      "79/79 [==============================] - 10s 125ms/step - loss: 0.0836 - mean_squared_error: 0.0330 - mean_absolute_error: 0.1358 - val_loss: 0.0888 - val_mean_squared_error: 0.0389 - val_mean_absolute_error: 0.1478\n",
      "Epoch 23/100\n",
      "79/79 [==============================] - 10s 131ms/step - loss: 0.0820 - mean_squared_error: 0.0327 - mean_absolute_error: 0.1351 - val_loss: 0.0811 - val_mean_squared_error: 0.0323 - val_mean_absolute_error: 0.1327\n",
      "Epoch 24/100\n",
      "79/79 [==============================] - 11s 138ms/step - loss: 0.0808 - mean_squared_error: 0.0325 - mean_absolute_error: 0.1349 - val_loss: 0.0832 - val_mean_squared_error: 0.0356 - val_mean_absolute_error: 0.1386\n",
      "Epoch 25/100\n",
      "79/79 [==============================] - 10s 131ms/step - loss: 0.0784 - mean_squared_error: 0.0313 - mean_absolute_error: 0.1319 - val_loss: 0.0853 - val_mean_squared_error: 0.0387 - val_mean_absolute_error: 0.1449\n",
      "Epoch 26/100\n",
      "79/79 [==============================] - 10s 121ms/step - loss: 0.0769 - mean_squared_error: 0.0309 - mean_absolute_error: 0.1315 - val_loss: 0.0794 - val_mean_squared_error: 0.0339 - val_mean_absolute_error: 0.1367\n",
      "Epoch 27/100\n",
      "79/79 [==============================] - 10s 123ms/step - loss: 0.0756 - mean_squared_error: 0.0306 - mean_absolute_error: 0.1301 - val_loss: 0.0757 - val_mean_squared_error: 0.0312 - val_mean_absolute_error: 0.1296\n",
      "Epoch 28/100\n",
      "79/79 [==============================] - 10s 125ms/step - loss: 0.0744 - mean_squared_error: 0.0305 - mean_absolute_error: 0.1299 - val_loss: 0.0760 - val_mean_squared_error: 0.0325 - val_mean_absolute_error: 0.1315\n",
      "Epoch 29/100\n",
      "79/79 [==============================] - 10s 122ms/step - loss: 0.0725 - mean_squared_error: 0.0295 - mean_absolute_error: 0.1277 - val_loss: 0.0749 - val_mean_squared_error: 0.0324 - val_mean_absolute_error: 0.1323\n",
      "Epoch 30/100\n",
      "79/79 [==============================] - 10s 126ms/step - loss: 0.0704 - mean_squared_error: 0.0284 - mean_absolute_error: 0.1244 - val_loss: 0.0771 - val_mean_squared_error: 0.0356 - val_mean_absolute_error: 0.1402\n",
      "Epoch 31/100\n",
      "79/79 [==============================] - 10s 126ms/step - loss: 0.0690 - mean_squared_error: 0.0279 - mean_absolute_error: 0.1242 - val_loss: 0.0720 - val_mean_squared_error: 0.0314 - val_mean_absolute_error: 0.1316\n",
      "Epoch 32/100\n",
      "79/79 [==============================] - 11s 143ms/step - loss: 0.0683 - mean_squared_error: 0.0281 - mean_absolute_error: 0.1243 - val_loss: 0.0704 - val_mean_squared_error: 0.0307 - val_mean_absolute_error: 0.1277\n",
      "Epoch 33/100\n",
      "79/79 [==============================] - 11s 143ms/step - loss: 0.0670 - mean_squared_error: 0.0277 - mean_absolute_error: 0.1227 - val_loss: 0.0688 - val_mean_squared_error: 0.0299 - val_mean_absolute_error: 0.1261\n",
      "Epoch 34/100\n",
      "79/79 [==============================] - 12s 148ms/step - loss: 0.0664 - mean_squared_error: 0.0280 - mean_absolute_error: 0.1231 - val_loss: 0.0689 - val_mean_squared_error: 0.0309 - val_mean_absolute_error: 0.1291\n",
      "Epoch 35/100\n",
      "79/79 [==============================] - 10s 129ms/step - loss: 0.0647 - mean_squared_error: 0.0271 - mean_absolute_error: 0.1220 - val_loss: 0.0667 - val_mean_squared_error: 0.0295 - val_mean_absolute_error: 0.1240\n",
      "Epoch 36/100\n",
      "79/79 [==============================] - 11s 135ms/step - loss: 0.0634 - mean_squared_error: 0.0266 - mean_absolute_error: 0.1206 - val_loss: 0.0687 - val_mean_squared_error: 0.0324 - val_mean_absolute_error: 0.1314\n",
      "Epoch 37/100\n",
      "79/79 [==============================] - 10s 126ms/step - loss: 0.0627 - mean_squared_error: 0.0267 - mean_absolute_error: 0.1207 - val_loss: 0.0655 - val_mean_squared_error: 0.0299 - val_mean_absolute_error: 0.1265\n",
      "Epoch 38/100\n",
      "79/79 [==============================] - 10s 132ms/step - loss: 0.0606 - mean_squared_error: 0.0254 - mean_absolute_error: 0.1181 - val_loss: 0.0668 - val_mean_squared_error: 0.0320 - val_mean_absolute_error: 0.1304\n",
      "Epoch 39/100\n",
      "79/79 [==============================] - 11s 136ms/step - loss: 0.0603 - mean_squared_error: 0.0259 - mean_absolute_error: 0.1190 - val_loss: 0.0648 - val_mean_squared_error: 0.0307 - val_mean_absolute_error: 0.1258\n",
      "Epoch 40/100\n",
      "79/79 [==============================] - 11s 135ms/step - loss: 0.0585 - mean_squared_error: 0.0248 - mean_absolute_error: 0.1154 - val_loss: 0.0651 - val_mean_squared_error: 0.0318 - val_mean_absolute_error: 0.1287\n",
      "Epoch 41/100\n",
      "79/79 [==============================] - 11s 134ms/step - loss: 0.0589 - mean_squared_error: 0.0259 - mean_absolute_error: 0.1189 - val_loss: 0.0592 - val_mean_squared_error: 0.0265 - val_mean_absolute_error: 0.1157\n",
      "Epoch 42/100\n",
      "79/79 [==============================] - 10s 131ms/step - loss: 0.0570 - mean_squared_error: 0.0247 - mean_absolute_error: 0.1159 - val_loss: 0.0598 - val_mean_squared_error: 0.0279 - val_mean_absolute_error: 0.1208\n",
      "Epoch 43/100\n",
      "79/79 [==============================] - 10s 131ms/step - loss: 0.0558 - mean_squared_error: 0.0241 - mean_absolute_error: 0.1146 - val_loss: 0.0580 - val_mean_squared_error: 0.0267 - val_mean_absolute_error: 0.1157\n",
      "Epoch 44/100\n",
      "79/79 [==============================] - 11s 136ms/step - loss: 0.0556 - mean_squared_error: 0.0247 - mean_absolute_error: 0.1149 - val_loss: 0.0578 - val_mean_squared_error: 0.0272 - val_mean_absolute_error: 0.1188\n",
      "Epoch 45/100\n",
      "79/79 [==============================] - 11s 134ms/step - loss: 0.0546 - mean_squared_error: 0.0243 - mean_absolute_error: 0.1140 - val_loss: 0.0577 - val_mean_squared_error: 0.0277 - val_mean_absolute_error: 0.1206\n",
      "Epoch 46/100\n",
      "79/79 [==============================] - 10s 131ms/step - loss: 0.0536 - mean_squared_error: 0.0239 - mean_absolute_error: 0.1128 - val_loss: 0.0579 - val_mean_squared_error: 0.0286 - val_mean_absolute_error: 0.1220\n",
      "Epoch 47/100\n",
      "79/79 [==============================] - 10s 132ms/step - loss: 0.0524 - mean_squared_error: 0.0234 - mean_absolute_error: 0.1124 - val_loss: 0.0572 - val_mean_squared_error: 0.0285 - val_mean_absolute_error: 0.1239\n",
      "Epoch 48/100\n",
      "79/79 [==============================] - 10s 132ms/step - loss: 0.0522 - mean_squared_error: 0.0238 - mean_absolute_error: 0.1130 - val_loss: 0.0551 - val_mean_squared_error: 0.0269 - val_mean_absolute_error: 0.1186\n",
      "Epoch 49/100\n",
      "79/79 [==============================] - 10s 131ms/step - loss: 0.0513 - mean_squared_error: 0.0235 - mean_absolute_error: 0.1124 - val_loss: 0.0530 - val_mean_squared_error: 0.0255 - val_mean_absolute_error: 0.1144\n",
      "Epoch 50/100\n",
      "79/79 [==============================] - 11s 134ms/step - loss: 0.0504 - mean_squared_error: 0.0231 - mean_absolute_error: 0.1106 - val_loss: 0.0532 - val_mean_squared_error: 0.0263 - val_mean_absolute_error: 0.1161\n",
      "Epoch 51/100\n",
      "79/79 [==============================] - 10s 130ms/step - loss: 0.0494 - mean_squared_error: 0.0227 - mean_absolute_error: 0.1096 - val_loss: 0.0524 - val_mean_squared_error: 0.0260 - val_mean_absolute_error: 0.1144\n",
      "Epoch 52/100\n",
      "79/79 [==============================] - 10s 128ms/step - loss: 0.0487 - mean_squared_error: 0.0225 - mean_absolute_error: 0.1098 - val_loss: 0.0518 - val_mean_squared_error: 0.0259 - val_mean_absolute_error: 0.1152\n",
      "Epoch 53/100\n",
      "79/79 [==============================] - 10s 131ms/step - loss: 0.0485 - mean_squared_error: 0.0229 - mean_absolute_error: 0.1106 - val_loss: 0.0540 - val_mean_squared_error: 0.0286 - val_mean_absolute_error: 0.1237\n",
      "Epoch 54/100\n",
      "79/79 [==============================] - 10s 129ms/step - loss: 0.0475 - mean_squared_error: 0.0224 - mean_absolute_error: 0.1093 - val_loss: 0.0497 - val_mean_squared_error: 0.0248 - val_mean_absolute_error: 0.1117\n",
      "Epoch 55/100\n",
      "79/79 [==============================] - 10s 125ms/step - loss: 0.0465 - mean_squared_error: 0.0219 - mean_absolute_error: 0.1081 - val_loss: 0.0497 - val_mean_squared_error: 0.0254 - val_mean_absolute_error: 0.1139\n",
      "Epoch 56/100\n",
      "79/79 [==============================] - 10s 124ms/step - loss: 0.0460 - mean_squared_error: 0.0218 - mean_absolute_error: 0.1083 - val_loss: 0.0490 - val_mean_squared_error: 0.0251 - val_mean_absolute_error: 0.1121\n",
      "Epoch 57/100\n",
      "79/79 [==============================] - 10s 127ms/step - loss: 0.0453 - mean_squared_error: 0.0217 - mean_absolute_error: 0.1075 - val_loss: 0.0489 - val_mean_squared_error: 0.0255 - val_mean_absolute_error: 0.1141\n",
      "Epoch 58/100\n",
      "79/79 [==============================] - 10s 127ms/step - loss: 0.0445 - mean_squared_error: 0.0213 - mean_absolute_error: 0.1064 - val_loss: 0.0478 - val_mean_squared_error: 0.0248 - val_mean_absolute_error: 0.1114\n",
      "Epoch 59/100\n",
      "79/79 [==============================] - 10s 127ms/step - loss: 0.0437 - mean_squared_error: 0.0210 - mean_absolute_error: 0.1051 - val_loss: 0.0481 - val_mean_squared_error: 0.0256 - val_mean_absolute_error: 0.1144\n",
      "Epoch 60/100\n",
      "79/79 [==============================] - 9s 120ms/step - loss: 0.0433 - mean_squared_error: 0.0210 - mean_absolute_error: 0.1060 - val_loss: 0.0468 - val_mean_squared_error: 0.0248 - val_mean_absolute_error: 0.1114\n",
      "Epoch 61/100\n",
      "79/79 [==============================] - 10s 123ms/step - loss: 0.0425 - mean_squared_error: 0.0207 - mean_absolute_error: 0.1051 - val_loss: 0.0471 - val_mean_squared_error: 0.0255 - val_mean_absolute_error: 0.1126\n",
      "Epoch 62/100\n",
      "79/79 [==============================] - 10s 127ms/step - loss: 0.0420 - mean_squared_error: 0.0206 - mean_absolute_error: 0.1046 - val_loss: 0.0464 - val_mean_squared_error: 0.0252 - val_mean_absolute_error: 0.1110\n",
      "Epoch 63/100\n",
      "79/79 [==============================] - 10s 125ms/step - loss: 0.0416 - mean_squared_error: 0.0207 - mean_absolute_error: 0.1042 - val_loss: 0.0471 - val_mean_squared_error: 0.0264 - val_mean_absolute_error: 0.1162\n",
      "Epoch 64/100\n",
      "79/79 [==============================] - 10s 121ms/step - loss: 0.0414 - mean_squared_error: 0.0209 - mean_absolute_error: 0.1048 - val_loss: 0.0453 - val_mean_squared_error: 0.0249 - val_mean_absolute_error: 0.1117\n",
      "Epoch 65/100\n",
      "79/79 [==============================] - 10s 120ms/step - loss: 0.0412 - mean_squared_error: 0.0210 - mean_absolute_error: 0.1054 - val_loss: 0.0424 - val_mean_squared_error: 0.0224 - val_mean_absolute_error: 0.1039\n",
      "Epoch 66/100\n",
      "79/79 [==============================] - 10s 126ms/step - loss: 0.0402 - mean_squared_error: 0.0204 - mean_absolute_error: 0.1044 - val_loss: 0.0427 - val_mean_squared_error: 0.0231 - val_mean_absolute_error: 0.1069\n",
      "Epoch 67/100\n",
      "79/79 [==============================] - 10s 124ms/step - loss: 0.0395 - mean_squared_error: 0.0200 - mean_absolute_error: 0.1030 - val_loss: 0.0427 - val_mean_squared_error: 0.0234 - val_mean_absolute_error: 0.1067\n",
      "Epoch 68/100\n",
      "79/79 [==============================] - 10s 130ms/step - loss: 0.0390 - mean_squared_error: 0.0199 - mean_absolute_error: 0.1022 - val_loss: 0.0418 - val_mean_squared_error: 0.0229 - val_mean_absolute_error: 0.1043\n",
      "Epoch 69/100\n",
      "79/79 [==============================] - 10s 127ms/step - loss: 0.0385 - mean_squared_error: 0.0198 - mean_absolute_error: 0.1016 - val_loss: 0.0425 - val_mean_squared_error: 0.0239 - val_mean_absolute_error: 0.1086\n",
      "Epoch 70/100\n",
      "79/79 [==============================] - 10s 128ms/step - loss: 0.0382 - mean_squared_error: 0.0198 - mean_absolute_error: 0.1023 - val_loss: 0.0418 - val_mean_squared_error: 0.0236 - val_mean_absolute_error: 0.1087\n",
      "Epoch 71/100\n",
      "79/79 [==============================] - 10s 130ms/step - loss: 0.0378 - mean_squared_error: 0.0197 - mean_absolute_error: 0.1013 - val_loss: 0.0408 - val_mean_squared_error: 0.0229 - val_mean_absolute_error: 0.1059\n",
      "Epoch 72/100\n",
      "79/79 [==============================] - 10s 132ms/step - loss: 0.0371 - mean_squared_error: 0.0194 - mean_absolute_error: 0.1003 - val_loss: 0.0423 - val_mean_squared_error: 0.0247 - val_mean_absolute_error: 0.1123\n",
      "Epoch 73/100\n",
      "79/79 [==============================] - 10s 130ms/step - loss: 0.0364 - mean_squared_error: 0.0190 - mean_absolute_error: 0.0998 - val_loss: 0.0400 - val_mean_squared_error: 0.0228 - val_mean_absolute_error: 0.1047\n",
      "Epoch 74/100\n",
      "79/79 [==============================] - 10s 130ms/step - loss: 0.0360 - mean_squared_error: 0.0189 - mean_absolute_error: 0.0990 - val_loss: 0.0409 - val_mean_squared_error: 0.0239 - val_mean_absolute_error: 0.1109\n",
      "Epoch 75/100\n",
      "79/79 [==============================] - 10s 130ms/step - loss: 0.0356 - mean_squared_error: 0.0188 - mean_absolute_error: 0.0986 - val_loss: 0.0413 - val_mean_squared_error: 0.0246 - val_mean_absolute_error: 0.1114\n",
      "Epoch 76/100\n",
      "79/79 [==============================] - 10s 131ms/step - loss: 0.0352 - mean_squared_error: 0.0187 - mean_absolute_error: 0.0988 - val_loss: 0.0405 - val_mean_squared_error: 0.0241 - val_mean_absolute_error: 0.1081\n",
      "Epoch 77/100\n",
      "79/79 [==============================] - 10s 132ms/step - loss: 0.0353 - mean_squared_error: 0.0190 - mean_absolute_error: 0.0994 - val_loss: 0.0394 - val_mean_squared_error: 0.0234 - val_mean_absolute_error: 0.1088\n",
      "Epoch 78/100\n",
      "79/79 [==============================] - 10s 131ms/step - loss: 0.0349 - mean_squared_error: 0.0189 - mean_absolute_error: 0.0990 - val_loss: 0.0383 - val_mean_squared_error: 0.0225 - val_mean_absolute_error: 0.1046\n",
      "Epoch 79/100\n",
      "79/79 [==============================] - 10s 130ms/step - loss: 0.0341 - mean_squared_error: 0.0184 - mean_absolute_error: 0.0982 - val_loss: 0.0378 - val_mean_squared_error: 0.0223 - val_mean_absolute_error: 0.1036\n",
      "Epoch 80/100\n",
      "79/79 [==============================] - 10s 132ms/step - loss: 0.0337 - mean_squared_error: 0.0183 - mean_absolute_error: 0.0973 - val_loss: 0.0384 - val_mean_squared_error: 0.0231 - val_mean_absolute_error: 0.1065\n",
      "Epoch 81/100\n",
      "79/79 [==============================] - 10s 123ms/step - loss: 0.0337 - mean_squared_error: 0.0185 - mean_absolute_error: 0.0980 - val_loss: 0.0382 - val_mean_squared_error: 0.0232 - val_mean_absolute_error: 0.1076\n",
      "Epoch 82/100\n",
      "79/79 [==============================] - 10s 132ms/step - loss: 0.0329 - mean_squared_error: 0.0180 - mean_absolute_error: 0.0964 - val_loss: 0.0379 - val_mean_squared_error: 0.0231 - val_mean_absolute_error: 0.1063\n",
      "Epoch 83/100\n",
      "79/79 [==============================] - 9s 119ms/step - loss: 0.0328 - mean_squared_error: 0.0181 - mean_absolute_error: 0.0970 - val_loss: 0.0360 - val_mean_squared_error: 0.0214 - val_mean_absolute_error: 0.1012\n",
      "Epoch 84/100\n",
      "79/79 [==============================] - 10s 126ms/step - loss: 0.0321 - mean_squared_error: 0.0176 - mean_absolute_error: 0.0962 - val_loss: 0.0362 - val_mean_squared_error: 0.0219 - val_mean_absolute_error: 0.1028\n",
      "Epoch 85/100\n",
      "79/79 [==============================] - 10s 128ms/step - loss: 0.0318 - mean_squared_error: 0.0176 - mean_absolute_error: 0.0948 - val_loss: 0.0367 - val_mean_squared_error: 0.0226 - val_mean_absolute_error: 0.1059\n",
      "Epoch 86/100\n",
      "79/79 [==============================] - 10s 127ms/step - loss: 0.0319 - mean_squared_error: 0.0179 - mean_absolute_error: 0.0963 - val_loss: 0.0381 - val_mean_squared_error: 0.0242 - val_mean_absolute_error: 0.1080\n",
      "Epoch 87/100\n",
      "79/79 [==============================] - 10s 131ms/step - loss: 0.0314 - mean_squared_error: 0.0176 - mean_absolute_error: 0.0950 - val_loss: 0.0355 - val_mean_squared_error: 0.0219 - val_mean_absolute_error: 0.1027\n",
      "Epoch 88/100\n",
      "79/79 [==============================] - 11s 133ms/step - loss: 0.0311 - mean_squared_error: 0.0176 - mean_absolute_error: 0.0963 - val_loss: 0.0347 - val_mean_squared_error: 0.0212 - val_mean_absolute_error: 0.1005\n",
      "Epoch 89/100\n",
      "79/79 [==============================] - 10s 131ms/step - loss: 0.0306 - mean_squared_error: 0.0173 - mean_absolute_error: 0.0937 - val_loss: 0.0354 - val_mean_squared_error: 0.0222 - val_mean_absolute_error: 0.1049\n",
      "Epoch 90/100\n",
      "79/79 [==============================] - 11s 133ms/step - loss: 0.0306 - mean_squared_error: 0.0175 - mean_absolute_error: 0.0950 - val_loss: 0.0343 - val_mean_squared_error: 0.0212 - val_mean_absolute_error: 0.1012\n",
      "Epoch 91/100\n",
      "79/79 [==============================] - 10s 133ms/step - loss: 0.0299 - mean_squared_error: 0.0170 - mean_absolute_error: 0.0932 - val_loss: 0.0343 - val_mean_squared_error: 0.0214 - val_mean_absolute_error: 0.1003\n",
      "Epoch 92/100\n",
      "79/79 [==============================] - 11s 133ms/step - loss: 0.0303 - mean_squared_error: 0.0176 - mean_absolute_error: 0.0949 - val_loss: 0.0339 - val_mean_squared_error: 0.0213 - val_mean_absolute_error: 0.1010\n",
      "Epoch 93/100\n",
      "79/79 [==============================] - 11s 134ms/step - loss: 0.0297 - mean_squared_error: 0.0172 - mean_absolute_error: 0.0941 - val_loss: 0.0340 - val_mean_squared_error: 0.0215 - val_mean_absolute_error: 0.1014\n",
      "Epoch 94/100\n",
      "79/79 [==============================] - 10s 132ms/step - loss: 0.0298 - mean_squared_error: 0.0174 - mean_absolute_error: 0.0952 - val_loss: 0.0327 - val_mean_squared_error: 0.0205 - val_mean_absolute_error: 0.0984\n",
      "Epoch 95/100\n",
      "79/79 [==============================] - 10s 132ms/step - loss: 0.0292 - mean_squared_error: 0.0170 - mean_absolute_error: 0.0940 - val_loss: 0.0338 - val_mean_squared_error: 0.0217 - val_mean_absolute_error: 0.1027\n",
      "Epoch 96/100\n",
      "79/79 [==============================] - 10s 130ms/step - loss: 0.0286 - mean_squared_error: 0.0166 - mean_absolute_error: 0.0919 - val_loss: 0.0336 - val_mean_squared_error: 0.0216 - val_mean_absolute_error: 0.1028\n",
      "Epoch 97/100\n",
      "79/79 [==============================] - 11s 135ms/step - loss: 0.0284 - mean_squared_error: 0.0166 - mean_absolute_error: 0.0919 - val_loss: 0.0343 - val_mean_squared_error: 0.0225 - val_mean_absolute_error: 0.1073\n",
      "Epoch 98/100\n",
      "79/79 [==============================] - 10s 131ms/step - loss: 0.0283 - mean_squared_error: 0.0166 - mean_absolute_error: 0.0928 - val_loss: 0.0333 - val_mean_squared_error: 0.0218 - val_mean_absolute_error: 0.1038\n",
      "Epoch 99/100\n",
      "79/79 [==============================] - 10s 132ms/step - loss: 0.0280 - mean_squared_error: 0.0165 - mean_absolute_error: 0.0924 - val_loss: 0.0326 - val_mean_squared_error: 0.0212 - val_mean_absolute_error: 0.1009\n",
      "Epoch 100/100\n",
      "79/79 [==============================] - 10s 132ms/step - loss: 0.0274 - mean_squared_error: 0.0160 - mean_absolute_error: 0.0906 - val_loss: 0.0328 - val_mean_squared_error: 0.0215 - val_mean_absolute_error: 0.1006\n"
     ]
    }
   ],
   "source": [
    "from keras.models import Sequential\n",
    "from keras.layers import Conv2D, MaxPooling2D, Flatten, Dense, Dropout, BatchNormalization\n",
    "from keras.regularizers import l2\n",
    "from keras.preprocessing.image import ImageDataGenerator\n",
    "from keras.callbacks import EarlyStopping\n",
    "from keras.optimizers import Adam\n",
    "\n",
    "train_datagen = ImageDataGenerator(\n",
    "    # rotation_range=5,\n",
    "    # width_shift_range=0.02,\n",
    "    # height_shift_range=0.02,\n",
    "    # zoom_range=[0.95, 1.05],\n",
    "    # brightness_range=[0.8, 1.2],\n",
    "    # shear_range=0.1,\n",
    "    # fill_mode='nearest'\n",
    ")\n",
    "\n",
    "\n",
    "# Assuming you have your training data in train_data and train_labels\n",
    "train_generator = train_datagen.flow(X_train, Y_train, batch_size=32)\n",
    "\n",
    "\n",
    "model = Sequential()\n",
    "\n",
    "# Adding L2 Regularization to Convolutional Layers\n",
    "l2_reg = 0.001\n",
    "\n",
    "# First Conv Block\n",
    "model.add(Conv2D(32, (3, 3), activation='relu', input_shape=(48, 80, 3), kernel_regularizer=l2(l2_reg)))\n",
    "model.add(MaxPooling2D())\n",
    "model.add(Dropout(0.1))\n",
    "\n",
    "# Second Conv Block\n",
    "model.add(Conv2D(64, (3, 3), activation='relu'))\n",
    "model.add(MaxPooling2D())\n",
    "model.add(Dropout(0.15))\n",
    "\n",
    "# Third Conv Block\n",
    "model.add(Conv2D(128, (3, 3), activation='relu', kernel_regularizer=l2(l2_reg)))\n",
    "model.add(MaxPooling2D())\n",
    "model.add(BatchNormalization())\n",
    "\n",
    "\n",
    "# Fourth Conv Block\n",
    "model.add(Conv2D(256, (3, 3), activation='relu'))\n",
    "model.add(MaxPooling2D())\n",
    "model.add(Dropout(0.2))\n",
    "\n",
    "# Flatten and Dense Layers\n",
    "model.add(Flatten())\n",
    "model.add(Dense(64, activation='relu'))\n",
    "model.add(Dropout(0.2))\n",
    "model.add(Dense(2, activation='sigmoid'))\n",
    "\n",
    "\n",
    "# Compile the model\n",
    "model.compile(optimizer=Adam(learning_rate=0.00005), loss='mse', metrics=['mean_squared_error', 'mean_absolute_error'])\n",
    "\n",
    "early_stopping = EarlyStopping(monitor='val_loss', patience=20, restore_best_weights=True)\n",
    "\n",
    "history = model.fit(\n",
    "    train_generator,\n",
    "    epochs=100,  # Adjust number of epochs\n",
    "    validation_data=(X_val, Y_val),  # Assuming validation data is available\n",
    "      callbacks=[early_stopping],\n",
    "    batch_size=16\n",
    ")"
   ]
  },
  {
   "cell_type": "code",
   "execution_count": 16,
   "metadata": {},
   "outputs": [
    {
     "name": "stdout",
     "output_type": "stream",
     "text": [
      "25/25 [==============================] - 1s 21ms/step - loss: 0.0317 - mean_squared_error: 0.0205 - mean_absolute_error: 0.0998\n"
     ]
    },
    {
     "data": {
      "text/plain": [
       "[0.031721487641334534, 0.02045309729874134, 0.0997592881321907]"
      ]
     },
     "execution_count": 16,
     "metadata": {},
     "output_type": "execute_result"
    }
   ],
   "source": [
    "#evaluate the model\n",
    "model.evaluate(X_test, Y_test)"
   ]
  },
  {
   "cell_type": "code",
   "execution_count": null,
   "metadata": {},
   "outputs": [],
   "source": [
    "from keras.models import load_model\n",
    "model = load_model('./models/eye_gaze_v13.h5')"
   ]
  },
  {
   "cell_type": "code",
   "execution_count": 17,
   "metadata": {},
   "outputs": [
    {
     "name": "stdout",
     "output_type": "stream",
     "text": [
      "25/25 [==============================] - 1s 22ms/step\n"
     ]
    }
   ],
   "source": [
    "#plot predicted vs actual on test data on a canvas using opencv \n",
    "\n",
    "import cv2\n",
    "import numpy as np \n",
    "predictions = model.predict(X_test)\n",
    "screen_width, screen_height = 2650, 1440\n",
    "canvas = np.zeros((screen_height, screen_width, 3), dtype=np.uint8)\n",
    "cv2.namedWindow('Gaze Tracking on Canvas', cv2.WINDOW_NORMAL)\n",
    "cv2.setWindowProperty('Gaze Tracking on Canvas', cv2.WND_PROP_FULLSCREEN, cv2.WINDOW_FULLSCREEN)\n",
    "# plot the first 10 images one by one\n",
    "for i in range(0,2):\n",
    "    \n",
    "    # get the predicted x,y coordinates\n",
    "    x, y = predictions[i][0] * screen_width, predictions[i][1] * screen_height\n",
    "\n",
    "    # lock the preds \n",
    "    x = min(max(x, 0), screen_width)\n",
    "    y = min(max(y, 0), screen_height)\n",
    "\n",
    "    # get the actual x,y coordinates\n",
    "    x_actual, y_actual = Y_test[i][0] * screen_width, Y_test[i][1] * screen_height\n",
    "\n",
    "    # plot the predicted x,y coordinates\n",
    "    cv2.circle(canvas, (int(x), int(y)), 10, (0, 0, 255), -1)\n",
    "    # plot the actual x,y coordinates\n",
    "    cv2.circle(canvas, (int(x_actual), int(y_actual)), 10, (0, 255, 0), -1 )\n",
    "    # show the canvas\n",
    "    cv2.imshow('Gaze Tracking on Canvas', canvas)\n",
    "    cv2.waitKey(0)\n",
    "    # # show the image \n",
    "    # cv2.imshow('image', X_test[i])\n",
    "    # cv2.waitKey(0)\n",
    "    # # clear the canvas\n",
    "    \n",
    "    canvas = np.zeros((screen_height, screen_width, 3), dtype=np.uint8)\n",
    "\n",
    "cv2.waitKey(0)\n",
    "cv2.destroyAllWindows()"
   ]
  },
  {
   "cell_type": "code",
   "execution_count": 18,
   "metadata": {},
   "outputs": [],
   "source": [
    "model.save('./models/eye_gaze_v15_sigmoidv7.h5')"
   ]
  }
 ],
 "metadata": {
  "kernelspec": {
   "display_name": "tf2.10_eye_gaze",
   "language": "python",
   "name": "python3"
  },
  "language_info": {
   "codemirror_mode": {
    "name": "ipython",
    "version": 3
   },
   "file_extension": ".py",
   "mimetype": "text/x-python",
   "name": "python",
   "nbconvert_exporter": "python",
   "pygments_lexer": "ipython3",
   "version": "3.7.16"
  }
 },
 "nbformat": 4,
 "nbformat_minor": 2
}
