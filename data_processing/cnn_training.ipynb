{
 "cells": [
  {
   "cell_type": "code",
   "execution_count": 4,
   "metadata": {},
   "outputs": [],
   "source": [
    "import cv2\n",
    "import numpy as np\n",
    "from sklearn.model_selection import train_test_split\n",
    "import json\n",
    "import dlib\n",
    "detector = dlib.get_frontal_face_detector()\n",
    "predictor = dlib.shape_predictor('shape_predictor_68_face_landmarks.dat')"
   ]
  },
  {
   "cell_type": "code",
   "execution_count": 5,
   "metadata": {},
   "outputs": [],
   "source": [
    "def preprocess_eye_region(frame, eye_coords, target_size=(30, 36)):\n",
    "    \"\"\"\n",
    "    Preprocesses the eye region for the CNN model.\n",
    "    Args:\n",
    "        frame: The input image frame (in BGR format).\n",
    "        eye_coords: Coordinates of the eye region.\n",
    "        target_size: The target size for each eye region.\n",
    "    Returns:\n",
    "        The preprocessed eye region.\n",
    "    \"\"\"\n",
    "    x_min = min(x for x, y in eye_coords)\n",
    "    x_max = max(x for x, y in eye_coords)\n",
    "    y_min = min(y for x, y in eye_coords)\n",
    "    y_max = max(y for x, y in eye_coords)\n",
    "\n",
    "    # Cropping the eye region based on the extremities of the landmarks\n",
    "    cropped_eye = frame[y_min:y_max, x_min:x_max]\n",
    "\n",
    "    # Resizing the cropped eye region to the target size\n",
    "    resized_eye = cv2.resize(cropped_eye, target_size)\n",
    "\n",
    "    return resized_eye.astype(np.float32) / 255.0"
   ]
  },
  {
   "cell_type": "code",
   "execution_count": 6,
   "metadata": {},
   "outputs": [],
   "source": [
    "def get_combined_eyes(frame):\n",
    "    \"\"\"\n",
    "    Detects and combines the eye regions from the frame.\n",
    "    Args:\n",
    "        frame: The input image frame.\n",
    "    Returns:\n",
    "        The combined eye regions, or None if not detected.\n",
    "        \n",
    "        \n",
    "    \"\"\"\n",
    "    gray = cv2.cvtColor(frame, cv2.COLOR_BGR2GRAY)\n",
    "    faces = detector(gray)\n",
    "\n",
    "    for face in faces:\n",
    "        landmarks = predictor(gray, face)\n",
    "\n",
    "        # Extract the coordinates for each eye\n",
    "        left_eye = [(landmarks.part(n).x, landmarks.part(n).y) for n in range(36, 42)]\n",
    "        right_eye = [(landmarks.part(n).x, landmarks.part(n).y) for n in range(42, 48)]\n",
    "\n",
    "        # Preprocess each eye region\n",
    "        left_eye_region = preprocess_eye_region(frame, left_eye)\n",
    "\n",
    "        right_eye_region = preprocess_eye_region(frame, right_eye)\n",
    "\n",
    "        # Combine the eyes side by side\n",
    "        combined_eyes = np.hstack([left_eye_region, right_eye_region])\n",
    "\n",
    "        # Ensure the combined eyes image has the correct shape\n",
    "        if combined_eyes.shape[1] != 60:\n",
    "            raise ValueError(\"Combined eyes region does not match the expected width.\")\n",
    "        return combined_eyes\n",
    "\n",
    "    return None"
   ]
  },
  {
   "cell_type": "code",
   "execution_count": 7,
   "metadata": {},
   "outputs": [],
   "source": [
    "\n",
    "def normalize_head_pose(head_pose_data, rotation_scale=180, translation_max_displacement=None):\n",
    "    \"\"\"\n",
    "    Normalizes the head pose data.\n",
    "    Args:\n",
    "        head_pose_data: List containing the head pose data (rotation and translation vectors).\n",
    "        rotation_scale: Maximum value for the rotation vector components (180 for degrees, np.pi for radians).\n",
    "        translation_max_displacement: A tuple (max_x, max_y, max_z) representing the maximum displacement in each axis. If None, standard deviation normalization will be used.\n",
    "\n",
    "    Returns:\n",
    "        Normalized head pose data.\n",
    "    \"\"\"\n",
    "    # Normalize rotation vectors\n",
    "    normalized_rotation = np.array(head_pose_data[:3]) / rotation_scale\n",
    "\n",
    "    # Normalize translation vectors\n",
    "    if translation_max_displacement:\n",
    "        max_x, max_y, max_z = translation_max_displacement\n",
    "        normalized_translation = np.array(head_pose_data[3:]) / np.array([max_x, max_y, max_z])\n",
    "    else:\n",
    "        # Standard deviation normalization\n",
    "        translation_vector = np.array(head_pose_data[3:])\n",
    "        std_dev = np.std(translation_vector)\n",
    "        mean_val = np.mean(translation_vector)\n",
    "        normalized_translation = (translation_vector - mean_val) / std_dev\n",
    "\n",
    "    return np.concatenate([normalized_rotation, normalized_translation]).tolist()\n"
   ]
  },
  {
   "cell_type": "code",
   "execution_count": null,
   "metadata": {},
   "outputs": [],
   "source": [
    "import os\n",
    "from glob import glob\n",
    "import pandas as pd\n",
    "# Assuming normalize_head_pose and get_combined_eyes are defined as before\n",
    "def get_screen_size(metadata_file_path):\n",
    "    with open(metadata_file_path, 'r') as f:\n",
    "        metadata = json.load(f)\n",
    "\n",
    "        # Check if 'screenData' is a key in the metadata\n",
    "        if 'screenData' in metadata:\n",
    "            metadata = metadata['screenData']\n",
    "        # Otherwise, assume the metadata is already at the top level\n",
    "\n",
    "        screen_width = metadata.get('screenWidth')\n",
    "        screen_height = metadata.get('screenHeight')\n",
    "\n",
    "        if screen_width is None or screen_height is None:\n",
    "            raise ValueError(\"Screen size not found in metadata\")\n",
    "\n",
    "        return screen_width, screen_height\n",
    "\n",
    "\n",
    "def parse_head_pose_data(row):\n",
    "    # Split the strings and convert to float\n",
    "    rotation_str, translation_str = row['head_pose'], row['head_translation']\n",
    "    rotation = [float(x) for x in rotation_str.strip('\"').split(',')]\n",
    "    translation = [float(x) for x in translation_str.strip('\"').split(',')]\n",
    "    return rotation + translation  # Combine into a single list\n",
    "\n",
    "def prepare_dataset(base_dir):\n",
    "    X, Y = [], []\n",
    "    \n",
    "    column_names = ['image_path', 'cursor_x', 'cursor_y', 'left_pup', 'eye_y1', 'eye_x2', 'eye_y2', 'eye_x3', 'eye_y3', 'eye_x4', 'eye_y4', 'eye_x5', 'eye_y5', 'eye_x6', 'eye_y6', 'head_pose', 'head_translation']\n",
    "\n",
    "    for subdir in glob(os.path.join(base_dir, '*/')):\n",
    "        if 'calibration' in os.path.basename(os.path.normpath(subdir)).lower():\n",
    "            continue\n",
    "        print(f\"Processing directory: {subdir}\")\n",
    "        metadata_file_path = os.path.join(subdir, 'metadata.json')\n",
    "        screen_width, screen_height = get_screen_size(metadata_file_path)\n",
    "        print(f\"Screen size: {screen_width}x{screen_height}\")\n",
    "\n",
    "        # Find any CSV file in the directory\n",
    "        csv_files = glob(os.path.join(subdir, '*.csv'))\n",
    "        \n",
    "        csv_files = [f for f in csv_files if 'calibration' not in os.path.basename(f).lower()]\n",
    "\n",
    "        if not csv_files:\n",
    "            print(f\"No data CSV file found in directory: {subdir}\")\n",
    "            continue\n",
    "        data_file_path = csv_files[0]\n",
    "\n",
    "        # Find any directory that contains image files (assuming JPEG for example)\n",
    "        img_folders = [d for d in os.listdir(subdir) if os.path.isdir(os.path.join(subdir, d)) and glob(os.path.join(subdir, d, '*.png'))]\n",
    "        if not img_folders:\n",
    "            print(f\"No image folder found that contains images in directory: {subdir}\")\n",
    "            continue\n",
    "        data = pd.read_csv(data_file_path, header=None, names=column_names)\n",
    "\n",
    "        for index, row in data.iterrows():\n",
    "            # Directly use the image path from the dataframe\n",
    "            img_path = os.path.join(row['image_path'])\n",
    "            cursor_x, cursor_y = row['cursor_x'], row['cursor_y']\n",
    "            eye_box_pupil_data = row[3:15].tolist()\n",
    "            head_pose_data = parse_head_pose_data(row)\n",
    "\n",
    "            normalized_eye_box_pupil_data = [float(coord) / screen_width if i % 2 == 0 else float(coord) / screen_height for i, coord in enumerate(eye_box_pupil_data)]\n",
    "            normalized_head_pose_data = normalize_head_pose(head_pose_data)\n",
    "\n",
    "            # Load the image\n",
    "            img = cv2.imread(img_path)\n",
    "            if img is None:\n",
    "                print(f\"Image not found: {img_path}\")\n",
    "                continue\n",
    "\n",
    "            combined_eyes = get_combined_eyes(img)\n",
    "\n",
    "            # Append to datasets\n",
    "            Y.append([cursor_x / screen_width, cursor_y / screen_height] + normalized_eye_box_pupil_data + normalized_head_pose_data)\n",
    "            X.append(combined_eyes)\n",
    "    return X, Y\n",
    "\n"
   ]
  },
  {
   "cell_type": "code",
   "execution_count": null,
   "metadata": {},
   "outputs": [],
   "source": [
    "# Example usage:\n",
    "base_dir = './data'\n",
    "X, Y = prepare_dataset(base_dir)"
   ]
  },
  {
   "cell_type": "code",
   "execution_count": 13,
   "metadata": {},
   "outputs": [],
   "source": [
    "\n",
    "X_filtered = [img for img in X if img is not None and isinstance(img, np.ndarray)]\n",
    "Y_filtered = [Y[i] for i in range(len(Y)) if X[i] is not None and isinstance(X[i], np.ndarray)]\n",
    "\n",
    "X_filtered = np.array(X_filtered)\n",
    "\n",
    "Y_filtered = np.array(Y_filtered)"
   ]
  },
  {
   "cell_type": "code",
   "execution_count": 18,
   "metadata": {},
   "outputs": [
    {
     "data": {
      "text/plain": [
       "(408, 408)"
      ]
     },
     "execution_count": 18,
     "metadata": {},
     "output_type": "execute_result"
    }
   ],
   "source": [
    "len(X_filtered), len(Y_filtered)"
   ]
  },
  {
   "cell_type": "code",
   "execution_count": 17,
   "metadata": {},
   "outputs": [
    {
     "data": {
      "text/plain": [
       "(408, 14)"
      ]
     },
     "execution_count": 17,
     "metadata": {},
     "output_type": "execute_result"
    }
   ],
   "source": [
    "Y_filtered = Y_filtered[:, :14]\n",
    "Y_filtered.shape\n"
   ]
  },
  {
   "cell_type": "code",
   "execution_count": 19,
   "metadata": {},
   "outputs": [],
   "source": [
    "\n",
    "X_train, X_test, Y_train, Y_test = train_test_split(X_filtered, Y_filtered, test_size=0.2, random_state=42)"
   ]
  },
  {
   "cell_type": "code",
   "execution_count": null,
   "metadata": {},
   "outputs": [],
   "source": [
    "\n",
    "\n",
    "from keras.models import Sequential\n",
    "from keras.layers import Conv2D, Flatten, Dense, MaxPool2D\n",
    "from keras.metrics import MeanSquaredError, MeanAbsoluteError\n",
    "\n",
    "model = Sequential([\n",
    "    Conv2D(32, (3, 3), activation='relu', input_shape=(36, 60, 3)), \n",
    "    MaxPool2D(),\n",
    "    Conv2D(64, (3, 3), activation='relu'),\n",
    "    MaxPool2D(),\n",
    "    Conv2D(128, (3, 3), activation='relu'),\n",
    "    MaxPool2D(),\n",
    "\n",
    "    Flatten(),\n",
    "    Dense(64, activation='relu'),\n",
    "    Dense(14) \n",
    "])\n",
    "\n",
    "# Compile the model\n",
    "model.compile(optimizer='adam', loss='mse', metrics=[MeanSquaredError(), MeanAbsoluteError()])"
   ]
  },
  {
   "cell_type": "code",
   "execution_count": 20,
   "metadata": {},
   "outputs": [
    {
     "name": "stderr",
     "output_type": "stream",
     "text": [
      "2024-01-20 10:14:32.986886: I external/local_tsl/tsl/cuda/cudart_stub.cc:31] Could not find cuda drivers on your machine, GPU will not be used.\n",
      "2024-01-20 10:14:35.123923: E external/local_xla/xla/stream_executor/cuda/cuda_dnn.cc:9261] Unable to register cuDNN factory: Attempting to register factory for plugin cuDNN when one has already been registered\n",
      "2024-01-20 10:14:35.124083: E external/local_xla/xla/stream_executor/cuda/cuda_fft.cc:607] Unable to register cuFFT factory: Attempting to register factory for plugin cuFFT when one has already been registered\n",
      "2024-01-20 10:14:35.427002: E external/local_xla/xla/stream_executor/cuda/cuda_blas.cc:1515] Unable to register cuBLAS factory: Attempting to register factory for plugin cuBLAS when one has already been registered\n",
      "2024-01-20 10:14:36.127725: I external/local_tsl/tsl/cuda/cudart_stub.cc:31] Could not find cuda drivers on your machine, GPU will not be used.\n",
      "2024-01-20 10:14:36.128201: I tensorflow/core/platform/cpu_feature_guard.cc:182] This TensorFlow binary is optimized to use available CPU instructions in performance-critical operations.\n",
      "To enable the following instructions: AVX2 FMA, in other operations, rebuild TensorFlow with the appropriate compiler flags.\n",
      "2024-01-20 10:14:37.422111: W tensorflow/compiler/tf2tensorrt/utils/py_utils.cc:38] TF-TRT Warning: Could not find TensorRT\n"
     ]
    }
   ],
   "source": [
    "from keras.models import Sequential\n",
    "from keras.layers import Conv2D, MaxPool2D, Flatten, Dense, Dropout\n",
    "\n",
    "# Define the model\n",
    "model = Sequential()\n",
    "\n",
    "# Add convolutional layers with dropout\n",
    "model.add(Conv2D(32, (3, 3), activation='relu', input_shape=(36, 60, 3)))\n",
    "model.add(MaxPool2D())\n",
    "model.add(Dropout(0.25))  # Dropout layer after pooling\n",
    "\n",
    "model.add(Conv2D(64, (3, 3), activation='relu'))\n",
    "model.add(MaxPool2D())\n",
    "model.add(Dropout(0.25))  # Another dropout layer\n",
    "\n",
    "model.add(Conv2D(128, (3, 3), activation='relu'))\n",
    "model.add(MaxPool2D())\n",
    "model.add(Dropout(0.4))  # Higher dropout rate for deeper layers\n",
    "\n",
    "# Flatten the output from convolutional layers before passing it to the dense layers\n",
    "model.add(Flatten())\n",
    "\n",
    "# Add dense layers with dropout\n",
    "model.add(Dense(64, activation='relu'))\n",
    "model.add(Dropout(0.5))  # Dropout layer before the output layer\n",
    "model.add(Dense(14, activation='sigmoid'))  # Adjust the number of outputs as needed\n",
    "\n",
    "# Compile the model\n",
    "model.compile(optimizer='adam', loss='mse', metrics=['mean_squared_error', 'mean_absolute_error'])"
   ]
  },
  {
   "cell_type": "code",
   "execution_count": 21,
   "metadata": {},
   "outputs": [
    {
     "name": "stdout",
     "output_type": "stream",
     "text": [
      "Epoch 1/100\n",
      " 3/10 [========>.....................] - ETA: 0s - loss: 0.1123 - mean_squared_error: 0.1123 - mean_absolute_error: 0.3078"
     ]
    },
    {
     "name": "stderr",
     "output_type": "stream",
     "text": [
      "2024-01-20 10:14:41.729937: W external/local_tsl/tsl/framework/cpu_allocator_impl.cc:83] Allocation of 22861440 exceeds 10% of free system memory.\n",
      "2024-01-20 10:14:41.803430: W external/local_tsl/tsl/framework/cpu_allocator_impl.cc:83] Allocation of 22861440 exceeds 10% of free system memory.\n",
      "2024-01-20 10:14:41.896552: W external/local_tsl/tsl/framework/cpu_allocator_impl.cc:83] Allocation of 22861440 exceeds 10% of free system memory.\n"
     ]
    },
    {
     "name": "stdout",
     "output_type": "stream",
     "text": [
      " 6/10 [=================>............] - ETA: 0s - loss: 0.0939 - mean_squared_error: 0.0939 - mean_absolute_error: 0.2674"
     ]
    },
    {
     "name": "stderr",
     "output_type": "stream",
     "text": [
      "2024-01-20 10:14:41.954261: W external/local_tsl/tsl/framework/cpu_allocator_impl.cc:83] Allocation of 22861440 exceeds 10% of free system memory.\n",
      "2024-01-20 10:14:42.017595: W external/local_tsl/tsl/framework/cpu_allocator_impl.cc:83] Allocation of 22861440 exceeds 10% of free system memory.\n"
     ]
    },
    {
     "name": "stdout",
     "output_type": "stream",
     "text": [
      "10/10 [==============================] - 2s 83ms/step - loss: 0.0818 - mean_squared_error: 0.0818 - mean_absolute_error: 0.2379 - val_loss: 0.0259 - val_mean_squared_error: 0.0259 - val_mean_absolute_error: 0.1261\n",
      "Epoch 2/100\n",
      "10/10 [==============================] - 1s 58ms/step - loss: 0.0523 - mean_squared_error: 0.0523 - mean_absolute_error: 0.1710 - val_loss: 0.0534 - val_mean_squared_error: 0.0534 - val_mean_absolute_error: 0.2072\n",
      "Epoch 3/100\n",
      "10/10 [==============================] - 1s 56ms/step - loss: 0.0429 - mean_squared_error: 0.0429 - mean_absolute_error: 0.1577 - val_loss: 0.0296 - val_mean_squared_error: 0.0296 - val_mean_absolute_error: 0.1402\n",
      "Epoch 4/100\n",
      "10/10 [==============================] - 1s 85ms/step - loss: 0.0362 - mean_squared_error: 0.0362 - mean_absolute_error: 0.1416 - val_loss: 0.0345 - val_mean_squared_error: 0.0345 - val_mean_absolute_error: 0.1564\n",
      "Epoch 5/100\n",
      "10/10 [==============================] - 1s 57ms/step - loss: 0.0336 - mean_squared_error: 0.0336 - mean_absolute_error: 0.1351 - val_loss: 0.0329 - val_mean_squared_error: 0.0329 - val_mean_absolute_error: 0.1531\n",
      "Epoch 6/100\n",
      "10/10 [==============================] - 1s 61ms/step - loss: 0.0308 - mean_squared_error: 0.0308 - mean_absolute_error: 0.1292 - val_loss: 0.0333 - val_mean_squared_error: 0.0333 - val_mean_absolute_error: 0.1570\n",
      "Epoch 7/100\n",
      "10/10 [==============================] - 1s 61ms/step - loss: 0.0300 - mean_squared_error: 0.0300 - mean_absolute_error: 0.1255 - val_loss: 0.0301 - val_mean_squared_error: 0.0301 - val_mean_absolute_error: 0.1471\n",
      "Epoch 8/100\n",
      "10/10 [==============================] - 1s 55ms/step - loss: 0.0277 - mean_squared_error: 0.0277 - mean_absolute_error: 0.1210 - val_loss: 0.0295 - val_mean_squared_error: 0.0295 - val_mean_absolute_error: 0.1455\n",
      "Epoch 9/100\n",
      "10/10 [==============================] - 1s 70ms/step - loss: 0.0248 - mean_squared_error: 0.0248 - mean_absolute_error: 0.1134 - val_loss: 0.0367 - val_mean_squared_error: 0.0367 - val_mean_absolute_error: 0.1704\n",
      "Epoch 10/100\n",
      "10/10 [==============================] - 1s 58ms/step - loss: 0.0272 - mean_squared_error: 0.0272 - mean_absolute_error: 0.1181 - val_loss: 0.0272 - val_mean_squared_error: 0.0272 - val_mean_absolute_error: 0.1389\n",
      "Epoch 11/100\n",
      "10/10 [==============================] - 1s 56ms/step - loss: 0.0243 - mean_squared_error: 0.0243 - mean_absolute_error: 0.1102 - val_loss: 0.0320 - val_mean_squared_error: 0.0320 - val_mean_absolute_error: 0.1573\n",
      "Epoch 12/100\n",
      "10/10 [==============================] - 1s 65ms/step - loss: 0.0244 - mean_squared_error: 0.0244 - mean_absolute_error: 0.1083 - val_loss: 0.0280 - val_mean_squared_error: 0.0280 - val_mean_absolute_error: 0.1439\n",
      "Epoch 13/100\n",
      "10/10 [==============================] - 1s 55ms/step - loss: 0.0230 - mean_squared_error: 0.0230 - mean_absolute_error: 0.1046 - val_loss: 0.0304 - val_mean_squared_error: 0.0304 - val_mean_absolute_error: 0.1538\n",
      "Epoch 14/100\n",
      "10/10 [==============================] - 1s 65ms/step - loss: 0.0222 - mean_squared_error: 0.0222 - mean_absolute_error: 0.1032 - val_loss: 0.0253 - val_mean_squared_error: 0.0253 - val_mean_absolute_error: 0.1354\n",
      "Epoch 15/100\n",
      "10/10 [==============================] - 1s 62ms/step - loss: 0.0211 - mean_squared_error: 0.0211 - mean_absolute_error: 0.0991 - val_loss: 0.0232 - val_mean_squared_error: 0.0232 - val_mean_absolute_error: 0.1268\n",
      "Epoch 16/100\n",
      "10/10 [==============================] - 1s 57ms/step - loss: 0.0217 - mean_squared_error: 0.0217 - mean_absolute_error: 0.1013 - val_loss: 0.0254 - val_mean_squared_error: 0.0254 - val_mean_absolute_error: 0.1359\n",
      "Epoch 17/100\n",
      "10/10 [==============================] - 1s 56ms/step - loss: 0.0214 - mean_squared_error: 0.0214 - mean_absolute_error: 0.0992 - val_loss: 0.0245 - val_mean_squared_error: 0.0245 - val_mean_absolute_error: 0.1322\n",
      "Epoch 18/100\n",
      "10/10 [==============================] - 1s 55ms/step - loss: 0.0200 - mean_squared_error: 0.0200 - mean_absolute_error: 0.0951 - val_loss: 0.0277 - val_mean_squared_error: 0.0277 - val_mean_absolute_error: 0.1453\n",
      "Epoch 19/100\n",
      "10/10 [==============================] - 1s 57ms/step - loss: 0.0197 - mean_squared_error: 0.0197 - mean_absolute_error: 0.0923 - val_loss: 0.0247 - val_mean_squared_error: 0.0247 - val_mean_absolute_error: 0.1336\n",
      "Epoch 20/100\n",
      "10/10 [==============================] - 1s 63ms/step - loss: 0.0198 - mean_squared_error: 0.0198 - mean_absolute_error: 0.0930 - val_loss: 0.0243 - val_mean_squared_error: 0.0243 - val_mean_absolute_error: 0.1323\n",
      "Epoch 21/100\n",
      "10/10 [==============================] - 1s 56ms/step - loss: 0.0190 - mean_squared_error: 0.0190 - mean_absolute_error: 0.0895 - val_loss: 0.0225 - val_mean_squared_error: 0.0225 - val_mean_absolute_error: 0.1246\n",
      "Epoch 22/100\n",
      "10/10 [==============================] - 1s 56ms/step - loss: 0.0191 - mean_squared_error: 0.0191 - mean_absolute_error: 0.0920 - val_loss: 0.0237 - val_mean_squared_error: 0.0237 - val_mean_absolute_error: 0.1302\n",
      "Epoch 23/100\n",
      "10/10 [==============================] - 1s 66ms/step - loss: 0.0187 - mean_squared_error: 0.0187 - mean_absolute_error: 0.0895 - val_loss: 0.0202 - val_mean_squared_error: 0.0202 - val_mean_absolute_error: 0.1136\n",
      "Epoch 24/100\n",
      "10/10 [==============================] - 1s 77ms/step - loss: 0.0179 - mean_squared_error: 0.0179 - mean_absolute_error: 0.0880 - val_loss: 0.0178 - val_mean_squared_error: 0.0178 - val_mean_absolute_error: 0.0998\n",
      "Epoch 25/100\n",
      "10/10 [==============================] - 1s 57ms/step - loss: 0.0185 - mean_squared_error: 0.0185 - mean_absolute_error: 0.0874 - val_loss: 0.0217 - val_mean_squared_error: 0.0217 - val_mean_absolute_error: 0.1216\n",
      "Epoch 26/100\n",
      "10/10 [==============================] - 1s 70ms/step - loss: 0.0177 - mean_squared_error: 0.0177 - mean_absolute_error: 0.0847 - val_loss: 0.0200 - val_mean_squared_error: 0.0200 - val_mean_absolute_error: 0.1133\n",
      "Epoch 27/100\n",
      "10/10 [==============================] - 1s 58ms/step - loss: 0.0179 - mean_squared_error: 0.0179 - mean_absolute_error: 0.0849 - val_loss: 0.0245 - val_mean_squared_error: 0.0245 - val_mean_absolute_error: 0.1341\n",
      "Epoch 28/100\n",
      "10/10 [==============================] - 1s 55ms/step - loss: 0.0174 - mean_squared_error: 0.0174 - mean_absolute_error: 0.0836 - val_loss: 0.0187 - val_mean_squared_error: 0.0187 - val_mean_absolute_error: 0.1060\n",
      "Epoch 29/100\n",
      "10/10 [==============================] - 1s 78ms/step - loss: 0.0183 - mean_squared_error: 0.0183 - mean_absolute_error: 0.0855 - val_loss: 0.0191 - val_mean_squared_error: 0.0191 - val_mean_absolute_error: 0.1084\n",
      "Epoch 30/100\n",
      "10/10 [==============================] - 1s 64ms/step - loss: 0.0169 - mean_squared_error: 0.0169 - mean_absolute_error: 0.0806 - val_loss: 0.0172 - val_mean_squared_error: 0.0172 - val_mean_absolute_error: 0.0971\n",
      "Epoch 31/100\n",
      "10/10 [==============================] - 1s 59ms/step - loss: 0.0169 - mean_squared_error: 0.0169 - mean_absolute_error: 0.0806 - val_loss: 0.0178 - val_mean_squared_error: 0.0178 - val_mean_absolute_error: 0.1007\n",
      "Epoch 32/100\n",
      "10/10 [==============================] - 1s 58ms/step - loss: 0.0168 - mean_squared_error: 0.0168 - mean_absolute_error: 0.0805 - val_loss: 0.0184 - val_mean_squared_error: 0.0184 - val_mean_absolute_error: 0.1042\n",
      "Epoch 33/100\n",
      "10/10 [==============================] - 1s 58ms/step - loss: 0.0161 - mean_squared_error: 0.0161 - mean_absolute_error: 0.0779 - val_loss: 0.0155 - val_mean_squared_error: 0.0155 - val_mean_absolute_error: 0.0838\n",
      "Epoch 34/100\n",
      "10/10 [==============================] - 1s 64ms/step - loss: 0.0168 - mean_squared_error: 0.0168 - mean_absolute_error: 0.0805 - val_loss: 0.0169 - val_mean_squared_error: 0.0169 - val_mean_absolute_error: 0.0948\n",
      "Epoch 35/100\n",
      "10/10 [==============================] - 1s 59ms/step - loss: 0.0165 - mean_squared_error: 0.0165 - mean_absolute_error: 0.0781 - val_loss: 0.0206 - val_mean_squared_error: 0.0206 - val_mean_absolute_error: 0.1175\n",
      "Epoch 36/100\n",
      "10/10 [==============================] - 1s 55ms/step - loss: 0.0165 - mean_squared_error: 0.0165 - mean_absolute_error: 0.0800 - val_loss: 0.0157 - val_mean_squared_error: 0.0157 - val_mean_absolute_error: 0.0862\n",
      "Epoch 37/100\n",
      "10/10 [==============================] - 1s 63ms/step - loss: 0.0166 - mean_squared_error: 0.0166 - mean_absolute_error: 0.0792 - val_loss: 0.0150 - val_mean_squared_error: 0.0150 - val_mean_absolute_error: 0.0794\n",
      "Epoch 38/100\n",
      "10/10 [==============================] - 1s 55ms/step - loss: 0.0158 - mean_squared_error: 0.0158 - mean_absolute_error: 0.0752 - val_loss: 0.0175 - val_mean_squared_error: 0.0175 - val_mean_absolute_error: 0.0991\n",
      "Epoch 39/100\n",
      "10/10 [==============================] - 1s 68ms/step - loss: 0.0151 - mean_squared_error: 0.0151 - mean_absolute_error: 0.0737 - val_loss: 0.0155 - val_mean_squared_error: 0.0155 - val_mean_absolute_error: 0.0849\n",
      "Epoch 40/100\n",
      "10/10 [==============================] - 1s 55ms/step - loss: 0.0159 - mean_squared_error: 0.0159 - mean_absolute_error: 0.0745 - val_loss: 0.0168 - val_mean_squared_error: 0.0168 - val_mean_absolute_error: 0.0949\n",
      "Epoch 41/100\n",
      "10/10 [==============================] - 1s 61ms/step - loss: 0.0158 - mean_squared_error: 0.0158 - mean_absolute_error: 0.0744 - val_loss: 0.0158 - val_mean_squared_error: 0.0158 - val_mean_absolute_error: 0.0869\n",
      "Epoch 42/100\n",
      "10/10 [==============================] - 1s 58ms/step - loss: 0.0154 - mean_squared_error: 0.0154 - mean_absolute_error: 0.0731 - val_loss: 0.0156 - val_mean_squared_error: 0.0156 - val_mean_absolute_error: 0.0855\n",
      "Epoch 43/100\n",
      "10/10 [==============================] - 1s 65ms/step - loss: 0.0158 - mean_squared_error: 0.0158 - mean_absolute_error: 0.0750 - val_loss: 0.0161 - val_mean_squared_error: 0.0161 - val_mean_absolute_error: 0.0895\n",
      "Epoch 44/100\n",
      "10/10 [==============================] - 1s 75ms/step - loss: 0.0156 - mean_squared_error: 0.0156 - mean_absolute_error: 0.0730 - val_loss: 0.0174 - val_mean_squared_error: 0.0174 - val_mean_absolute_error: 0.0990\n",
      "Epoch 45/100\n",
      "10/10 [==============================] - 1s 61ms/step - loss: 0.0156 - mean_squared_error: 0.0156 - mean_absolute_error: 0.0755 - val_loss: 0.0155 - val_mean_squared_error: 0.0155 - val_mean_absolute_error: 0.0843\n",
      "Epoch 46/100\n",
      "10/10 [==============================] - 1s 57ms/step - loss: 0.0151 - mean_squared_error: 0.0151 - mean_absolute_error: 0.0717 - val_loss: 0.0144 - val_mean_squared_error: 0.0144 - val_mean_absolute_error: 0.0744\n",
      "Epoch 47/100\n",
      "10/10 [==============================] - 1s 57ms/step - loss: 0.0148 - mean_squared_error: 0.0148 - mean_absolute_error: 0.0694 - val_loss: 0.0167 - val_mean_squared_error: 0.0167 - val_mean_absolute_error: 0.0937\n",
      "Epoch 48/100\n",
      "10/10 [==============================] - 1s 58ms/step - loss: 0.0151 - mean_squared_error: 0.0151 - mean_absolute_error: 0.0703 - val_loss: 0.0167 - val_mean_squared_error: 0.0167 - val_mean_absolute_error: 0.0937\n",
      "Epoch 49/100\n",
      "10/10 [==============================] - 1s 64ms/step - loss: 0.0149 - mean_squared_error: 0.0149 - mean_absolute_error: 0.0719 - val_loss: 0.0143 - val_mean_squared_error: 0.0143 - val_mean_absolute_error: 0.0723\n",
      "Epoch 50/100\n",
      "10/10 [==============================] - 1s 61ms/step - loss: 0.0150 - mean_squared_error: 0.0150 - mean_absolute_error: 0.0715 - val_loss: 0.0149 - val_mean_squared_error: 0.0149 - val_mean_absolute_error: 0.0785\n",
      "Epoch 51/100\n",
      "10/10 [==============================] - 1s 56ms/step - loss: 0.0146 - mean_squared_error: 0.0146 - mean_absolute_error: 0.0694 - val_loss: 0.0156 - val_mean_squared_error: 0.0156 - val_mean_absolute_error: 0.0850\n",
      "Epoch 52/100\n",
      "10/10 [==============================] - 1s 55ms/step - loss: 0.0150 - mean_squared_error: 0.0150 - mean_absolute_error: 0.0711 - val_loss: 0.0155 - val_mean_squared_error: 0.0155 - val_mean_absolute_error: 0.0838\n",
      "Epoch 53/100\n",
      "10/10 [==============================] - 1s 55ms/step - loss: 0.0143 - mean_squared_error: 0.0143 - mean_absolute_error: 0.0692 - val_loss: 0.0140 - val_mean_squared_error: 0.0140 - val_mean_absolute_error: 0.0696\n",
      "Epoch 54/100\n",
      "10/10 [==============================] - 1s 67ms/step - loss: 0.0147 - mean_squared_error: 0.0147 - mean_absolute_error: 0.0708 - val_loss: 0.0141 - val_mean_squared_error: 0.0141 - val_mean_absolute_error: 0.0704\n",
      "Epoch 55/100\n",
      "10/10 [==============================] - 1s 56ms/step - loss: 0.0147 - mean_squared_error: 0.0147 - mean_absolute_error: 0.0707 - val_loss: 0.0150 - val_mean_squared_error: 0.0150 - val_mean_absolute_error: 0.0793\n",
      "Epoch 56/100\n",
      "10/10 [==============================] - 1s 59ms/step - loss: 0.0143 - mean_squared_error: 0.0143 - mean_absolute_error: 0.0667 - val_loss: 0.0145 - val_mean_squared_error: 0.0145 - val_mean_absolute_error: 0.0746\n",
      "Epoch 57/100\n",
      "10/10 [==============================] - 1s 55ms/step - loss: 0.0146 - mean_squared_error: 0.0146 - mean_absolute_error: 0.0694 - val_loss: 0.0136 - val_mean_squared_error: 0.0136 - val_mean_absolute_error: 0.0634\n",
      "Epoch 58/100\n",
      "10/10 [==============================] - 1s 60ms/step - loss: 0.0143 - mean_squared_error: 0.0143 - mean_absolute_error: 0.0683 - val_loss: 0.0146 - val_mean_squared_error: 0.0146 - val_mean_absolute_error: 0.0752\n",
      "Epoch 59/100\n",
      "10/10 [==============================] - 1s 61ms/step - loss: 0.0143 - mean_squared_error: 0.0143 - mean_absolute_error: 0.0683 - val_loss: 0.0132 - val_mean_squared_error: 0.0132 - val_mean_absolute_error: 0.0577\n",
      "Epoch 60/100\n",
      "10/10 [==============================] - 1s 72ms/step - loss: 0.0147 - mean_squared_error: 0.0147 - mean_absolute_error: 0.0692 - val_loss: 0.0139 - val_mean_squared_error: 0.0139 - val_mean_absolute_error: 0.0669\n",
      "Epoch 61/100\n",
      "10/10 [==============================] - 1s 56ms/step - loss: 0.0140 - mean_squared_error: 0.0140 - mean_absolute_error: 0.0663 - val_loss: 0.0138 - val_mean_squared_error: 0.0138 - val_mean_absolute_error: 0.0660\n",
      "Epoch 62/100\n",
      "10/10 [==============================] - 1s 55ms/step - loss: 0.0138 - mean_squared_error: 0.0138 - mean_absolute_error: 0.0663 - val_loss: 0.0134 - val_mean_squared_error: 0.0134 - val_mean_absolute_error: 0.0612\n",
      "Epoch 63/100\n",
      "10/10 [==============================] - 1s 58ms/step - loss: 0.0138 - mean_squared_error: 0.0138 - mean_absolute_error: 0.0665 - val_loss: 0.0142 - val_mean_squared_error: 0.0142 - val_mean_absolute_error: 0.0700\n",
      "Epoch 64/100\n",
      "10/10 [==============================] - 1s 56ms/step - loss: 0.0142 - mean_squared_error: 0.0142 - mean_absolute_error: 0.0676 - val_loss: 0.0138 - val_mean_squared_error: 0.0138 - val_mean_absolute_error: 0.0681\n",
      "Epoch 65/100\n",
      "10/10 [==============================] - 1s 67ms/step - loss: 0.0140 - mean_squared_error: 0.0140 - mean_absolute_error: 0.0660 - val_loss: 0.0149 - val_mean_squared_error: 0.0149 - val_mean_absolute_error: 0.0769\n",
      "Epoch 66/100\n",
      "10/10 [==============================] - 1s 57ms/step - loss: 0.0137 - mean_squared_error: 0.0137 - mean_absolute_error: 0.0663 - val_loss: 0.0148 - val_mean_squared_error: 0.0148 - val_mean_absolute_error: 0.0769\n",
      "Epoch 67/100\n",
      "10/10 [==============================] - 1s 55ms/step - loss: 0.0142 - mean_squared_error: 0.0142 - mean_absolute_error: 0.0686 - val_loss: 0.0129 - val_mean_squared_error: 0.0129 - val_mean_absolute_error: 0.0561\n",
      "Epoch 68/100\n",
      "10/10 [==============================] - 1s 58ms/step - loss: 0.0137 - mean_squared_error: 0.0137 - mean_absolute_error: 0.0667 - val_loss: 0.0130 - val_mean_squared_error: 0.0130 - val_mean_absolute_error: 0.0561\n",
      "Epoch 69/100\n",
      "10/10 [==============================] - 1s 56ms/step - loss: 0.0139 - mean_squared_error: 0.0139 - mean_absolute_error: 0.0695 - val_loss: 0.0154 - val_mean_squared_error: 0.0154 - val_mean_absolute_error: 0.0818\n",
      "Epoch 70/100\n",
      "10/10 [==============================] - 1s 64ms/step - loss: 0.0140 - mean_squared_error: 0.0140 - mean_absolute_error: 0.0681 - val_loss: 0.0132 - val_mean_squared_error: 0.0132 - val_mean_absolute_error: 0.0583\n",
      "Epoch 71/100\n",
      "10/10 [==============================] - 1s 62ms/step - loss: 0.0133 - mean_squared_error: 0.0133 - mean_absolute_error: 0.0645 - val_loss: 0.0129 - val_mean_squared_error: 0.0129 - val_mean_absolute_error: 0.0556\n",
      "Epoch 72/100\n",
      "10/10 [==============================] - 1s 56ms/step - loss: 0.0135 - mean_squared_error: 0.0135 - mean_absolute_error: 0.0654 - val_loss: 0.0133 - val_mean_squared_error: 0.0133 - val_mean_absolute_error: 0.0643\n",
      "Epoch 73/100\n",
      "10/10 [==============================] - 1s 60ms/step - loss: 0.0131 - mean_squared_error: 0.0131 - mean_absolute_error: 0.0634 - val_loss: 0.0134 - val_mean_squared_error: 0.0134 - val_mean_absolute_error: 0.0640\n",
      "Epoch 74/100\n",
      "10/10 [==============================] - 1s 55ms/step - loss: 0.0131 - mean_squared_error: 0.0131 - mean_absolute_error: 0.0628 - val_loss: 0.0133 - val_mean_squared_error: 0.0133 - val_mean_absolute_error: 0.0631\n",
      "Epoch 75/100\n",
      "10/10 [==============================] - 1s 64ms/step - loss: 0.0131 - mean_squared_error: 0.0131 - mean_absolute_error: 0.0635 - val_loss: 0.0140 - val_mean_squared_error: 0.0140 - val_mean_absolute_error: 0.0692\n",
      "Epoch 76/100\n",
      "10/10 [==============================] - 1s 57ms/step - loss: 0.0126 - mean_squared_error: 0.0126 - mean_absolute_error: 0.0614 - val_loss: 0.0133 - val_mean_squared_error: 0.0133 - val_mean_absolute_error: 0.0593\n",
      "Epoch 77/100\n",
      "10/10 [==============================] - 1s 67ms/step - loss: 0.0130 - mean_squared_error: 0.0130 - mean_absolute_error: 0.0630 - val_loss: 0.0136 - val_mean_squared_error: 0.0136 - val_mean_absolute_error: 0.0642\n",
      "Epoch 78/100\n",
      "10/10 [==============================] - 1s 55ms/step - loss: 0.0129 - mean_squared_error: 0.0129 - mean_absolute_error: 0.0627 - val_loss: 0.0134 - val_mean_squared_error: 0.0134 - val_mean_absolute_error: 0.0608\n",
      "Epoch 79/100\n",
      "10/10 [==============================] - 1s 55ms/step - loss: 0.0132 - mean_squared_error: 0.0132 - mean_absolute_error: 0.0647 - val_loss: 0.0130 - val_mean_squared_error: 0.0130 - val_mean_absolute_error: 0.0572\n",
      "Epoch 80/100\n",
      "10/10 [==============================] - 1s 73ms/step - loss: 0.0127 - mean_squared_error: 0.0127 - mean_absolute_error: 0.0624 - val_loss: 0.0132 - val_mean_squared_error: 0.0132 - val_mean_absolute_error: 0.0600\n",
      "Epoch 81/100\n",
      "10/10 [==============================] - 1s 55ms/step - loss: 0.0129 - mean_squared_error: 0.0129 - mean_absolute_error: 0.0634 - val_loss: 0.0127 - val_mean_squared_error: 0.0127 - val_mean_absolute_error: 0.0532\n",
      "Epoch 82/100\n",
      "10/10 [==============================] - 1s 62ms/step - loss: 0.0128 - mean_squared_error: 0.0128 - mean_absolute_error: 0.0623 - val_loss: 0.0129 - val_mean_squared_error: 0.0129 - val_mean_absolute_error: 0.0547\n",
      "Epoch 83/100\n",
      "10/10 [==============================] - 1s 56ms/step - loss: 0.0128 - mean_squared_error: 0.0128 - mean_absolute_error: 0.0630 - val_loss: 0.0132 - val_mean_squared_error: 0.0132 - val_mean_absolute_error: 0.0605\n",
      "Epoch 84/100\n",
      "10/10 [==============================] - 1s 58ms/step - loss: 0.0125 - mean_squared_error: 0.0125 - mean_absolute_error: 0.0610 - val_loss: 0.0129 - val_mean_squared_error: 0.0129 - val_mean_absolute_error: 0.0563\n",
      "Epoch 85/100\n",
      "10/10 [==============================] - 1s 72ms/step - loss: 0.0125 - mean_squared_error: 0.0125 - mean_absolute_error: 0.0616 - val_loss: 0.0132 - val_mean_squared_error: 0.0132 - val_mean_absolute_error: 0.0615\n",
      "Epoch 86/100\n",
      "10/10 [==============================] - 1s 56ms/step - loss: 0.0126 - mean_squared_error: 0.0126 - mean_absolute_error: 0.0624 - val_loss: 0.0131 - val_mean_squared_error: 0.0131 - val_mean_absolute_error: 0.0614\n",
      "Epoch 87/100\n",
      "10/10 [==============================] - 1s 57ms/step - loss: 0.0127 - mean_squared_error: 0.0127 - mean_absolute_error: 0.0628 - val_loss: 0.0132 - val_mean_squared_error: 0.0132 - val_mean_absolute_error: 0.0594\n",
      "Epoch 88/100\n",
      "10/10 [==============================] - 1s 62ms/step - loss: 0.0122 - mean_squared_error: 0.0122 - mean_absolute_error: 0.0610 - val_loss: 0.0129 - val_mean_squared_error: 0.0129 - val_mean_absolute_error: 0.0559\n",
      "Epoch 89/100\n",
      "10/10 [==============================] - 1s 57ms/step - loss: 0.0119 - mean_squared_error: 0.0119 - mean_absolute_error: 0.0589 - val_loss: 0.0129 - val_mean_squared_error: 0.0129 - val_mean_absolute_error: 0.0581\n",
      "Epoch 90/100\n",
      "10/10 [==============================] - 1s 65ms/step - loss: 0.0119 - mean_squared_error: 0.0119 - mean_absolute_error: 0.0579 - val_loss: 0.0132 - val_mean_squared_error: 0.0132 - val_mean_absolute_error: 0.0637\n",
      "Epoch 91/100\n",
      "10/10 [==============================] - 1s 58ms/step - loss: 0.0124 - mean_squared_error: 0.0124 - mean_absolute_error: 0.0611 - val_loss: 0.0126 - val_mean_squared_error: 0.0126 - val_mean_absolute_error: 0.0530\n",
      "Epoch 92/100\n",
      "10/10 [==============================] - 1s 57ms/step - loss: 0.0126 - mean_squared_error: 0.0126 - mean_absolute_error: 0.0620 - val_loss: 0.0129 - val_mean_squared_error: 0.0129 - val_mean_absolute_error: 0.0599\n",
      "Epoch 93/100\n",
      "10/10 [==============================] - 1s 55ms/step - loss: 0.0117 - mean_squared_error: 0.0117 - mean_absolute_error: 0.0588 - val_loss: 0.0126 - val_mean_squared_error: 0.0126 - val_mean_absolute_error: 0.0497\n",
      "Epoch 94/100\n",
      "10/10 [==============================] - 1s 74ms/step - loss: 0.0128 - mean_squared_error: 0.0128 - mean_absolute_error: 0.0638 - val_loss: 0.0131 - val_mean_squared_error: 0.0131 - val_mean_absolute_error: 0.0607\n",
      "Epoch 95/100\n",
      "10/10 [==============================] - 1s 59ms/step - loss: 0.0120 - mean_squared_error: 0.0120 - mean_absolute_error: 0.0593 - val_loss: 0.0140 - val_mean_squared_error: 0.0140 - val_mean_absolute_error: 0.0697\n",
      "Epoch 96/100\n",
      "10/10 [==============================] - 1s 94ms/step - loss: 0.0122 - mean_squared_error: 0.0122 - mean_absolute_error: 0.0613 - val_loss: 0.0123 - val_mean_squared_error: 0.0123 - val_mean_absolute_error: 0.0527\n",
      "Epoch 97/100\n",
      "10/10 [==============================] - 1s 56ms/step - loss: 0.0122 - mean_squared_error: 0.0122 - mean_absolute_error: 0.0605 - val_loss: 0.0124 - val_mean_squared_error: 0.0124 - val_mean_absolute_error: 0.0535\n",
      "Epoch 98/100\n",
      "10/10 [==============================] - 1s 58ms/step - loss: 0.0116 - mean_squared_error: 0.0116 - mean_absolute_error: 0.0586 - val_loss: 0.0130 - val_mean_squared_error: 0.0130 - val_mean_absolute_error: 0.0585\n",
      "Epoch 99/100\n",
      "10/10 [==============================] - 1s 56ms/step - loss: 0.0123 - mean_squared_error: 0.0123 - mean_absolute_error: 0.0615 - val_loss: 0.0129 - val_mean_squared_error: 0.0129 - val_mean_absolute_error: 0.0600\n",
      "Epoch 100/100\n",
      "10/10 [==============================] - 1s 63ms/step - loss: 0.0123 - mean_squared_error: 0.0123 - mean_absolute_error: 0.0610 - val_loss: 0.0123 - val_mean_squared_error: 0.0123 - val_mean_absolute_error: 0.0514\n"
     ]
    },
    {
     "data": {
      "text/plain": [
       "<keras.src.callbacks.History at 0x7f56642c00a0>"
      ]
     },
     "execution_count": 21,
     "metadata": {},
     "output_type": "execute_result"
    }
   ],
   "source": [
    "model.fit(X_train, Y_train, epochs=100, validation_split=0.1, batch_size=32)"
   ]
  },
  {
   "cell_type": "code",
   "execution_count": 22,
   "metadata": {},
   "outputs": [
    {
     "name": "stdout",
     "output_type": "stream",
     "text": [
      "3/3 [==============================] - 0s 15ms/step - loss: 0.0104 - mean_squared_error: 0.0104 - mean_absolute_error: 0.0481\n"
     ]
    },
    {
     "data": {
      "text/plain": [
       "[0.010376979596912861, 0.010376979596912861, 0.048071350902318954]"
      ]
     },
     "execution_count": 22,
     "metadata": {},
     "output_type": "execute_result"
    }
   ],
   "source": [
    "#evaluate the model\n",
    "model.evaluate(X_test, Y_test)"
   ]
  },
  {
   "cell_type": "code",
   "execution_count": 23,
   "metadata": {},
   "outputs": [
    {
     "name": "stdout",
     "output_type": "stream",
     "text": [
      "3/3 [==============================] - 0s 13ms/step\n"
     ]
    },
    {
     "name": "stderr",
     "output_type": "stream",
     "text": [
      "/workspaces/eye_gaze_data_collection/data_processing/data_processing/lib/python3.10/site-packages/keras/src/engine/training.py:3103: UserWarning: You are saving your model as an HDF5 file via `model.save()`. This file format is considered legacy. We recommend using instead the native Keras format, e.g. `model.save('my_model.keras')`.\n",
      "  saving_api.save_model(\n"
     ]
    }
   ],
   "source": [
    "#show the predictions\n",
    "predictions = model.predict(X_test)\n",
    "model.save('./models/eye_gaze_v9_1810_drop_out.2.h5')"
   ]
  }
 ],
 "metadata": {
  "kernelspec": {
   "display_name": "Python (data_processing)",
   "language": "python",
   "name": "data_processing"
  },
  "language_info": {
   "codemirror_mode": {
    "name": "ipython",
    "version": 3
   },
   "file_extension": ".py",
   "mimetype": "text/x-python",
   "name": "python",
   "nbconvert_exporter": "python",
   "pygments_lexer": "ipython3",
   "version": "3.10.13"
  }
 },
 "nbformat": 4,
 "nbformat_minor": 2
}
