{
 "cells": [
  {
   "cell_type": "code",
   "execution_count": 1,
   "metadata": {},
   "outputs": [],
   "source": [
    "from pynput.keyboard import Key, Listener\n",
    "import logging\n",
    "# Set up logging\n",
    "logging.basicConfig(filename=\"keyboard_activity.log\", level=logging.INFO, format='%(asctime)s: %(message)s')\n",
    "\n",
    "def on_press(key):\n",
    "    logging.info(str(key))\n",
    "\n",
    "def on_release(key):\n",
    "    if key == Key.esc:\n",
    "        # Stop listener\n",
    "        return False\n",
    "\n",
    "# Set up listener for keyboard\n",
    "with Listener(on_press=on_press, on_release=on_release) as listener:\n",
    "    listener.join()\n"
   ]
  },
  {
   "cell_type": "code",
   "execution_count": 1,
   "metadata": {},
   "outputs": [],
   "source": [
    "from pynput.mouse import Listener\n",
    "import logging\n",
    "\n",
    "# Set up logging for mouse activity\n",
    "logging.basicConfig(filename=\"mouse_activity.log\", level=logging.INFO, format='%(asctime)s: %(message)s')\n",
    "\n",
    "def on_move(x, y):\n",
    "    logging.info(f\"Mouse moved to ({x}, {y})\")\n",
    "\n",
    "def on_click(x, y, button, pressed):\n",
    "    logging.info(f\"Mouse {'pressed' if pressed else 'released'} at ({x}, {y}) with {button}\")\n",
    "\n",
    "def on_scroll(x, y, dx, dy):\n",
    "    logging.info(f\"Mouse scrolled at ({x}, {y}) with delta ({dx}, {dy})\")\n",
    "\n",
    "# Set up listener for mouse\n",
    "with Listener(on_move=on_move, on_click=on_click, on_scroll=on_scroll) as listener:\n",
    "    listener.join()\n"
   ]
  }
 ],
 "metadata": {
  "kernelspec": {
   "display_name": "data_processing",
   "language": "python",
   "name": "python3"
  },
  "language_info": {
   "codemirror_mode": {
    "name": "ipython",
    "version": 3
   },
   "file_extension": ".py",
   "mimetype": "text/x-python",
   "name": "python",
   "nbconvert_exporter": "python",
   "pygments_lexer": "ipython3",
   "version": "3.11.2"
  }
 },
 "nbformat": 4,
 "nbformat_minor": 2
}
