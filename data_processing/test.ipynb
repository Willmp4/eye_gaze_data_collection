{
 "cells": [
  {
   "cell_type": "code",
   "execution_count": 1,
   "metadata": {},
   "outputs": [],
   "source": [
    "from image_processing import *\n",
    "import dlib\n",
    "import cv2\n",
    "import numpy as np\n",
    "\n",
    "# Load the detector\n",
    "detector = dlib.get_frontal_face_detector()\n",
    "predictor = dlib.shape_predictor(\"shape_predictor_68_face_landmarks.dat\")"
   ]
  },
  {
   "cell_type": "code",
   "execution_count": 2,
   "metadata": {},
   "outputs": [],
   "source": [
    "import cv2\n",
    "\n",
    "def enhance_image_resolution(image):\n",
    "    # Load the super-resolution model\n",
    "    sr = cv2.dnn_superres.DnnSuperResImpl_create()\n",
    "    path = \"EDSR_x4.pb\"  # Change to the path of the model\n",
    "    sr.readModel(path)\n",
    "    sr.setModel(\"edsr\", 4)  # You can change the model and scale as needed\n",
    "\n",
    "    # Enhance the resolution of the image\n",
    "    enhanced_image = sr.upsample(image)\n",
    "    return enhanced_image\n"
   ]
  },
  {
   "cell_type": "code",
   "execution_count": 3,
   "metadata": {},
   "outputs": [],
   "source": [
    "def detect_pupil(eye_image):\n",
    "    # Enhance resolution\n",
    "    eye_image = enhance_image_resolution(eye_image)\n",
    "\n",
    "    # Preprocessing\n",
    "    gray = cv2.cvtColor(eye_image, cv2.COLOR_BGR2GRAY)\n",
    "    gray = cv2.equalizeHist(gray)  # Histogram Equalization\n",
    "    blurred = cv2.GaussianBlur(gray, (5, 5), 0)  # Gaussian Blur\n",
    "\n",
    "    # Edge detection\n",
    "    edged = cv2.Canny(blurred, 50, 100)\n",
    "\n",
    "    # Find contours\n",
    "    contours, _ = cv2.findContours(edged, cv2.RETR_EXTERNAL, cv2.CHAIN_APPROX_SIMPLE)\n",
    "\n",
    "    # Sort contours by area and filter\n",
    "    contours = sorted(contours, key=cv2.contourArea, reverse=True)[:5]\n",
    "\n",
    "    for contour in contours:\n",
    "        # Approximate the contour\n",
    "        peri = cv2.arcLength(contour, True)\n",
    "        approx = cv2.approxPolyDP(contour, 0.04 * peri, True)\n",
    "\n",
    "        # The pupil will be the first contour that is sufficiently circular\n",
    "        area = cv2.contourArea(contour)\n",
    "        if area > 30:  # You may need to adjust this threshold\n",
    "            print(area)\n",
    "            M = cv2.moments(contour)\n",
    "            if M[\"m00\"] != 0:\n",
    "                cX = int(M[\"m10\"] / M[\"m00\"])\n",
    "                cY = int(M[\"m01\"] / M[\"m00\"])\n",
    "                cv2.circle(eye_image, (cX, cY), 7, (255, 255, 255), -1)\n",
    "                cv2.imshow(\"Eye\", eye_image)\n",
    "                cv2.waitKey(0)\n",
    "                cv2.destroyAllWindows()\n",
    "                return (cX, cY), contour\n",
    "\n",
    "    return None, None\n"
   ]
  },
  {
   "cell_type": "code",
   "execution_count": 4,
   "metadata": {},
   "outputs": [],
   "source": [
    "def pre_process_image(image):        \n",
    "    # Initialize variables\n",
    "    left_eye_info = right_eye_info = left_eye_bbox = right_eye_bbox = None\n",
    "\n",
    "    # Quality Assessment: Check if the image is blurry\n",
    "    if is_image_blurry(image):\n",
    "        print(\"Image is too blurry\")\n",
    "        return None\n",
    "\n",
    "    dlib_faces = detector(image)\n",
    "    processed_data = []\n",
    "    for dlib_face in dlib_faces:\n",
    "        shape = predictor(image, dlib_face)\n",
    "\n",
    "        for (i, (start, end)) in enumerate([(36,42), (42,48)]):\n",
    "            eye_landmarks = [(shape.part(point).x, shape.part(point).y) for point in range(start, end)]\n",
    "            \n",
    "            # Skip if eye is closed\n",
    "            if eye_aspect_ratio(eye_landmarks) < 0.2:\n",
    "                print(\"Eye is closed\")\n",
    "                continue\n",
    "\n",
    "            eye_image, (eye_min_x, eye_min_y, eye_max_x, eye_max_y) = extract_eye_region(image, shape, range(start, end))\n",
    "            print(eye_max_x, eye_max_y)\n",
    "            print(eye_min_x, eye_min_y)\n",
    "\n",
    "            pupil_center, pupil_contour = detect_pupil(eye_image)\n",
    "            # After detecting the pupil in the cropped eye image:\n",
    "            if pupil_center:\n",
    "                # Scale the pupil center coordinates down to the original image size\n",
    "                pupil_center_original = (pupil_center[0] / 4, pupil_center[1] / 4)\n",
    "                # Transform these coordinates to the global space of the original image\n",
    "                pupil_center_global = (int(pupil_center_original[0]) + eye_min_x, int(pupil_center_original[1]) + eye_min_y)\n",
    "    \n",
    "                pupil_center_global = tuple(pc.item() if isinstance(pc, np.generic) else pc for pc in pupil_center_global)\n",
    "\n",
    "                #draw contours\n",
    "                cv2.drawContours(image, [pupil_contour], -1, (0, 255, 0), 2)\n",
    "                cv2.circle(image, pupil_center_global, 1, (255, 255, 255), -1)\n",
    "                cv2.imshow(\"Eye\", image)\n",
    "                cv2.waitKey(0)\n",
    "                cv2.destroyAllWindows()\n",
    "\n",
    "\n",
    "                bounding_box = (eye_min_x, eye_min_y, eye_max_x - eye_min_x, eye_max_y - eye_min_y)\n",
    "                bounding_box = tuple(bb.item() if isinstance(bb, np.generic) else bb for bb in bounding_box)\n",
    "\n",
    "                eye_data = {\n",
    "                    'eye_position': 'left' if i == 0 else 'right',\n",
    "                    'pupil_center': pupil_center_global,\n",
    "                    'bounding_box': bounding_box\n",
    "                }\n",
    "                processed_data.append(eye_data)\n",
    "\n",
    "        # Processed data for each eye\n",
    "    for eye_data in processed_data:\n",
    "        if eye_data['eye_position'] == 'left':\n",
    "            left_eye_info = eye_data['pupil_center']\n",
    "            left_eye_bbox = eye_data['bounding_box']\n",
    "        else:\n",
    "            right_eye_info = eye_data['pupil_center']\n",
    "            right_eye_bbox = eye_data['bounding_box']\n",
    "    \n",
    "    # Check if any eye information was detected\n",
    "    if left_eye_info is None and right_eye_info is None:\n",
    "        print(\"No eye information detected\")\n",
    "        return None\n",
    "\n",
    "    return processed_data, left_eye_info, right_eye_info, left_eye_bbox, right_eye_bbox, shape\n",
    "    "
   ]
  },
  {
   "cell_type": "code",
   "execution_count": 5,
   "metadata": {},
   "outputs": [
    {
     "name": "stdout",
     "output_type": "stream",
     "text": [
      "315 269\n",
      "277 243\n",
      "1529.0\n",
      "361 269\n",
      "323 243\n",
      "40.0\n"
     ]
    },
    {
     "data": {
      "text/plain": [
       "([{'eye_position': 'left',\n",
       "   'pupil_center': (296, 256),\n",
       "   'bounding_box': (277, 243, 38, 26)},\n",
       "  {'eye_position': 'right',\n",
       "   'pupil_center': (323, 255),\n",
       "   'bounding_box': (323, 243, 38, 26)}],\n",
       " (296, 256),\n",
       " (323, 255),\n",
       " (277, 243, 38, 26),\n",
       " (323, 243, 38, 26),\n",
       " <_dlib_pybind11.full_object_detection at 0x145cb661230>)"
      ]
     },
     "execution_count": 5,
     "metadata": {},
     "output_type": "execute_result"
    }
   ],
   "source": [
    "image = 'data/WilliamOld/images/eye_head_capture_1702669180.1003327.png'\n",
    "pre_process_image(cv2.imread(image))\n",
    "# # Load your image here\n",
    "# image = cv2.imread(image)\n",
    "# eye_image = extract_eye_region(image)\n"
   ]
  },
  {
   "cell_type": "code",
   "execution_count": null,
   "metadata": {},
   "outputs": [],
   "source": []
  }
 ],
 "metadata": {
  "kernelspec": {
   "display_name": "Python(data_processing)",
   "language": "python",
   "name": "data_processing"
  },
  "language_info": {
   "codemirror_mode": {
    "name": "ipython",
    "version": 3
   },
   "file_extension": ".py",
   "mimetype": "text/x-python",
   "name": "python",
   "nbconvert_exporter": "python",
   "pygments_lexer": "ipython3",
   "version": "3.11.2"
  }
 },
 "nbformat": 4,
 "nbformat_minor": 2
}
