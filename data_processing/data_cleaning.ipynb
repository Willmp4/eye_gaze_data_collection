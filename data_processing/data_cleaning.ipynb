{
 "cells": [
  {
   "cell_type": "code",
   "execution_count": 70,
   "metadata": {},
   "outputs": [
    {
     "data": {
      "text/plain": [
       "True"
      ]
     },
     "execution_count": 70,
     "metadata": {},
     "output_type": "execute_result"
    }
   ],
   "source": [
    "import cv2\n",
    "import numpy as np\n",
    "\n",
    "MIN_HEIGHT = 100\n",
    "MIN_WIDTH = 100\n",
    "MIN_BRIGHTNESS = 50\n",
    "\n",
    "\n",
    "def check_image_quality(image_path):\n",
    "    try:\n",
    "        image = cv2.imread(image_path)\n",
    "        if image is None:\n",
    "            print(f\"Image not found or could not be loaded: {image_path}\")\n",
    "            return False\n",
    "\n",
    "\n",
    "        if image.shape[0] < MIN_HEIGHT or image.shape[1] < MIN_WIDTH:\n",
    "            return False\n",
    "\n",
    "        # Example: check if the image is too dar\n",
    "        if np.mean(image) < MIN_BRIGHTNESS:\n",
    "            return False\n",
    "\n",
    "        return True\n",
    "    except Exception as e:\n",
    "        print(f\"Error checking image quality: {e}\")\n",
    "        return False\n",
    "\n",
    "# Usage\n",
    "is_good_quality = check_image_quality('data/William/images/William_04f57bf9-74b4-4269-adcc-6d7096345f86.png')\n",
    "is_good_quality"
   ]
  },
  {
   "cell_type": "code",
   "execution_count": 71,
   "metadata": {},
   "outputs": [],
   "source": [
    "def check_eye_region(image, eye_box):\n",
    "    \"\"\"\n",
    "    Check if the eye region defined by the bounding box is valid.\n",
    "    Args:\n",
    "        image: The image in which the eye region is located.\n",
    "        eye_box: The bounding box of the eye region in the format [x, y, width, height].\n",
    "    \n",
    "    Returns:\n",
    "        bool: True if the eye region is valid, False otherwise.\n",
    "    \"\"\"\n",
    "    x, y, width, height = eye_box\n",
    "    if x < 0 or y < 0 or width <= 0 or height <= 0:\n",
    "        return False\n",
    "    if x + width > image.shape[1] or y + height > image.shape[0]:\n",
    "        return False\n",
    "    return True\n"
   ]
  },
  {
   "cell_type": "code",
   "execution_count": 105,
   "metadata": {},
   "outputs": [],
   "source": [
    "import numpy as np\n",
    "\n",
    "def compare_with_perfect_user(participant_eye_data, perfect_user_eye_data):\n",
    "    \"\"\"\n",
    "    Compare the participant's eye data with the perfect user's eye data.\n",
    "    Args:\n",
    "        participant_eye_data (list): The eye box and pupil data for the participant.\n",
    "        perfect_user_eye_data (list): The eye box and pupil data for the perfect user.\n",
    "\n",
    "    Returns:\n",
    "        bool: True if the participant data is within an acceptable range of the perfect user data.\n",
    "    \"\"\"\n",
    "    # Normalize data if needed (example, you may need to adjust this)\n",
    "    # participant_eye_data = normalize(participant_eye_data)\n",
    "    # perfect_user_eye_data = normalize(perfect_user_eye_data)\n",
    "\n",
    "    # Calculate standard deviation for the perfect user data\n",
    "    std_deviation = np.std(perfect_user_eye_data)\n",
    "\n",
    "    # Calculate deviation for each data point and compare with a dynamic threshold\n",
    "    for p_data, pu_data in zip(participant_eye_data, perfect_user_eye_data):\n",
    "        deviation = abs(p_data - pu_data)\n",
    "\n",
    "        threshold = std_deviation * 0.5\n",
    "\n",
    "        if deviation > threshold:\n",
    "            return False\n",
    "\n",
    "    return True\n"
   ]
  },
  {
   "cell_type": "code",
   "execution_count": 107,
   "metadata": {},
   "outputs": [],
   "source": [
    "def extract_key_from_filename(filename):\n",
    "    # This is where you extract the matching part of the filename.\n",
    "    # It's an example, you'll need to define how to extract the matching key.\n",
    "    return filename.split('_')[1]\n"
   ]
  },
  {
   "cell_type": "code",
   "execution_count": 108,
   "metadata": {},
   "outputs": [],
   "source": [
    "def normalize_eye_data(x, y, screen_width, screen_height):\n",
    "    return x / screen_width, y / screen_height\n"
   ]
  },
  {
   "cell_type": "code",
   "execution_count": 109,
   "metadata": {},
   "outputs": [],
   "source": [
    "def load_user_data(user_data_path, screen_width, screen_height):\n",
    "    user_data = {}\n",
    "\n",
    "    try:\n",
    "        with open(user_data_path, 'r') as f:\n",
    "            for line in f:\n",
    "                parts = line.strip().split(',')\n",
    "                if len(parts) < 15:\n",
    "                    continue\n",
    "\n",
    "                raw_x, raw_y = parts[1:3]\n",
    "                calibration_points = normalize_eye_data(int(raw_x), int(raw_y), screen_width, screen_height)\n",
    "                eye_box_pupil_data = list(map(float, parts[3:15]))\n",
    "                \n",
    "                user_data[calibration_points] = eye_box_pupil_data\n",
    "    except Exception as e:\n",
    "        print(f\"Error loading user data: {e}\")\n",
    "\n",
    "    return user_data\n"
   ]
  },
  {
   "cell_type": "code",
   "execution_count": 113,
   "metadata": {},
   "outputs": [
    {
     "name": "stdout",
     "output_type": "stream",
     "text": [
      "Data for calibration points (0.015625, 0.027777777777777776) is invalid\n",
      "Data for calibration points (0.015625, 0.9722222222222222) is invalid\n",
      "Data for calibration points (0.984375, 0.027777777777777776) is invalid\n",
      "Data for calibration points (0.984375, 0.9722222222222222) is invalid\n",
      "Data for calibration points (0.13671875, 0.14583333333333334) is invalid\n",
      "Data for calibration points (0.13671875, 0.2638888888888889) is invalid\n",
      "Data for calibration points (0.13671875, 0.3819444444444444) is invalid\n",
      "Data for calibration points (0.13671875, 0.5) is invalid\n",
      "Data for calibration points (0.13671875, 0.6180555555555556) is invalid\n",
      "Data for calibration points (0.13671875, 0.7361111111111112) is invalid\n",
      "Data for calibration points (0.13671875, 0.8541666666666666) is invalid\n",
      "Data for calibration points (0.2578125, 0.14583333333333334) is invalid\n",
      "Data for calibration points (0.2578125, 0.2638888888888889) is invalid\n",
      "Data for calibration points (0.2578125, 0.3819444444444444) is invalid\n",
      "Data for calibration points (0.2578125, 0.5) is invalid\n",
      "Data for calibration points (0.2578125, 0.6180555555555556) is invalid\n",
      "Data for calibration points (0.2578125, 0.7361111111111112) is invalid\n",
      "Data for calibration points (0.2578125, 0.8541666666666666) is invalid\n",
      "Data for calibration points (0.37890625, 0.14583333333333334) is invalid\n",
      "Data for calibration points (0.37890625, 0.2638888888888889) is invalid\n",
      "Data for calibration points (0.37890625, 0.3819444444444444) is invalid\n",
      "Data for calibration points (0.37890625, 0.5) is invalid\n",
      "Data for calibration points (0.37890625, 0.6180555555555556) is invalid\n",
      "Data for calibration points (0.37890625, 0.7361111111111112) is invalid\n",
      "Data for calibration points (0.37890625, 0.8541666666666666) is invalid\n",
      "Data for calibration points (0.5, 0.14583333333333334) is invalid\n",
      "Data for calibration points (0.5, 0.2638888888888889) is invalid\n",
      "Data for calibration points (0.5, 0.3819444444444444) is invalid\n",
      "Data for calibration points (0.5, 0.5) is invalid\n",
      "Data for calibration points (0.5, 0.6180555555555556) is invalid\n",
      "Data for calibration points (0.5, 0.7361111111111112) is invalid\n",
      "Data for calibration points (0.5, 0.8541666666666666) is invalid\n",
      "Data for calibration points (0.62109375, 0.14583333333333334) is invalid\n",
      "Data for calibration points (0.62109375, 0.2638888888888889) is invalid\n",
      "Data for calibration points (0.62109375, 0.3819444444444444) is invalid\n",
      "Data for calibration points (0.62109375, 0.5) is invalid\n",
      "Data for calibration points (0.62109375, 0.6180555555555556) is invalid\n",
      "Data for calibration points (0.62109375, 0.7361111111111112) is invalid\n",
      "Data for calibration points (0.62109375, 0.8541666666666666) is invalid\n",
      "Data for calibration points (0.7421875, 0.14583333333333334) is invalid\n",
      "Data for calibration points (0.7421875, 0.2638888888888889) is invalid\n",
      "Data for calibration points (0.7421875, 0.3819444444444444) is invalid\n",
      "Data for calibration points (0.7421875, 0.5) is invalid\n",
      "Data for calibration points (0.7421875, 0.6180555555555556) is invalid\n",
      "Data for calibration points (0.7421875, 0.7361111111111112) is invalid\n",
      "Data for calibration points (0.7421875, 0.8541666666666666) is invalid\n",
      "Data for calibration points (0.86328125, 0.14583333333333334) is invalid\n",
      "Data for calibration points (0.86328125, 0.2638888888888889) is invalid\n",
      "Data for calibration points (0.86328125, 0.3819444444444444) is invalid\n",
      "Data for calibration points (0.86328125, 0.5) is invalid\n",
      "Data for calibration points (0.86328125, 0.6180555555555556) is invalid\n",
      "Data for calibration points (0.86328125, 0.7361111111111112) is invalid\n",
      "Calibration points (0.86328125, 0.8541666666666666) are not in the perfect user data within tolerance\n"
     ]
    }
   ],
   "source": [
    "partisipant_data = load_user_data('data/Shaq/calibration_data.csv', 1280,720)\n",
    "perfect_user_data = load_user_data('data/William/calibration_data.csv', 1707,960)\n",
    "\n",
    "def is_within_tolerance(point1, point2, tolerance=0.01):\n",
    "    \"\"\"\n",
    "    Check if point1 is within a certain tolerance of point2.\n",
    "    Args:\n",
    "        point1 (tuple): The first point (x, y).\n",
    "        point2 (tuple): The second point (x, y).\n",
    "        tolerance (float): The acceptable tolerance.\n",
    "\n",
    "    Returns:\n",
    "        bool: True if point1 is within the tolerance of point2.\n",
    "    \"\"\"\n",
    "    return abs(point1[0] - point2[0]) <= tolerance and abs(point1[1] - point2[1]) <= tolerance\n",
    "\n",
    "# Compare the data with tolerance\n",
    "for calibration_points, eye_box_pupil_data in partisipant_data.items():\n",
    "    found_match = False\n",
    "    for perfect_calibration_points in perfect_user_data:\n",
    "        if is_within_tolerance(calibration_points, perfect_calibration_points):\n",
    "            perfect_user_eye_box_pupil_data = perfect_user_data[perfect_calibration_points]\n",
    "            if compare_with_perfect_user(eye_box_pupil_data, perfect_user_eye_box_pupil_data):\n",
    "                print(f\"Data for calibration points {calibration_points} is valid\")\n",
    "            else:\n",
    "                print(f\"Data for calibration points {calibration_points} is invalid\")\n",
    "            found_match = True\n",
    "            break\n",
    "\n",
    "    if not found_match:\n",
    "        print(f\"Calibration points {calibration_points} are not in the perfect user data within tolerance\")\n"
   ]
  },
  {
   "cell_type": "code",
   "execution_count": null,
   "metadata": {},
   "outputs": [],
   "source": []
  },
  {
   "cell_type": "code",
   "execution_count": null,
   "metadata": {},
   "outputs": [],
   "source": []
  }
 ],
 "metadata": {
  "kernelspec": {
   "display_name": "Python (data_processing)",
   "language": "python",
   "name": "data_processing"
  },
  "language_info": {
   "codemirror_mode": {
    "name": "ipython",
    "version": 3
   },
   "file_extension": ".py",
   "mimetype": "text/x-python",
   "name": "python",
   "nbconvert_exporter": "python",
   "pygments_lexer": "ipython3",
   "version": "3.10.13"
  }
 },
 "nbformat": 4,
 "nbformat_minor": 2
}
